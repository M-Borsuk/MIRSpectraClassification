{
  "nbformat": 4,
  "nbformat_minor": 0,
  "metadata": {
    "colab": {
      "name": "MIRMeatsClassification.ipynb",
      "provenance": [],
      "collapsed_sections": [],
      "toc_visible": true,
      "mount_file_id": "https://github.com/M-Borsuk/MIRSpectraClassification/blob/main/MIRMeatsClassification.ipynb",
      "authorship_tag": "ABX9TyMKOlj0jtMcjIgIGBjrNzsN",
      "include_colab_link": true
    },
    "kernelspec": {
      "name": "python3",
      "display_name": "Python 3"
    }
  },
  "cells": [
    {
      "cell_type": "markdown",
      "metadata": {
        "id": "view-in-github",
        "colab_type": "text"
      },
      "source": [
        "<a href=\"https://colab.research.google.com/github/M-Borsuk/MIRSpectraClassification/blob/main/MIRMeatsClassification.ipynb\" target=\"_parent\"><img src=\"https://colab.research.google.com/assets/colab-badge.svg\" alt=\"Open In Colab\"/></a>"
      ]
    },
    {
      "cell_type": "markdown",
      "metadata": {
        "id": "v0KMSDI_EGux"
      },
      "source": [
        "# **Read the original paper about this dataset!**\n",
        "\n",
        "[Mid-infrared spectroscopy and authenticity problems in selected meats: a feasibility study](https://www.sciencedirect.com/science/article/abs/pii/S0308814696002890?via%3Dihub)\n",
        "\n",
        "O. Al-Jowder, E.K. Kemsley, R.H. Wilson,\n",
        "Mid-infrared spectroscopy and authenticity problems in selected meats: a feasibility study,\n",
        "Food Chemistry,\n",
        "Volume 59, Issue 2,\n",
        "1997,\n",
        "Pages 195-201,\n",
        "ISSN 0308-8146\n",
        "\n"
      ]
    },
    {
      "cell_type": "markdown",
      "metadata": {
        "id": "24maiKI-IE_e"
      },
      "source": [
        "# **Download the dataset**\n",
        "https://csr.quadram.ac.uk/example-datasets-for-download/"
      ]
    },
    {
      "cell_type": "markdown",
      "metadata": {
        "id": "j0R8MyBasv3b"
      },
      "source": [
        "# **General Imports**"
      ]
    },
    {
      "cell_type": "code",
      "metadata": {
        "id": "7vaoMt9POxiq",
        "colab": {
          "base_uri": "https://localhost:8080/"
        },
        "outputId": "929eb4c4-3f07-4e4e-d212-0d249c541162"
      },
      "source": [
        "!pip install plotly\n",
        "!pip install xgboost"
      ],
      "execution_count": 25,
      "outputs": [
        {
          "output_type": "stream",
          "text": [
            "Requirement already satisfied: plotly in /usr/local/lib/python3.6/dist-packages (4.4.1)\n",
            "Requirement already satisfied: six in /usr/local/lib/python3.6/dist-packages (from plotly) (1.15.0)\n",
            "Requirement already satisfied: retrying>=1.3.3 in /usr/local/lib/python3.6/dist-packages (from plotly) (1.3.3)\n",
            "Requirement already satisfied: xgboost in /usr/local/lib/python3.6/dist-packages (0.90)\n",
            "Requirement already satisfied: scipy in /usr/local/lib/python3.6/dist-packages (from xgboost) (1.4.1)\n",
            "Requirement already satisfied: numpy in /usr/local/lib/python3.6/dist-packages (from xgboost) (1.18.5)\n"
          ],
          "name": "stdout"
        }
      ]
    },
    {
      "cell_type": "code",
      "metadata": {
        "id": "FdvkvbWr0PQ8"
      },
      "source": [
        "import pandas as pd\n",
        "import numpy as np\n",
        "import seaborn as sns\n",
        "from pylab import rcParams\n",
        "import matplotlib.pyplot as plt\n",
        "from sklearn.decomposition import PCA\n",
        "from sklearn.preprocessing import LabelEncoder, StandardScaler\n",
        "import plotly.express as px\n",
        "import plotly.graph_objects as go\n",
        "import plotly.io as pio\n",
        "from sklearn.model_selection import train_test_split,cross_val_score,GridSearchCV\n",
        "from sklearn.linear_model import LogisticRegression\n",
        "from sklearn.ensemble import RandomForestClassifier\n",
        "from sklearn.svm import SVC\n",
        "from sklearn.naive_bayes import GaussianNB\n",
        "from sklearn.neighbors import KNeighborsClassifier\n",
        "import xgboost as xgb\n",
        "from sklearn.metrics import classification_report,confusion_matrix,roc_auc_score\n",
        "import warnings\n",
        "import statsmodels.api as sm\n",
        "import pickle\n",
        "warnings.filterwarnings(\"ignore\")"
      ],
      "execution_count": 26,
      "outputs": []
    },
    {
      "cell_type": "code",
      "metadata": {
        "id": "efL5Lfg9s3TZ"
      },
      "source": [
        "#For the jupyterLab\n",
        "pio.renderers.default = \"notebook_connected\"\n",
        "#For google colab\n",
        "#pio.renderers.default = \"colab\""
      ],
      "execution_count": 27,
      "outputs": []
    },
    {
      "cell_type": "code",
      "metadata": {
        "id": "mkqYZjM4s5sN"
      },
      "source": [
        "sns.set(\"paper\",\"ticks\")\n",
        "sns.color_palette(\"tab10\")\n",
        "rcParams['figure.figsize'] = 16,8"
      ],
      "execution_count": 28,
      "outputs": []
    },
    {
      "cell_type": "code",
      "metadata": {
        "id": "QAd127rJ0RvI"
      },
      "source": [
        "df = pd.read_csv(\"/content/drive/MyDrive/MIRFreshMeats.csv\")"
      ],
      "execution_count": 29,
      "outputs": []
    },
    {
      "cell_type": "code",
      "metadata": {
        "id": "SkMhCjT46QD9",
        "colab": {
          "base_uri": "https://localhost:8080/",
          "height": 253
        },
        "outputId": "4c61989d-5127-4537-d064-908c40f6b15e"
      },
      "source": [
        "df.head()"
      ],
      "execution_count": 30,
      "outputs": [
        {
          "output_type": "execute_result",
          "data": {
            "text/html": [
              "<div>\n",
              "<style scoped>\n",
              "    .dataframe tbody tr th:only-of-type {\n",
              "        vertical-align: middle;\n",
              "    }\n",
              "\n",
              "    .dataframe tbody tr th {\n",
              "        vertical-align: top;\n",
              "    }\n",
              "\n",
              "    .dataframe thead th {\n",
              "        text-align: right;\n",
              "    }\n",
              "</style>\n",
              "<table border=\"1\" class=\"dataframe\">\n",
              "  <thead>\n",
              "    <tr style=\"text-align: right;\">\n",
              "      <th></th>\n",
              "      <th>Wavenumbers</th>\n",
              "      <th>FreshChicken_SupplierA_Sample1_RunA</th>\n",
              "      <th>FreshChicken_SupplierA_Sample1_RunB</th>\n",
              "      <th>FreshChicken_SupplierA_Sample2_RunA</th>\n",
              "      <th>FreshChicken_SupplierA_Sample2_RunB</th>\n",
              "      <th>FreshChicken_SupplierA_Sample3_RunA</th>\n",
              "      <th>FreshChicken_SupplierA_Sample3_RunB</th>\n",
              "      <th>FreshChicken_SupplierA_Sample4_RunA</th>\n",
              "      <th>FreshChicken_SupplierA_Sample4_RunB</th>\n",
              "      <th>FreshChicken_SupplierA_Sample5_RunA</th>\n",
              "      <th>FreshChicken_SupplierA_Sample5_RunB</th>\n",
              "      <th>FreshChicken_SupplierB_Sample1_RunA</th>\n",
              "      <th>FreshChicken_SupplierB_Sample1_RunB</th>\n",
              "      <th>FreshChicken_SupplierB_Sample2_RunA</th>\n",
              "      <th>FreshChicken_SupplierB_Sample2_RunB</th>\n",
              "      <th>FreshChicken_SupplierB_Sample3_RunA</th>\n",
              "      <th>FreshChicken_SupplierB_Sample3_RunB</th>\n",
              "      <th>FreshChicken_SupplierB_Sample4_RunA</th>\n",
              "      <th>FreshChicken_SupplierB_Sample4_RunB</th>\n",
              "      <th>FreshChicken_SupplierB_Sample5_RunA</th>\n",
              "      <th>FreshChicken_SupplierB_Sample5_RunB</th>\n",
              "      <th>FreshChicken_SupplierC_Sample1_RunA</th>\n",
              "      <th>FreshChicken_SupplierC_Sample1_RunB</th>\n",
              "      <th>FreshChicken_SupplierC_Sample2_RunA</th>\n",
              "      <th>FreshChicken_SupplierC_Sample2_RunB</th>\n",
              "      <th>FreshChicken_SupplierC_Sample3_RunA</th>\n",
              "      <th>FreshChicken_SupplierC_Sample3_RunB</th>\n",
              "      <th>FreshChicken_SupplierC_Sample4_RunA</th>\n",
              "      <th>FreshChicken_SupplierC_Sample4_RunB</th>\n",
              "      <th>FreshChicken_SupplierC_Sample5_RunA</th>\n",
              "      <th>FreshChicken_SupplierC_Sample5_RunB</th>\n",
              "      <th>FreshChicken_SupplierD_Sample1_RunA</th>\n",
              "      <th>FreshChicken_SupplierD_Sample1_RunB</th>\n",
              "      <th>FreshChicken_SupplierD_Sample2_RunA</th>\n",
              "      <th>FreshChicken_SupplierD_Sample2_RunB</th>\n",
              "      <th>FreshChicken_SupplierD_Sample3_RunA</th>\n",
              "      <th>FreshChicken_SupplierD_Sample3_RunB</th>\n",
              "      <th>FreshChicken_SupplierD_Sample4_RunA</th>\n",
              "      <th>FreshChicken_SupplierD_Sample4_RunB</th>\n",
              "      <th>FreshChicken_SupplierD_Sample5_RunA</th>\n",
              "      <th>...</th>\n",
              "      <th>FreshTurkey_SupplierE_Sample10_RunA</th>\n",
              "      <th>FreshTurkey_SupplierE_Sample10_RunB</th>\n",
              "      <th>FreshTurkey_SupplierE_Sample11_RunA</th>\n",
              "      <th>FreshTurkey_SupplierE_Sample11_RunB</th>\n",
              "      <th>FreshTurkey_SupplierE_Sample12_RunA</th>\n",
              "      <th>FreshTurkey_SupplierE_Sample12_RunB</th>\n",
              "      <th>FreshTurkey_SupplierE_Sample13_RunA</th>\n",
              "      <th>FreshTurkey_SupplierE_Sample13_RunB</th>\n",
              "      <th>FreshTurkey_SupplierE_Sample14_RunA</th>\n",
              "      <th>FreshTurkey_SupplierE_Sample14_RunB</th>\n",
              "      <th>FreshTurkey_SupplierE_Sample15_RunA</th>\n",
              "      <th>FreshTurkey_SupplierE_Sample15_RunB</th>\n",
              "      <th>FreshTurkey_SupplierE_Sample16_RunA</th>\n",
              "      <th>FreshTurkey_SupplierE_Sample16_RunB</th>\n",
              "      <th>FreshTurkey_SupplierE_Sample17_RunA</th>\n",
              "      <th>FreshTurkey_SupplierE_Sample17_RunB</th>\n",
              "      <th>FreshTurkey_SupplierE_Sample18_RunA</th>\n",
              "      <th>FreshTurkey_SupplierE_Sample18_RunB</th>\n",
              "      <th>FreshTurkey_SupplierE_Sample19_RunA</th>\n",
              "      <th>FreshTurkey_SupplierE_Sample19_RunB</th>\n",
              "      <th>FreshTurkey_SupplierE_Sample1_RunA</th>\n",
              "      <th>FreshTurkey_SupplierE_Sample1_RunB</th>\n",
              "      <th>FreshTurkey_SupplierE_Sample20_RunA</th>\n",
              "      <th>FreshTurkey_SupplierE_Sample20_RunB</th>\n",
              "      <th>FreshTurkey_SupplierE_Sample2_RunA</th>\n",
              "      <th>FreshTurkey_SupplierE_Sample2_RunB</th>\n",
              "      <th>FreshTurkey_SupplierE_Sample3_RunA</th>\n",
              "      <th>FreshTurkey_SupplierE_Sample3_RunB</th>\n",
              "      <th>FreshTurkey_SupplierE_Sample4_RunA</th>\n",
              "      <th>FreshTurkey_SupplierE_Sample4_RunB</th>\n",
              "      <th>FreshTurkey_SupplierE_Sample5_RunA</th>\n",
              "      <th>FreshTurkey_SupplierE_Sample5_RunB</th>\n",
              "      <th>FreshTurkey_SupplierE_Sample6_RunA</th>\n",
              "      <th>FreshTurkey_SupplierE_Sample6_RunB</th>\n",
              "      <th>FreshTurkey_SupplierE_Sample7_RunA</th>\n",
              "      <th>FreshTurkey_SupplierE_Sample7_RunB</th>\n",
              "      <th>FreshTurkey_SupplierE_Sample8_RunA</th>\n",
              "      <th>FreshTurkey_SupplierE_Sample8_RunB</th>\n",
              "      <th>FreshTurkey_SupplierE_Sample9_RunA</th>\n",
              "      <th>FreshTurkey_SupplierE_Sample9_RunB</th>\n",
              "    </tr>\n",
              "  </thead>\n",
              "  <tbody>\n",
              "    <tr>\n",
              "      <th>0</th>\n",
              "      <td>1005.3495</td>\n",
              "      <td>0.549877</td>\n",
              "      <td>0.566602</td>\n",
              "      <td>0.553335</td>\n",
              "      <td>0.548296</td>\n",
              "      <td>0.551651</td>\n",
              "      <td>0.557280</td>\n",
              "      <td>0.553780</td>\n",
              "      <td>0.552251</td>\n",
              "      <td>0.561114</td>\n",
              "      <td>0.549241</td>\n",
              "      <td>0.547157</td>\n",
              "      <td>0.558213</td>\n",
              "      <td>0.560624</td>\n",
              "      <td>0.566026</td>\n",
              "      <td>0.543528</td>\n",
              "      <td>0.553830</td>\n",
              "      <td>0.546035</td>\n",
              "      <td>0.550592</td>\n",
              "      <td>0.559559</td>\n",
              "      <td>0.553924</td>\n",
              "      <td>0.550099</td>\n",
              "      <td>0.548767</td>\n",
              "      <td>0.559127</td>\n",
              "      <td>0.561291</td>\n",
              "      <td>0.554587</td>\n",
              "      <td>0.556771</td>\n",
              "      <td>0.550815</td>\n",
              "      <td>0.560347</td>\n",
              "      <td>0.559110</td>\n",
              "      <td>0.562103</td>\n",
              "      <td>0.547920</td>\n",
              "      <td>0.551141</td>\n",
              "      <td>0.546862</td>\n",
              "      <td>0.553220</td>\n",
              "      <td>0.556131</td>\n",
              "      <td>0.553550</td>\n",
              "      <td>0.562511</td>\n",
              "      <td>0.557949</td>\n",
              "      <td>0.552925</td>\n",
              "      <td>...</td>\n",
              "      <td>0.536833</td>\n",
              "      <td>0.517938</td>\n",
              "      <td>0.514908</td>\n",
              "      <td>0.526969</td>\n",
              "      <td>0.539373</td>\n",
              "      <td>0.509085</td>\n",
              "      <td>0.522777</td>\n",
              "      <td>0.539177</td>\n",
              "      <td>0.538416</td>\n",
              "      <td>0.524857</td>\n",
              "      <td>0.535587</td>\n",
              "      <td>0.539120</td>\n",
              "      <td>0.533032</td>\n",
              "      <td>0.539751</td>\n",
              "      <td>0.535341</td>\n",
              "      <td>0.533615</td>\n",
              "      <td>0.535239</td>\n",
              "      <td>0.529327</td>\n",
              "      <td>0.529109</td>\n",
              "      <td>0.528056</td>\n",
              "      <td>0.513014</td>\n",
              "      <td>0.534334</td>\n",
              "      <td>0.527977</td>\n",
              "      <td>0.521374</td>\n",
              "      <td>0.526067</td>\n",
              "      <td>0.549928</td>\n",
              "      <td>0.527569</td>\n",
              "      <td>0.495946</td>\n",
              "      <td>0.530926</td>\n",
              "      <td>0.524122</td>\n",
              "      <td>0.532547</td>\n",
              "      <td>0.536945</td>\n",
              "      <td>0.511146</td>\n",
              "      <td>0.543811</td>\n",
              "      <td>0.534511</td>\n",
              "      <td>0.501346</td>\n",
              "      <td>0.551161</td>\n",
              "      <td>0.538457</td>\n",
              "      <td>0.534765</td>\n",
              "      <td>0.534360</td>\n",
              "    </tr>\n",
              "    <tr>\n",
              "      <th>1</th>\n",
              "      <td>1007.2790</td>\n",
              "      <td>0.547642</td>\n",
              "      <td>0.564157</td>\n",
              "      <td>0.551368</td>\n",
              "      <td>0.545831</td>\n",
              "      <td>0.549111</td>\n",
              "      <td>0.554837</td>\n",
              "      <td>0.551598</td>\n",
              "      <td>0.549755</td>\n",
              "      <td>0.559628</td>\n",
              "      <td>0.547029</td>\n",
              "      <td>0.544240</td>\n",
              "      <td>0.555828</td>\n",
              "      <td>0.558432</td>\n",
              "      <td>0.563840</td>\n",
              "      <td>0.541443</td>\n",
              "      <td>0.551488</td>\n",
              "      <td>0.543740</td>\n",
              "      <td>0.547846</td>\n",
              "      <td>0.556786</td>\n",
              "      <td>0.552096</td>\n",
              "      <td>0.547743</td>\n",
              "      <td>0.546278</td>\n",
              "      <td>0.557202</td>\n",
              "      <td>0.558664</td>\n",
              "      <td>0.552816</td>\n",
              "      <td>0.554540</td>\n",
              "      <td>0.549334</td>\n",
              "      <td>0.557663</td>\n",
              "      <td>0.557237</td>\n",
              "      <td>0.560134</td>\n",
              "      <td>0.545508</td>\n",
              "      <td>0.548886</td>\n",
              "      <td>0.544744</td>\n",
              "      <td>0.550875</td>\n",
              "      <td>0.554411</td>\n",
              "      <td>0.551415</td>\n",
              "      <td>0.560309</td>\n",
              "      <td>0.556225</td>\n",
              "      <td>0.551013</td>\n",
              "      <td>...</td>\n",
              "      <td>0.534695</td>\n",
              "      <td>0.515954</td>\n",
              "      <td>0.512855</td>\n",
              "      <td>0.524588</td>\n",
              "      <td>0.537783</td>\n",
              "      <td>0.506544</td>\n",
              "      <td>0.520685</td>\n",
              "      <td>0.536973</td>\n",
              "      <td>0.534960</td>\n",
              "      <td>0.522350</td>\n",
              "      <td>0.533439</td>\n",
              "      <td>0.536546</td>\n",
              "      <td>0.531026</td>\n",
              "      <td>0.537621</td>\n",
              "      <td>0.533072</td>\n",
              "      <td>0.530931</td>\n",
              "      <td>0.532819</td>\n",
              "      <td>0.526887</td>\n",
              "      <td>0.527391</td>\n",
              "      <td>0.525871</td>\n",
              "      <td>0.510792</td>\n",
              "      <td>0.532152</td>\n",
              "      <td>0.525797</td>\n",
              "      <td>0.519632</td>\n",
              "      <td>0.523989</td>\n",
              "      <td>0.547562</td>\n",
              "      <td>0.525367</td>\n",
              "      <td>0.494013</td>\n",
              "      <td>0.528773</td>\n",
              "      <td>0.522492</td>\n",
              "      <td>0.530600</td>\n",
              "      <td>0.534562</td>\n",
              "      <td>0.509693</td>\n",
              "      <td>0.542064</td>\n",
              "      <td>0.531550</td>\n",
              "      <td>0.499397</td>\n",
              "      <td>0.549834</td>\n",
              "      <td>0.536042</td>\n",
              "      <td>0.533392</td>\n",
              "      <td>0.531987</td>\n",
              "    </tr>\n",
              "    <tr>\n",
              "      <th>2</th>\n",
              "      <td>1009.2085</td>\n",
              "      <td>0.546241</td>\n",
              "      <td>0.561647</td>\n",
              "      <td>0.550186</td>\n",
              "      <td>0.544296</td>\n",
              "      <td>0.547683</td>\n",
              "      <td>0.553178</td>\n",
              "      <td>0.550277</td>\n",
              "      <td>0.548385</td>\n",
              "      <td>0.558501</td>\n",
              "      <td>0.546024</td>\n",
              "      <td>0.543979</td>\n",
              "      <td>0.554277</td>\n",
              "      <td>0.556130</td>\n",
              "      <td>0.561928</td>\n",
              "      <td>0.539859</td>\n",
              "      <td>0.548893</td>\n",
              "      <td>0.542346</td>\n",
              "      <td>0.546161</td>\n",
              "      <td>0.555599</td>\n",
              "      <td>0.550191</td>\n",
              "      <td>0.546782</td>\n",
              "      <td>0.544774</td>\n",
              "      <td>0.555996</td>\n",
              "      <td>0.556839</td>\n",
              "      <td>0.551725</td>\n",
              "      <td>0.552538</td>\n",
              "      <td>0.546947</td>\n",
              "      <td>0.555694</td>\n",
              "      <td>0.555823</td>\n",
              "      <td>0.558581</td>\n",
              "      <td>0.544198</td>\n",
              "      <td>0.546869</td>\n",
              "      <td>0.543617</td>\n",
              "      <td>0.549671</td>\n",
              "      <td>0.552903</td>\n",
              "      <td>0.549557</td>\n",
              "      <td>0.558806</td>\n",
              "      <td>0.554176</td>\n",
              "      <td>0.549823</td>\n",
              "      <td>...</td>\n",
              "      <td>0.532925</td>\n",
              "      <td>0.514885</td>\n",
              "      <td>0.510592</td>\n",
              "      <td>0.523074</td>\n",
              "      <td>0.535691</td>\n",
              "      <td>0.505050</td>\n",
              "      <td>0.519137</td>\n",
              "      <td>0.535203</td>\n",
              "      <td>0.532932</td>\n",
              "      <td>0.520458</td>\n",
              "      <td>0.531934</td>\n",
              "      <td>0.534357</td>\n",
              "      <td>0.529270</td>\n",
              "      <td>0.535521</td>\n",
              "      <td>0.531283</td>\n",
              "      <td>0.529327</td>\n",
              "      <td>0.530820</td>\n",
              "      <td>0.524860</td>\n",
              "      <td>0.525349</td>\n",
              "      <td>0.524669</td>\n",
              "      <td>0.509520</td>\n",
              "      <td>0.530415</td>\n",
              "      <td>0.524795</td>\n",
              "      <td>0.518020</td>\n",
              "      <td>0.522150</td>\n",
              "      <td>0.545506</td>\n",
              "      <td>0.523552</td>\n",
              "      <td>0.492485</td>\n",
              "      <td>0.526579</td>\n",
              "      <td>0.520870</td>\n",
              "      <td>0.528720</td>\n",
              "      <td>0.532166</td>\n",
              "      <td>0.508380</td>\n",
              "      <td>0.540603</td>\n",
              "      <td>0.530208</td>\n",
              "      <td>0.497828</td>\n",
              "      <td>0.548640</td>\n",
              "      <td>0.534005</td>\n",
              "      <td>0.532711</td>\n",
              "      <td>0.530389</td>\n",
              "    </tr>\n",
              "    <tr>\n",
              "      <th>3</th>\n",
              "      <td>1011.1380</td>\n",
              "      <td>0.545228</td>\n",
              "      <td>0.559985</td>\n",
              "      <td>0.549358</td>\n",
              "      <td>0.543322</td>\n",
              "      <td>0.546638</td>\n",
              "      <td>0.552443</td>\n",
              "      <td>0.549022</td>\n",
              "      <td>0.546824</td>\n",
              "      <td>0.557524</td>\n",
              "      <td>0.545651</td>\n",
              "      <td>0.541921</td>\n",
              "      <td>0.553079</td>\n",
              "      <td>0.554818</td>\n",
              "      <td>0.560599</td>\n",
              "      <td>0.538788</td>\n",
              "      <td>0.547575</td>\n",
              "      <td>0.540568</td>\n",
              "      <td>0.544325</td>\n",
              "      <td>0.554681</td>\n",
              "      <td>0.548764</td>\n",
              "      <td>0.545857</td>\n",
              "      <td>0.543802</td>\n",
              "      <td>0.554178</td>\n",
              "      <td>0.555975</td>\n",
              "      <td>0.550019</td>\n",
              "      <td>0.550728</td>\n",
              "      <td>0.545058</td>\n",
              "      <td>0.554519</td>\n",
              "      <td>0.554480</td>\n",
              "      <td>0.557564</td>\n",
              "      <td>0.542830</td>\n",
              "      <td>0.545434</td>\n",
              "      <td>0.542610</td>\n",
              "      <td>0.548900</td>\n",
              "      <td>0.551811</td>\n",
              "      <td>0.548227</td>\n",
              "      <td>0.557625</td>\n",
              "      <td>0.552042</td>\n",
              "      <td>0.548402</td>\n",
              "      <td>...</td>\n",
              "      <td>0.531574</td>\n",
              "      <td>0.513290</td>\n",
              "      <td>0.509186</td>\n",
              "      <td>0.521226</td>\n",
              "      <td>0.534272</td>\n",
              "      <td>0.504126</td>\n",
              "      <td>0.517721</td>\n",
              "      <td>0.533254</td>\n",
              "      <td>0.531496</td>\n",
              "      <td>0.518619</td>\n",
              "      <td>0.530855</td>\n",
              "      <td>0.533460</td>\n",
              "      <td>0.527513</td>\n",
              "      <td>0.534163</td>\n",
              "      <td>0.529713</td>\n",
              "      <td>0.527882</td>\n",
              "      <td>0.529979</td>\n",
              "      <td>0.523194</td>\n",
              "      <td>0.523715</td>\n",
              "      <td>0.523474</td>\n",
              "      <td>0.508312</td>\n",
              "      <td>0.529591</td>\n",
              "      <td>0.523808</td>\n",
              "      <td>0.516681</td>\n",
              "      <td>0.520703</td>\n",
              "      <td>0.544514</td>\n",
              "      <td>0.522146</td>\n",
              "      <td>0.491601</td>\n",
              "      <td>0.525192</td>\n",
              "      <td>0.518970</td>\n",
              "      <td>0.526907</td>\n",
              "      <td>0.530674</td>\n",
              "      <td>0.506662</td>\n",
              "      <td>0.539123</td>\n",
              "      <td>0.529284</td>\n",
              "      <td>0.496427</td>\n",
              "      <td>0.546581</td>\n",
              "      <td>0.533026</td>\n",
              "      <td>0.531043</td>\n",
              "      <td>0.529357</td>\n",
              "    </tr>\n",
              "    <tr>\n",
              "      <th>4</th>\n",
              "      <td>1013.0675</td>\n",
              "      <td>0.544197</td>\n",
              "      <td>0.559094</td>\n",
              "      <td>0.548730</td>\n",
              "      <td>0.542496</td>\n",
              "      <td>0.545760</td>\n",
              "      <td>0.551833</td>\n",
              "      <td>0.547806</td>\n",
              "      <td>0.545845</td>\n",
              "      <td>0.557602</td>\n",
              "      <td>0.545029</td>\n",
              "      <td>0.543134</td>\n",
              "      <td>0.552099</td>\n",
              "      <td>0.553710</td>\n",
              "      <td>0.559209</td>\n",
              "      <td>0.537814</td>\n",
              "      <td>0.546467</td>\n",
              "      <td>0.539088</td>\n",
              "      <td>0.543016</td>\n",
              "      <td>0.553845</td>\n",
              "      <td>0.547863</td>\n",
              "      <td>0.545125</td>\n",
              "      <td>0.542848</td>\n",
              "      <td>0.553077</td>\n",
              "      <td>0.555389</td>\n",
              "      <td>0.548645</td>\n",
              "      <td>0.549475</td>\n",
              "      <td>0.544715</td>\n",
              "      <td>0.553825</td>\n",
              "      <td>0.554037</td>\n",
              "      <td>0.557069</td>\n",
              "      <td>0.541511</td>\n",
              "      <td>0.544525</td>\n",
              "      <td>0.541544</td>\n",
              "      <td>0.547946</td>\n",
              "      <td>0.551715</td>\n",
              "      <td>0.547187</td>\n",
              "      <td>0.556066</td>\n",
              "      <td>0.551064</td>\n",
              "      <td>0.546760</td>\n",
              "      <td>...</td>\n",
              "      <td>0.531257</td>\n",
              "      <td>0.512346</td>\n",
              "      <td>0.508599</td>\n",
              "      <td>0.520000</td>\n",
              "      <td>0.533356</td>\n",
              "      <td>0.503194</td>\n",
              "      <td>0.516758</td>\n",
              "      <td>0.531621</td>\n",
              "      <td>0.530154</td>\n",
              "      <td>0.516886</td>\n",
              "      <td>0.529495</td>\n",
              "      <td>0.532810</td>\n",
              "      <td>0.526210</td>\n",
              "      <td>0.533419</td>\n",
              "      <td>0.529017</td>\n",
              "      <td>0.526497</td>\n",
              "      <td>0.529095</td>\n",
              "      <td>0.522155</td>\n",
              "      <td>0.522759</td>\n",
              "      <td>0.522148</td>\n",
              "      <td>0.507417</td>\n",
              "      <td>0.528645</td>\n",
              "      <td>0.522514</td>\n",
              "      <td>0.515893</td>\n",
              "      <td>0.519755</td>\n",
              "      <td>0.543822</td>\n",
              "      <td>0.521185</td>\n",
              "      <td>0.490898</td>\n",
              "      <td>0.524435</td>\n",
              "      <td>0.518100</td>\n",
              "      <td>0.525360</td>\n",
              "      <td>0.529700</td>\n",
              "      <td>0.506025</td>\n",
              "      <td>0.538065</td>\n",
              "      <td>0.528028</td>\n",
              "      <td>0.495360</td>\n",
              "      <td>0.544913</td>\n",
              "      <td>0.531814</td>\n",
              "      <td>0.529170</td>\n",
              "      <td>0.528306</td>\n",
              "    </tr>\n",
              "  </tbody>\n",
              "</table>\n",
              "<p>5 rows × 121 columns</p>\n",
              "</div>"
            ],
            "text/plain": [
              "   Wavenumbers  ...  FreshTurkey_SupplierE_Sample9_RunB  \n",
              "0    1005.3495  ...                              0.534360\n",
              "1    1007.2790  ...                              0.531987\n",
              "2    1009.2085  ...                              0.530389\n",
              "3    1011.1380  ...                              0.529357\n",
              "4    1013.0675  ...                              0.528306\n",
              "\n",
              "[5 rows x 121 columns]"
            ]
          },
          "metadata": {
            "tags": []
          },
          "execution_count": 30
        }
      ]
    },
    {
      "cell_type": "code",
      "metadata": {
        "id": "n3EmWtxl9cWR",
        "colab": {
          "base_uri": "https://localhost:8080/"
        },
        "outputId": "29b4d437-70c5-46ea-da85-5cc71d45b6fe"
      },
      "source": [
        "df.info()"
      ],
      "execution_count": 31,
      "outputs": [
        {
          "output_type": "stream",
          "text": [
            "<class 'pandas.core.frame.DataFrame'>\n",
            "RangeIndex: 448 entries, 0 to 447\n",
            "Columns: 121 entries, Wavenumbers to FreshTurkey_SupplierE_Sample9_RunB  \n",
            "dtypes: float64(121)\n",
            "memory usage: 423.6 KB\n"
          ],
          "name": "stdout"
        }
      ]
    },
    {
      "cell_type": "code",
      "metadata": {
        "id": "eFqFJ0Vq9VOy",
        "colab": {
          "base_uri": "https://localhost:8080/",
          "height": 346
        },
        "outputId": "3e7eaa73-159b-4737-bfef-7f337c4af579"
      },
      "source": [
        "df.describe()"
      ],
      "execution_count": 32,
      "outputs": [
        {
          "output_type": "execute_result",
          "data": {
            "text/html": [
              "<div>\n",
              "<style scoped>\n",
              "    .dataframe tbody tr th:only-of-type {\n",
              "        vertical-align: middle;\n",
              "    }\n",
              "\n",
              "    .dataframe tbody tr th {\n",
              "        vertical-align: top;\n",
              "    }\n",
              "\n",
              "    .dataframe thead th {\n",
              "        text-align: right;\n",
              "    }\n",
              "</style>\n",
              "<table border=\"1\" class=\"dataframe\">\n",
              "  <thead>\n",
              "    <tr style=\"text-align: right;\">\n",
              "      <th></th>\n",
              "      <th>Wavenumbers</th>\n",
              "      <th>FreshChicken_SupplierA_Sample1_RunA</th>\n",
              "      <th>FreshChicken_SupplierA_Sample1_RunB</th>\n",
              "      <th>FreshChicken_SupplierA_Sample2_RunA</th>\n",
              "      <th>FreshChicken_SupplierA_Sample2_RunB</th>\n",
              "      <th>FreshChicken_SupplierA_Sample3_RunA</th>\n",
              "      <th>FreshChicken_SupplierA_Sample3_RunB</th>\n",
              "      <th>FreshChicken_SupplierA_Sample4_RunA</th>\n",
              "      <th>FreshChicken_SupplierA_Sample4_RunB</th>\n",
              "      <th>FreshChicken_SupplierA_Sample5_RunA</th>\n",
              "      <th>FreshChicken_SupplierA_Sample5_RunB</th>\n",
              "      <th>FreshChicken_SupplierB_Sample1_RunA</th>\n",
              "      <th>FreshChicken_SupplierB_Sample1_RunB</th>\n",
              "      <th>FreshChicken_SupplierB_Sample2_RunA</th>\n",
              "      <th>FreshChicken_SupplierB_Sample2_RunB</th>\n",
              "      <th>FreshChicken_SupplierB_Sample3_RunA</th>\n",
              "      <th>FreshChicken_SupplierB_Sample3_RunB</th>\n",
              "      <th>FreshChicken_SupplierB_Sample4_RunA</th>\n",
              "      <th>FreshChicken_SupplierB_Sample4_RunB</th>\n",
              "      <th>FreshChicken_SupplierB_Sample5_RunA</th>\n",
              "      <th>FreshChicken_SupplierB_Sample5_RunB</th>\n",
              "      <th>FreshChicken_SupplierC_Sample1_RunA</th>\n",
              "      <th>FreshChicken_SupplierC_Sample1_RunB</th>\n",
              "      <th>FreshChicken_SupplierC_Sample2_RunA</th>\n",
              "      <th>FreshChicken_SupplierC_Sample2_RunB</th>\n",
              "      <th>FreshChicken_SupplierC_Sample3_RunA</th>\n",
              "      <th>FreshChicken_SupplierC_Sample3_RunB</th>\n",
              "      <th>FreshChicken_SupplierC_Sample4_RunA</th>\n",
              "      <th>FreshChicken_SupplierC_Sample4_RunB</th>\n",
              "      <th>FreshChicken_SupplierC_Sample5_RunA</th>\n",
              "      <th>FreshChicken_SupplierC_Sample5_RunB</th>\n",
              "      <th>FreshChicken_SupplierD_Sample1_RunA</th>\n",
              "      <th>FreshChicken_SupplierD_Sample1_RunB</th>\n",
              "      <th>FreshChicken_SupplierD_Sample2_RunA</th>\n",
              "      <th>FreshChicken_SupplierD_Sample2_RunB</th>\n",
              "      <th>FreshChicken_SupplierD_Sample3_RunA</th>\n",
              "      <th>FreshChicken_SupplierD_Sample3_RunB</th>\n",
              "      <th>FreshChicken_SupplierD_Sample4_RunA</th>\n",
              "      <th>FreshChicken_SupplierD_Sample4_RunB</th>\n",
              "      <th>FreshChicken_SupplierD_Sample5_RunA</th>\n",
              "      <th>...</th>\n",
              "      <th>FreshTurkey_SupplierE_Sample10_RunA</th>\n",
              "      <th>FreshTurkey_SupplierE_Sample10_RunB</th>\n",
              "      <th>FreshTurkey_SupplierE_Sample11_RunA</th>\n",
              "      <th>FreshTurkey_SupplierE_Sample11_RunB</th>\n",
              "      <th>FreshTurkey_SupplierE_Sample12_RunA</th>\n",
              "      <th>FreshTurkey_SupplierE_Sample12_RunB</th>\n",
              "      <th>FreshTurkey_SupplierE_Sample13_RunA</th>\n",
              "      <th>FreshTurkey_SupplierE_Sample13_RunB</th>\n",
              "      <th>FreshTurkey_SupplierE_Sample14_RunA</th>\n",
              "      <th>FreshTurkey_SupplierE_Sample14_RunB</th>\n",
              "      <th>FreshTurkey_SupplierE_Sample15_RunA</th>\n",
              "      <th>FreshTurkey_SupplierE_Sample15_RunB</th>\n",
              "      <th>FreshTurkey_SupplierE_Sample16_RunA</th>\n",
              "      <th>FreshTurkey_SupplierE_Sample16_RunB</th>\n",
              "      <th>FreshTurkey_SupplierE_Sample17_RunA</th>\n",
              "      <th>FreshTurkey_SupplierE_Sample17_RunB</th>\n",
              "      <th>FreshTurkey_SupplierE_Sample18_RunA</th>\n",
              "      <th>FreshTurkey_SupplierE_Sample18_RunB</th>\n",
              "      <th>FreshTurkey_SupplierE_Sample19_RunA</th>\n",
              "      <th>FreshTurkey_SupplierE_Sample19_RunB</th>\n",
              "      <th>FreshTurkey_SupplierE_Sample1_RunA</th>\n",
              "      <th>FreshTurkey_SupplierE_Sample1_RunB</th>\n",
              "      <th>FreshTurkey_SupplierE_Sample20_RunA</th>\n",
              "      <th>FreshTurkey_SupplierE_Sample20_RunB</th>\n",
              "      <th>FreshTurkey_SupplierE_Sample2_RunA</th>\n",
              "      <th>FreshTurkey_SupplierE_Sample2_RunB</th>\n",
              "      <th>FreshTurkey_SupplierE_Sample3_RunA</th>\n",
              "      <th>FreshTurkey_SupplierE_Sample3_RunB</th>\n",
              "      <th>FreshTurkey_SupplierE_Sample4_RunA</th>\n",
              "      <th>FreshTurkey_SupplierE_Sample4_RunB</th>\n",
              "      <th>FreshTurkey_SupplierE_Sample5_RunA</th>\n",
              "      <th>FreshTurkey_SupplierE_Sample5_RunB</th>\n",
              "      <th>FreshTurkey_SupplierE_Sample6_RunA</th>\n",
              "      <th>FreshTurkey_SupplierE_Sample6_RunB</th>\n",
              "      <th>FreshTurkey_SupplierE_Sample7_RunA</th>\n",
              "      <th>FreshTurkey_SupplierE_Sample7_RunB</th>\n",
              "      <th>FreshTurkey_SupplierE_Sample8_RunA</th>\n",
              "      <th>FreshTurkey_SupplierE_Sample8_RunB</th>\n",
              "      <th>FreshTurkey_SupplierE_Sample9_RunA</th>\n",
              "      <th>FreshTurkey_SupplierE_Sample9_RunB</th>\n",
              "    </tr>\n",
              "  </thead>\n",
              "  <tbody>\n",
              "    <tr>\n",
              "      <th>count</th>\n",
              "      <td>448.000000</td>\n",
              "      <td>448.000000</td>\n",
              "      <td>448.000000</td>\n",
              "      <td>448.000000</td>\n",
              "      <td>448.000000</td>\n",
              "      <td>448.000000</td>\n",
              "      <td>448.000000</td>\n",
              "      <td>448.000000</td>\n",
              "      <td>448.000000</td>\n",
              "      <td>448.000000</td>\n",
              "      <td>448.000000</td>\n",
              "      <td>448.000000</td>\n",
              "      <td>448.000000</td>\n",
              "      <td>448.000000</td>\n",
              "      <td>448.000000</td>\n",
              "      <td>448.000000</td>\n",
              "      <td>448.000000</td>\n",
              "      <td>448.000000</td>\n",
              "      <td>448.000000</td>\n",
              "      <td>448.000000</td>\n",
              "      <td>448.000000</td>\n",
              "      <td>448.000000</td>\n",
              "      <td>448.000000</td>\n",
              "      <td>448.000000</td>\n",
              "      <td>448.000000</td>\n",
              "      <td>448.000000</td>\n",
              "      <td>448.000000</td>\n",
              "      <td>448.000000</td>\n",
              "      <td>448.000000</td>\n",
              "      <td>448.000000</td>\n",
              "      <td>448.000000</td>\n",
              "      <td>448.000000</td>\n",
              "      <td>448.000000</td>\n",
              "      <td>448.000000</td>\n",
              "      <td>448.000000</td>\n",
              "      <td>448.000000</td>\n",
              "      <td>448.000000</td>\n",
              "      <td>448.000000</td>\n",
              "      <td>448.000000</td>\n",
              "      <td>448.000000</td>\n",
              "      <td>...</td>\n",
              "      <td>448.000000</td>\n",
              "      <td>448.000000</td>\n",
              "      <td>448.000000</td>\n",
              "      <td>448.000000</td>\n",
              "      <td>448.000000</td>\n",
              "      <td>448.000000</td>\n",
              "      <td>448.000000</td>\n",
              "      <td>448.000000</td>\n",
              "      <td>448.000000</td>\n",
              "      <td>448.000000</td>\n",
              "      <td>448.000000</td>\n",
              "      <td>448.000000</td>\n",
              "      <td>448.000000</td>\n",
              "      <td>448.000000</td>\n",
              "      <td>448.000000</td>\n",
              "      <td>448.000000</td>\n",
              "      <td>448.000000</td>\n",
              "      <td>448.000000</td>\n",
              "      <td>448.000000</td>\n",
              "      <td>448.000000</td>\n",
              "      <td>448.000000</td>\n",
              "      <td>448.000000</td>\n",
              "      <td>448.000000</td>\n",
              "      <td>448.000000</td>\n",
              "      <td>448.000000</td>\n",
              "      <td>448.000000</td>\n",
              "      <td>448.000000</td>\n",
              "      <td>448.000000</td>\n",
              "      <td>448.000000</td>\n",
              "      <td>448.000000</td>\n",
              "      <td>448.000000</td>\n",
              "      <td>448.000000</td>\n",
              "      <td>448.000000</td>\n",
              "      <td>448.000000</td>\n",
              "      <td>448.000000</td>\n",
              "      <td>448.000000</td>\n",
              "      <td>448.000000</td>\n",
              "      <td>448.000000</td>\n",
              "      <td>448.000000</td>\n",
              "      <td>448.000000</td>\n",
              "    </tr>\n",
              "    <tr>\n",
              "      <th>mean</th>\n",
              "      <td>1436.606567</td>\n",
              "      <td>0.639409</td>\n",
              "      <td>0.653977</td>\n",
              "      <td>0.638609</td>\n",
              "      <td>0.632492</td>\n",
              "      <td>0.634159</td>\n",
              "      <td>0.638489</td>\n",
              "      <td>0.633013</td>\n",
              "      <td>0.631701</td>\n",
              "      <td>0.627532</td>\n",
              "      <td>0.616325</td>\n",
              "      <td>0.621017</td>\n",
              "      <td>0.629452</td>\n",
              "      <td>0.644571</td>\n",
              "      <td>0.650837</td>\n",
              "      <td>0.621619</td>\n",
              "      <td>0.630557</td>\n",
              "      <td>0.619272</td>\n",
              "      <td>0.622682</td>\n",
              "      <td>0.637129</td>\n",
              "      <td>0.630859</td>\n",
              "      <td>0.629287</td>\n",
              "      <td>0.626518</td>\n",
              "      <td>0.641915</td>\n",
              "      <td>0.641574</td>\n",
              "      <td>0.632714</td>\n",
              "      <td>0.634328</td>\n",
              "      <td>0.629290</td>\n",
              "      <td>0.636837</td>\n",
              "      <td>0.638703</td>\n",
              "      <td>0.641737</td>\n",
              "      <td>0.626237</td>\n",
              "      <td>0.630004</td>\n",
              "      <td>0.624831</td>\n",
              "      <td>0.631541</td>\n",
              "      <td>0.644268</td>\n",
              "      <td>0.640234</td>\n",
              "      <td>0.639274</td>\n",
              "      <td>0.635291</td>\n",
              "      <td>0.632314</td>\n",
              "      <td>...</td>\n",
              "      <td>0.605718</td>\n",
              "      <td>0.588964</td>\n",
              "      <td>0.594404</td>\n",
              "      <td>0.607047</td>\n",
              "      <td>0.621278</td>\n",
              "      <td>0.589822</td>\n",
              "      <td>0.599045</td>\n",
              "      <td>0.611985</td>\n",
              "      <td>0.615026</td>\n",
              "      <td>0.600312</td>\n",
              "      <td>0.612211</td>\n",
              "      <td>0.615794</td>\n",
              "      <td>0.609674</td>\n",
              "      <td>0.614721</td>\n",
              "      <td>0.609892</td>\n",
              "      <td>0.607035</td>\n",
              "      <td>0.607326</td>\n",
              "      <td>0.600652</td>\n",
              "      <td>0.601222</td>\n",
              "      <td>0.599496</td>\n",
              "      <td>0.583091</td>\n",
              "      <td>0.605429</td>\n",
              "      <td>0.599849</td>\n",
              "      <td>0.595840</td>\n",
              "      <td>0.603767</td>\n",
              "      <td>0.627688</td>\n",
              "      <td>0.605737</td>\n",
              "      <td>0.575669</td>\n",
              "      <td>0.608096</td>\n",
              "      <td>0.604499</td>\n",
              "      <td>0.611712</td>\n",
              "      <td>0.614206</td>\n",
              "      <td>0.592707</td>\n",
              "      <td>0.624387</td>\n",
              "      <td>0.615777</td>\n",
              "      <td>0.579432</td>\n",
              "      <td>0.631221</td>\n",
              "      <td>0.617970</td>\n",
              "      <td>0.609555</td>\n",
              "      <td>0.609176</td>\n",
              "    </tr>\n",
              "    <tr>\n",
              "      <th>std</th>\n",
              "      <td>249.822199</td>\n",
              "      <td>0.358146</td>\n",
              "      <td>0.365932</td>\n",
              "      <td>0.354801</td>\n",
              "      <td>0.351974</td>\n",
              "      <td>0.351954</td>\n",
              "      <td>0.354874</td>\n",
              "      <td>0.351164</td>\n",
              "      <td>0.351259</td>\n",
              "      <td>0.344624</td>\n",
              "      <td>0.339361</td>\n",
              "      <td>0.341171</td>\n",
              "      <td>0.346114</td>\n",
              "      <td>0.357886</td>\n",
              "      <td>0.361648</td>\n",
              "      <td>0.342323</td>\n",
              "      <td>0.348815</td>\n",
              "      <td>0.342134</td>\n",
              "      <td>0.343861</td>\n",
              "      <td>0.351408</td>\n",
              "      <td>0.349881</td>\n",
              "      <td>0.348049</td>\n",
              "      <td>0.346241</td>\n",
              "      <td>0.357298</td>\n",
              "      <td>0.356073</td>\n",
              "      <td>0.346289</td>\n",
              "      <td>0.346964</td>\n",
              "      <td>0.349335</td>\n",
              "      <td>0.352301</td>\n",
              "      <td>0.349575</td>\n",
              "      <td>0.352105</td>\n",
              "      <td>0.348246</td>\n",
              "      <td>0.349910</td>\n",
              "      <td>0.347508</td>\n",
              "      <td>0.350250</td>\n",
              "      <td>0.359113</td>\n",
              "      <td>0.357345</td>\n",
              "      <td>0.351707</td>\n",
              "      <td>0.349109</td>\n",
              "      <td>0.351229</td>\n",
              "      <td>...</td>\n",
              "      <td>0.329773</td>\n",
              "      <td>0.325212</td>\n",
              "      <td>0.328745</td>\n",
              "      <td>0.336501</td>\n",
              "      <td>0.343084</td>\n",
              "      <td>0.327116</td>\n",
              "      <td>0.326682</td>\n",
              "      <td>0.334231</td>\n",
              "      <td>0.343466</td>\n",
              "      <td>0.336209</td>\n",
              "      <td>0.335055</td>\n",
              "      <td>0.339229</td>\n",
              "      <td>0.337843</td>\n",
              "      <td>0.341342</td>\n",
              "      <td>0.337151</td>\n",
              "      <td>0.336695</td>\n",
              "      <td>0.337639</td>\n",
              "      <td>0.334284</td>\n",
              "      <td>0.332235</td>\n",
              "      <td>0.332200</td>\n",
              "      <td>0.321876</td>\n",
              "      <td>0.335541</td>\n",
              "      <td>0.329216</td>\n",
              "      <td>0.327097</td>\n",
              "      <td>0.329539</td>\n",
              "      <td>0.340837</td>\n",
              "      <td>0.331674</td>\n",
              "      <td>0.318470</td>\n",
              "      <td>0.332855</td>\n",
              "      <td>0.332436</td>\n",
              "      <td>0.339980</td>\n",
              "      <td>0.340082</td>\n",
              "      <td>0.328128</td>\n",
              "      <td>0.343703</td>\n",
              "      <td>0.340109</td>\n",
              "      <td>0.323416</td>\n",
              "      <td>0.346031</td>\n",
              "      <td>0.340227</td>\n",
              "      <td>0.332365</td>\n",
              "      <td>0.332595</td>\n",
              "    </tr>\n",
              "    <tr>\n",
              "      <th>min</th>\n",
              "      <td>1005.349500</td>\n",
              "      <td>0.120080</td>\n",
              "      <td>0.121865</td>\n",
              "      <td>0.120630</td>\n",
              "      <td>0.119036</td>\n",
              "      <td>0.120911</td>\n",
              "      <td>0.122361</td>\n",
              "      <td>0.120227</td>\n",
              "      <td>0.118984</td>\n",
              "      <td>0.122330</td>\n",
              "      <td>0.119818</td>\n",
              "      <td>0.123579</td>\n",
              "      <td>0.123729</td>\n",
              "      <td>0.122819</td>\n",
              "      <td>0.123291</td>\n",
              "      <td>0.117672</td>\n",
              "      <td>0.120783</td>\n",
              "      <td>0.120617</td>\n",
              "      <td>0.120816</td>\n",
              "      <td>0.122409</td>\n",
              "      <td>0.120164</td>\n",
              "      <td>0.120165</td>\n",
              "      <td>0.120235</td>\n",
              "      <td>0.121458</td>\n",
              "      <td>0.122048</td>\n",
              "      <td>0.119070</td>\n",
              "      <td>0.121687</td>\n",
              "      <td>0.120862</td>\n",
              "      <td>0.122500</td>\n",
              "      <td>0.125825</td>\n",
              "      <td>0.123838</td>\n",
              "      <td>0.119981</td>\n",
              "      <td>0.121685</td>\n",
              "      <td>0.119258</td>\n",
              "      <td>0.120153</td>\n",
              "      <td>0.119745</td>\n",
              "      <td>0.119762</td>\n",
              "      <td>0.121819</td>\n",
              "      <td>0.122093</td>\n",
              "      <td>0.120623</td>\n",
              "      <td>...</td>\n",
              "      <td>0.118725</td>\n",
              "      <td>0.114158</td>\n",
              "      <td>0.113322</td>\n",
              "      <td>0.116165</td>\n",
              "      <td>0.119745</td>\n",
              "      <td>0.112451</td>\n",
              "      <td>0.116351</td>\n",
              "      <td>0.120058</td>\n",
              "      <td>0.119883</td>\n",
              "      <td>0.116171</td>\n",
              "      <td>0.118757</td>\n",
              "      <td>0.117705</td>\n",
              "      <td>0.117459</td>\n",
              "      <td>0.117500</td>\n",
              "      <td>0.119251</td>\n",
              "      <td>0.117736</td>\n",
              "      <td>0.119452</td>\n",
              "      <td>0.117335</td>\n",
              "      <td>0.117670</td>\n",
              "      <td>0.116992</td>\n",
              "      <td>0.113604</td>\n",
              "      <td>0.119302</td>\n",
              "      <td>0.115445</td>\n",
              "      <td>0.116082</td>\n",
              "      <td>0.115289</td>\n",
              "      <td>0.119940</td>\n",
              "      <td>0.117662</td>\n",
              "      <td>0.111140</td>\n",
              "      <td>0.117012</td>\n",
              "      <td>0.116170</td>\n",
              "      <td>0.118890</td>\n",
              "      <td>0.118084</td>\n",
              "      <td>0.112441</td>\n",
              "      <td>0.119933</td>\n",
              "      <td>0.117909</td>\n",
              "      <td>0.111303</td>\n",
              "      <td>0.122260</td>\n",
              "      <td>0.118781</td>\n",
              "      <td>0.117762</td>\n",
              "      <td>0.118532</td>\n",
              "    </tr>\n",
              "    <tr>\n",
              "      <th>25%</th>\n",
              "      <td>1220.977125</td>\n",
              "      <td>0.541877</td>\n",
              "      <td>0.555065</td>\n",
              "      <td>0.543092</td>\n",
              "      <td>0.537319</td>\n",
              "      <td>0.539110</td>\n",
              "      <td>0.542882</td>\n",
              "      <td>0.538359</td>\n",
              "      <td>0.537194</td>\n",
              "      <td>0.537349</td>\n",
              "      <td>0.527680</td>\n",
              "      <td>0.531259</td>\n",
              "      <td>0.538781</td>\n",
              "      <td>0.549014</td>\n",
              "      <td>0.553285</td>\n",
              "      <td>0.531393</td>\n",
              "      <td>0.537052</td>\n",
              "      <td>0.527925</td>\n",
              "      <td>0.531113</td>\n",
              "      <td>0.544127</td>\n",
              "      <td>0.537429</td>\n",
              "      <td>0.536206</td>\n",
              "      <td>0.534202</td>\n",
              "      <td>0.545467</td>\n",
              "      <td>0.545661</td>\n",
              "      <td>0.542425</td>\n",
              "      <td>0.543936</td>\n",
              "      <td>0.534787</td>\n",
              "      <td>0.541911</td>\n",
              "      <td>0.546308</td>\n",
              "      <td>0.548965</td>\n",
              "      <td>0.532518</td>\n",
              "      <td>0.535699</td>\n",
              "      <td>0.531262</td>\n",
              "      <td>0.537996</td>\n",
              "      <td>0.548882</td>\n",
              "      <td>0.545011</td>\n",
              "      <td>0.546268</td>\n",
              "      <td>0.542612</td>\n",
              "      <td>0.538236</td>\n",
              "      <td>...</td>\n",
              "      <td>0.518968</td>\n",
              "      <td>0.502904</td>\n",
              "      <td>0.506431</td>\n",
              "      <td>0.516577</td>\n",
              "      <td>0.530339</td>\n",
              "      <td>0.501047</td>\n",
              "      <td>0.511457</td>\n",
              "      <td>0.522966</td>\n",
              "      <td>0.519685</td>\n",
              "      <td>0.506803</td>\n",
              "      <td>0.523046</td>\n",
              "      <td>0.525636</td>\n",
              "      <td>0.519101</td>\n",
              "      <td>0.522902</td>\n",
              "      <td>0.518765</td>\n",
              "      <td>0.515817</td>\n",
              "      <td>0.515495</td>\n",
              "      <td>0.509741</td>\n",
              "      <td>0.512533</td>\n",
              "      <td>0.509989</td>\n",
              "      <td>0.497257</td>\n",
              "      <td>0.514490</td>\n",
              "      <td>0.512199</td>\n",
              "      <td>0.509661</td>\n",
              "      <td>0.517760</td>\n",
              "      <td>0.539662</td>\n",
              "      <td>0.517691</td>\n",
              "      <td>0.488916</td>\n",
              "      <td>0.520396</td>\n",
              "      <td>0.516956</td>\n",
              "      <td>0.519350</td>\n",
              "      <td>0.522940</td>\n",
              "      <td>0.504568</td>\n",
              "      <td>0.533298</td>\n",
              "      <td>0.524573</td>\n",
              "      <td>0.490520</td>\n",
              "      <td>0.539634</td>\n",
              "      <td>0.527436</td>\n",
              "      <td>0.521515</td>\n",
              "      <td>0.521384</td>\n",
              "    </tr>\n",
              "    <tr>\n",
              "      <th>50%</th>\n",
              "      <td>1436.606750</td>\n",
              "      <td>0.571799</td>\n",
              "      <td>0.585299</td>\n",
              "      <td>0.572336</td>\n",
              "      <td>0.566133</td>\n",
              "      <td>0.568144</td>\n",
              "      <td>0.571667</td>\n",
              "      <td>0.567468</td>\n",
              "      <td>0.566157</td>\n",
              "      <td>0.564536</td>\n",
              "      <td>0.554394</td>\n",
              "      <td>0.557386</td>\n",
              "      <td>0.564104</td>\n",
              "      <td>0.577293</td>\n",
              "      <td>0.583397</td>\n",
              "      <td>0.559904</td>\n",
              "      <td>0.564283</td>\n",
              "      <td>0.553487</td>\n",
              "      <td>0.556981</td>\n",
              "      <td>0.571078</td>\n",
              "      <td>0.564416</td>\n",
              "      <td>0.563698</td>\n",
              "      <td>0.561709</td>\n",
              "      <td>0.574895</td>\n",
              "      <td>0.575409</td>\n",
              "      <td>0.569176</td>\n",
              "      <td>0.570494</td>\n",
              "      <td>0.563309</td>\n",
              "      <td>0.570189</td>\n",
              "      <td>0.573597</td>\n",
              "      <td>0.576433</td>\n",
              "      <td>0.559880</td>\n",
              "      <td>0.563051</td>\n",
              "      <td>0.558271</td>\n",
              "      <td>0.565328</td>\n",
              "      <td>0.577508</td>\n",
              "      <td>0.573573</td>\n",
              "      <td>0.573943</td>\n",
              "      <td>0.570593</td>\n",
              "      <td>0.565499</td>\n",
              "      <td>...</td>\n",
              "      <td>0.544872</td>\n",
              "      <td>0.527124</td>\n",
              "      <td>0.531790</td>\n",
              "      <td>0.541803</td>\n",
              "      <td>0.555081</td>\n",
              "      <td>0.526362</td>\n",
              "      <td>0.539352</td>\n",
              "      <td>0.547867</td>\n",
              "      <td>0.547789</td>\n",
              "      <td>0.534149</td>\n",
              "      <td>0.549081</td>\n",
              "      <td>0.549826</td>\n",
              "      <td>0.544438</td>\n",
              "      <td>0.548703</td>\n",
              "      <td>0.544405</td>\n",
              "      <td>0.541576</td>\n",
              "      <td>0.541688</td>\n",
              "      <td>0.535470</td>\n",
              "      <td>0.537260</td>\n",
              "      <td>0.536070</td>\n",
              "      <td>0.521781</td>\n",
              "      <td>0.539536</td>\n",
              "      <td>0.537253</td>\n",
              "      <td>0.534080</td>\n",
              "      <td>0.542574</td>\n",
              "      <td>0.565508</td>\n",
              "      <td>0.543324</td>\n",
              "      <td>0.513854</td>\n",
              "      <td>0.545095</td>\n",
              "      <td>0.539919</td>\n",
              "      <td>0.543906</td>\n",
              "      <td>0.547893</td>\n",
              "      <td>0.528448</td>\n",
              "      <td>0.557579</td>\n",
              "      <td>0.549861</td>\n",
              "      <td>0.514572</td>\n",
              "      <td>0.564297</td>\n",
              "      <td>0.552937</td>\n",
              "      <td>0.548768</td>\n",
              "      <td>0.547132</td>\n",
              "    </tr>\n",
              "    <tr>\n",
              "      <th>75%</th>\n",
              "      <td>1652.235375</td>\n",
              "      <td>0.644901</td>\n",
              "      <td>0.658731</td>\n",
              "      <td>0.640316</td>\n",
              "      <td>0.635916</td>\n",
              "      <td>0.635076</td>\n",
              "      <td>0.640186</td>\n",
              "      <td>0.633438</td>\n",
              "      <td>0.631565</td>\n",
              "      <td>0.624923</td>\n",
              "      <td>0.613502</td>\n",
              "      <td>0.618843</td>\n",
              "      <td>0.627916</td>\n",
              "      <td>0.649900</td>\n",
              "      <td>0.658301</td>\n",
              "      <td>0.622731</td>\n",
              "      <td>0.631020</td>\n",
              "      <td>0.617984</td>\n",
              "      <td>0.621421</td>\n",
              "      <td>0.637448</td>\n",
              "      <td>0.632536</td>\n",
              "      <td>0.626961</td>\n",
              "      <td>0.623573</td>\n",
              "      <td>0.641667</td>\n",
              "      <td>0.640630</td>\n",
              "      <td>0.633296</td>\n",
              "      <td>0.632795</td>\n",
              "      <td>0.628276</td>\n",
              "      <td>0.635583</td>\n",
              "      <td>0.638731</td>\n",
              "      <td>0.643257</td>\n",
              "      <td>0.626652</td>\n",
              "      <td>0.631197</td>\n",
              "      <td>0.625770</td>\n",
              "      <td>0.631955</td>\n",
              "      <td>0.651537</td>\n",
              "      <td>0.647288</td>\n",
              "      <td>0.639736</td>\n",
              "      <td>0.636486</td>\n",
              "      <td>0.631564</td>\n",
              "      <td>...</td>\n",
              "      <td>0.604764</td>\n",
              "      <td>0.585597</td>\n",
              "      <td>0.592280</td>\n",
              "      <td>0.606745</td>\n",
              "      <td>0.622769</td>\n",
              "      <td>0.588859</td>\n",
              "      <td>0.592268</td>\n",
              "      <td>0.606866</td>\n",
              "      <td>0.613323</td>\n",
              "      <td>0.596833</td>\n",
              "      <td>0.608611</td>\n",
              "      <td>0.614073</td>\n",
              "      <td>0.608343</td>\n",
              "      <td>0.611540</td>\n",
              "      <td>0.607497</td>\n",
              "      <td>0.605533</td>\n",
              "      <td>0.602944</td>\n",
              "      <td>0.597950</td>\n",
              "      <td>0.597193</td>\n",
              "      <td>0.595562</td>\n",
              "      <td>0.579968</td>\n",
              "      <td>0.600018</td>\n",
              "      <td>0.598353</td>\n",
              "      <td>0.593619</td>\n",
              "      <td>0.600323</td>\n",
              "      <td>0.625049</td>\n",
              "      <td>0.602751</td>\n",
              "      <td>0.572977</td>\n",
              "      <td>0.605465</td>\n",
              "      <td>0.602282</td>\n",
              "      <td>0.613418</td>\n",
              "      <td>0.613566</td>\n",
              "      <td>0.591467</td>\n",
              "      <td>0.626222</td>\n",
              "      <td>0.616340</td>\n",
              "      <td>0.579889</td>\n",
              "      <td>0.630868</td>\n",
              "      <td>0.616815</td>\n",
              "      <td>0.605384</td>\n",
              "      <td>0.604278</td>\n",
              "    </tr>\n",
              "    <tr>\n",
              "      <th>max</th>\n",
              "      <td>1867.864000</td>\n",
              "      <td>1.826509</td>\n",
              "      <td>1.885644</td>\n",
              "      <td>1.826144</td>\n",
              "      <td>1.799109</td>\n",
              "      <td>1.814902</td>\n",
              "      <td>1.814941</td>\n",
              "      <td>1.802968</td>\n",
              "      <td>1.807198</td>\n",
              "      <td>1.776554</td>\n",
              "      <td>1.740735</td>\n",
              "      <td>1.759423</td>\n",
              "      <td>1.792029</td>\n",
              "      <td>1.842465</td>\n",
              "      <td>1.855435</td>\n",
              "      <td>1.763409</td>\n",
              "      <td>1.799856</td>\n",
              "      <td>1.772893</td>\n",
              "      <td>1.777435</td>\n",
              "      <td>1.810602</td>\n",
              "      <td>1.795771</td>\n",
              "      <td>1.783188</td>\n",
              "      <td>1.785464</td>\n",
              "      <td>1.845089</td>\n",
              "      <td>1.827795</td>\n",
              "      <td>1.781273</td>\n",
              "      <td>1.793291</td>\n",
              "      <td>1.795523</td>\n",
              "      <td>1.818029</td>\n",
              "      <td>1.800981</td>\n",
              "      <td>1.813719</td>\n",
              "      <td>1.794441</td>\n",
              "      <td>1.801566</td>\n",
              "      <td>1.789937</td>\n",
              "      <td>1.800843</td>\n",
              "      <td>1.838317</td>\n",
              "      <td>1.836476</td>\n",
              "      <td>1.810771</td>\n",
              "      <td>1.799092</td>\n",
              "      <td>1.813382</td>\n",
              "      <td>...</td>\n",
              "      <td>1.709904</td>\n",
              "      <td>1.689465</td>\n",
              "      <td>1.698644</td>\n",
              "      <td>1.730188</td>\n",
              "      <td>1.774728</td>\n",
              "      <td>1.685989</td>\n",
              "      <td>1.698549</td>\n",
              "      <td>1.735127</td>\n",
              "      <td>1.769766</td>\n",
              "      <td>1.731532</td>\n",
              "      <td>1.735439</td>\n",
              "      <td>1.747089</td>\n",
              "      <td>1.755027</td>\n",
              "      <td>1.763019</td>\n",
              "      <td>1.743686</td>\n",
              "      <td>1.743921</td>\n",
              "      <td>1.741456</td>\n",
              "      <td>1.721036</td>\n",
              "      <td>1.712475</td>\n",
              "      <td>1.722136</td>\n",
              "      <td>1.663020</td>\n",
              "      <td>1.739934</td>\n",
              "      <td>1.706953</td>\n",
              "      <td>1.695439</td>\n",
              "      <td>1.707418</td>\n",
              "      <td>1.778938</td>\n",
              "      <td>1.730286</td>\n",
              "      <td>1.638927</td>\n",
              "      <td>1.728270</td>\n",
              "      <td>1.723890</td>\n",
              "      <td>1.752651</td>\n",
              "      <td>1.754566</td>\n",
              "      <td>1.695228</td>\n",
              "      <td>1.773574</td>\n",
              "      <td>1.747717</td>\n",
              "      <td>1.665901</td>\n",
              "      <td>1.792791</td>\n",
              "      <td>1.757477</td>\n",
              "      <td>1.727859</td>\n",
              "      <td>1.730239</td>\n",
              "    </tr>\n",
              "  </tbody>\n",
              "</table>\n",
              "<p>8 rows × 121 columns</p>\n",
              "</div>"
            ],
            "text/plain": [
              "       Wavenumbers  ...  FreshTurkey_SupplierE_Sample9_RunB  \n",
              "count   448.000000  ...                            448.000000\n",
              "mean   1436.606567  ...                              0.609176\n",
              "std     249.822199  ...                              0.332595\n",
              "min    1005.349500  ...                              0.118532\n",
              "25%    1220.977125  ...                              0.521384\n",
              "50%    1436.606750  ...                              0.547132\n",
              "75%    1652.235375  ...                              0.604278\n",
              "max    1867.864000  ...                              1.730239\n",
              "\n",
              "[8 rows x 121 columns]"
            ]
          },
          "metadata": {
            "tags": []
          },
          "execution_count": 32
        }
      ]
    },
    {
      "cell_type": "code",
      "metadata": {
        "id": "e_pmQDgH6YMy",
        "colab": {
          "base_uri": "https://localhost:8080/"
        },
        "outputId": "0869f1e1-837d-4c9c-9ae8-b0f1d29fcfa6"
      },
      "source": [
        "df.shape"
      ],
      "execution_count": 33,
      "outputs": [
        {
          "output_type": "execute_result",
          "data": {
            "text/plain": [
              "(448, 121)"
            ]
          },
          "metadata": {
            "tags": []
          },
          "execution_count": 33
        }
      ]
    },
    {
      "cell_type": "markdown",
      "metadata": {
        "id": "6ke52r-qwSUI"
      },
      "source": [
        "# **Data Cleaning**"
      ]
    },
    {
      "cell_type": "code",
      "metadata": {
        "colab": {
          "base_uri": "https://localhost:8080/"
        },
        "id": "o7tjQrlPwY3x",
        "outputId": "0683fda9-71fb-4c1e-bb3e-8708e054bc11"
      },
      "source": [
        "print(\"There are{}columns with missing values\".format(\" NO \" if df.isna().sum().reset_index()[\"index\"][df.isna().sum().reset_index().iloc[:,1] !=0].shape[0] == 0 else \"\"))"
      ],
      "execution_count": 34,
      "outputs": [
        {
          "output_type": "stream",
          "text": [
            "There are NO columns with missing values\n"
          ],
          "name": "stdout"
        }
      ]
    },
    {
      "cell_type": "code",
      "metadata": {
        "colab": {
          "base_uri": "https://localhost:8080/"
        },
        "id": "82USM8ngvj6l",
        "outputId": "d0d71d1d-d347-4441-d5e4-0344137d9b96"
      },
      "source": [
        "df.columns"
      ],
      "execution_count": 35,
      "outputs": [
        {
          "output_type": "execute_result",
          "data": {
            "text/plain": [
              "Index(['Wavenumbers', 'FreshChicken_SupplierA_Sample1_RunA  ',\n",
              "       'FreshChicken_SupplierA_Sample1_RunB  ',\n",
              "       'FreshChicken_SupplierA_Sample2_RunA  ',\n",
              "       'FreshChicken_SupplierA_Sample2_RunB  ',\n",
              "       'FreshChicken_SupplierA_Sample3_RunA  ',\n",
              "       'FreshChicken_SupplierA_Sample3_RunB  ',\n",
              "       'FreshChicken_SupplierA_Sample4_RunA  ',\n",
              "       'FreshChicken_SupplierA_Sample4_RunB  ',\n",
              "       'FreshChicken_SupplierA_Sample5_RunA  ',\n",
              "       ...\n",
              "       'FreshTurkey_SupplierE_Sample5_RunA  ',\n",
              "       'FreshTurkey_SupplierE_Sample5_RunB  ',\n",
              "       'FreshTurkey_SupplierE_Sample6_RunA  ',\n",
              "       'FreshTurkey_SupplierE_Sample6_RunB  ',\n",
              "       'FreshTurkey_SupplierE_Sample7_RunA  ',\n",
              "       'FreshTurkey_SupplierE_Sample7_RunB  ',\n",
              "       'FreshTurkey_SupplierE_Sample8_RunA  ',\n",
              "       'FreshTurkey_SupplierE_Sample8_RunB  ',\n",
              "       'FreshTurkey_SupplierE_Sample9_RunA  ',\n",
              "       'FreshTurkey_SupplierE_Sample9_RunB  '],\n",
              "      dtype='object', length=121)"
            ]
          },
          "metadata": {
            "tags": []
          },
          "execution_count": 35
        }
      ]
    },
    {
      "cell_type": "code",
      "metadata": {
        "id": "0aTCes07C-WZ"
      },
      "source": [
        "df = df.T"
      ],
      "execution_count": 36,
      "outputs": []
    },
    {
      "cell_type": "code",
      "metadata": {
        "id": "B3FKCpRTDHUD"
      },
      "source": [
        "df = df.reset_index()"
      ],
      "execution_count": 37,
      "outputs": []
    },
    {
      "cell_type": "code",
      "metadata": {
        "id": "lwMQHOIwDWvt"
      },
      "source": [
        "df.columns = df.loc[0,:]"
      ],
      "execution_count": 38,
      "outputs": []
    },
    {
      "cell_type": "code",
      "metadata": {
        "id": "MmZdcn-eDvI4"
      },
      "source": [
        "df[\"Label\"] = df[\"Wavenumbers\"].apply(lambda x: x.split(\"_\")[0][5:])"
      ],
      "execution_count": 39,
      "outputs": []
    },
    {
      "cell_type": "code",
      "metadata": {
        "id": "QvvzRT4rEdKx"
      },
      "source": [
        "df = df.drop(columns=\"Wavenumbers\")\n",
        "df = df.drop(index = 0)"
      ],
      "execution_count": 40,
      "outputs": []
    },
    {
      "cell_type": "code",
      "metadata": {
        "id": "8kqFlNYNEkxP",
        "colab": {
          "base_uri": "https://localhost:8080/"
        },
        "outputId": "70b8d616-d8f9-423c-b08c-736f905c1e54"
      },
      "source": [
        "df.shape"
      ],
      "execution_count": 41,
      "outputs": [
        {
          "output_type": "execute_result",
          "data": {
            "text/plain": [
              "(120, 449)"
            ]
          },
          "metadata": {
            "tags": []
          },
          "execution_count": 41
        }
      ]
    },
    {
      "cell_type": "code",
      "metadata": {
        "id": "lS0EDuhLEkqK",
        "colab": {
          "base_uri": "https://localhost:8080/"
        },
        "outputId": "f44cd303-f2e2-41b3-b3cc-c3cba2c2a080"
      },
      "source": [
        "df.columns"
      ],
      "execution_count": 42,
      "outputs": [
        {
          "output_type": "execute_result",
          "data": {
            "text/plain": [
              "Index([         1005.3495,           1007.279,          1009.2085,\n",
              "                 1011.138,          1013.0675,           1014.997,\n",
              "                1016.9265, 1018.8560000000001,          1020.7855,\n",
              "                 1022.715,\n",
              "       ...\n",
              "       1852.4279999999999,          1854.3575,           1856.287,\n",
              "                1858.2165,           1860.146,          1862.0755,\n",
              "                 1864.005,          1865.9345,           1867.864,\n",
              "                  'Label'],\n",
              "      dtype='object', name=0, length=449)"
            ]
          },
          "metadata": {
            "tags": []
          },
          "execution_count": 42
        }
      ]
    },
    {
      "cell_type": "markdown",
      "metadata": {
        "id": "luvjBvmg5W53"
      },
      "source": [
        "# **EDA**"
      ]
    },
    {
      "cell_type": "code",
      "metadata": {
        "id": "c_zTQM7bvnXg"
      },
      "source": [
        "def plot_countplot(df,x):\n",
        "  sns.countplot(x=x,data = df)\n",
        "  plt.title(\"Distribution of {} values\".format(x))\n",
        "  plt.show()"
      ],
      "execution_count": 43,
      "outputs": []
    },
    {
      "cell_type": "code",
      "metadata": {
        "colab": {
          "base_uri": "https://localhost:8080/",
          "height": 511
        },
        "id": "d09s3CfqwH1E",
        "outputId": "d914797c-6c89-41f0-db10-f40ebfcba725"
      },
      "source": [
        "plot_countplot(df,\"Label\")"
      ],
      "execution_count": 44,
      "outputs": [
        {
          "output_type": "display_data",
          "data": {
            "image/png": "[encoded data removed]",
            "text/plain": [
              "<Figure size 1152x576 with 1 Axes>"
            ]
          },
          "metadata": {
            "tags": []
          }
        }
      ]
    },
    {
      "cell_type": "code",
      "metadata": {
        "id": "pTD9I6nnBj29"
      },
      "source": [
        "def plot_line(x,*y,title,color=None):\n",
        "  fig = go.Figure()\n",
        "  colors = [\"red\",\"blue\",\"green\",\"darkviolet\",\"orange\",\"brown\",\"gold\"]\n",
        "  for i,data in enumerate(y):\n",
        "    fig.add_trace(go.Scatter(x=x, y=data[0],\n",
        "                    line=dict(color=colors[i], width=4),\n",
        "                    name=data[1]))\n",
        "  fig.update_layout(title=title)\n",
        "  fig.show()"
      ],
      "execution_count": 45,
      "outputs": []
    },
    {
      "cell_type": "code",
      "metadata": {
        "colab": {
          "base_uri": "https://localhost:8080/",
          "height": 542
        },
        "id": "IuJq8L9FyMJg",
        "outputId": "863c22cb-e843-401e-c716-679131748454"
      },
      "source": [
        "temp = df.groupby(\"Label\").mean().reset_index()\n",
        "plot_line(temp.columns[1:],(temp[temp[\"Label\"] == \"Chicken\"].iloc[:,1:].values[0],\"Chicken\"),title=\"FTIR Spectra of chicken meat\")"
      ],
      "execution_count": 46,
      "outputs": [
        {
          "output_type": "display_data",
          "data": {
            "text/html": [
              "        <script type=\"text/javascript\">\n",
              "        window.PlotlyConfig = {MathJaxConfig: 'local'};\n",
              "        if (window.MathJax) {MathJax.Hub.Config({SVG: {font: \"STIX-Web\"}});}\n",
              "        if (typeof require !== 'undefined') {\n",
              "        require.undef(\"plotly\");\n",
              "        requirejs.config({\n",
              "            paths: {\n",
              "                'plotly': ['https://cdn.plot.ly/plotly-latest.min']\n",
              "            }\n",
              "        });\n",
              "        require(['plotly'], function(Plotly) {\n",
              "            window._Plotly = Plotly;\n",
              "        });\n",
              "        }\n",
              "        </script>\n",
              "        "
            ]
          },
          "metadata": {
            "tags": []
          }
        },
        {
          "output_type": "display_data",
          "data": {
            "text/html": [
              "<div>\n",
              "        \n",
              "        \n",
              "            <div id=\"958e7416-4f0a-42ff-8e0e-6ae81752d4b3\" class=\"plotly-graph-div\" style=\"height:525px; width:100%;\"></div>\n",
              "            <script type=\"text/javascript\">\n",
              "                require([\"plotly\"], function(Plotly) {\n",
              "                    window.PLOTLYENV=window.PLOTLYENV || {};\n",
              "                    \n",
              "                if (document.getElementById(\"958e7416-4f0a-42ff-8e0e-6ae81752d4b3\")) {\n",
              "                    Plotly.newPlot(\n",
              "                        '958e7416-4f0a-42ff-8e0e-6ae81752d4b3',\n",
              "                        [{\"line\": {\"color\": \"red\", \"width\": 4}, \"name\": \"Chicken\", \"type\": \"scatter\", \"x\": [1005.3495, 1007.279, 1009.2085, 1011.138, 1013.0675, 1014.997, 1016.9265, 1018.8560000000001, 1020.7855, 1022.715, 1024.6445, 1026.5739999999998, 1028.5035, 1030.433, 1032.3625, 1034.292, 1036.2215, 1038.151, 1040.0815, 1042.011, 1043.9405, 1045.87, 1047.7995, 1049.729, 1051.6585, 1053.588, 1055.5175, 1057.447, 1059.3765, 1061.306, 1063.2355, 1065.165, 1067.0945, 1069.024, 1070.9535, 1072.883, 1074.8135, 1076.743, 1078.6725, 1080.6019999999999, 1082.5315, 1084.461, 1086.3905, 1088.32, 1090.2495, 1092.1789999999999, 1094.1085, 1096.038, 1097.9675, 1099.897, 1101.8265, 1103.756, 1105.6855, 1107.615, 1109.5455, 1111.475, 1113.4045, 1115.3339999999998, 1117.2635, 1119.193, 1121.1225, 1123.052, 1124.9815, 1126.911, 1128.8405, 1130.77, 1132.7005, 1134.63, 1136.5595, 1138.489, 1140.4185, 1142.348, 1144.2775, 1146.2069999999999, 1148.1365, 1150.066, 1151.9955, 1153.925, 1155.8545, 1157.7839999999999, 1159.7135, 1161.643, 1163.5725, 1165.502, 1167.4325, 1169.362, 1171.2915, 1173.221, 1175.1505, 1177.08, 1179.0095, 1180.9389999999999, 1182.8685, 1184.798, 1186.7275, 1188.657, 1190.5875, 1192.517, 1194.4465, 1196.376, 1198.3055, 1200.235, 1202.1645, 1204.094, 1206.0235, 1207.953, 1209.8825, 1211.812, 1213.7415, 1215.671, 1217.6005, 1219.53, 1221.4595, 1223.389, 1225.3195, 1227.249, 1229.1785, 1231.108, 1233.0375, 1234.9669999999999, 1236.8965, 1238.826, 1240.7555, 1242.685, 1244.6145, 1246.5439999999999, 1248.4745, 1250.404, 1252.3335, 1254.263, 1256.1925, 1258.122, 1260.0515, 1261.981, 1263.9105, 1265.84, 1267.7695, 1269.6989999999998, 1271.6285, 1273.558, 1275.4875, 1277.417, 1279.3465, 1281.276, 1283.2065, 1285.136, 1287.0655, 1288.995, 1290.9245, 1292.854, 1294.7835, 1296.713, 1298.6425, 1300.572, 1302.5015, 1304.431, 1306.3615, 1308.2910000000002, 1310.2205, 1312.15, 1314.0795, 1316.009, 1317.9385, 1319.868, 1321.7975, 1323.727, 1325.6565, 1327.586, 1329.5155, 1331.445, 1333.3745, 1335.3039999999999, 1337.2335, 1339.1629999999998, 1341.0935, 1343.023, 1344.9525, 1346.882, 1348.8115, 1350.741, 1352.6705, 1354.6, 1356.5295, 1358.4589999999998, 1360.3885, 1362.318, 1364.2485, 1366.1779999999999, 1368.1075, 1370.037, 1371.9665, 1373.896, 1375.8255, 1377.755, 1379.6845, 1381.614, 1383.5435, 1385.473, 1387.4025, 1389.332, 1391.2615, 1393.191, 1395.1205, 1397.05, 1398.9805, 1400.91, 1402.8395, 1404.769, 1406.6985, 1408.628, 1410.5575, 1412.487, 1414.4165, 1416.346, 1418.2755, 1420.205, 1422.1345, 1424.0639999999999, 1425.9935, 1427.9229999999998, 1429.8525, 1431.7820000000002, 1433.7125, 1435.642, 1437.5715, 1439.501, 1441.4305, 1443.36, 1445.2895, 1447.219, 1449.1485, 1451.078, 1453.0075, 1454.9370000000001, 1456.8675, 1458.797, 1460.7265, 1462.656, 1464.5855, 1466.515, 1468.4445, 1470.374, 1472.3035, 1474.233, 1476.1625, 1478.092, 1480.0215, 1481.951, 1483.8805, 1485.81, 1487.7395, 1489.6689999999999, 1491.5995, 1493.529, 1495.4585, 1497.388, 1499.3175, 1501.247, 1503.1765, 1505.106, 1507.0355, 1508.965, 1510.8945, 1512.8239999999998, 1514.7545, 1516.684, 1518.6135, 1520.543, 1522.4725, 1524.402, 1526.3315, 1528.261, 1530.1905, 1532.12, 1534.0495, 1535.979, 1537.9085, 1539.838, 1541.7675, 1543.6970000000001, 1545.6265, 1547.556, 1549.4865, 1551.4160000000002, 1553.3455, 1555.275, 1557.2045, 1559.134, 1561.0635, 1562.993, 1564.9225, 1566.852, 1568.7815, 1570.711, 1572.6415, 1574.5710000000001, 1576.5005, 1578.43, 1580.3595, 1582.289, 1584.2185, 1586.148, 1588.0775, 1590.007, 1591.9365, 1593.866, 1595.7955, 1597.725, 1599.6545, 1601.5839999999998, 1603.5135, 1605.443, 1607.3735, 1609.3029999999999, 1611.2325, 1613.162, 1615.0915, 1617.021, 1618.9505, 1620.88, 1622.8095, 1624.739, 1626.6685, 1628.598, 1630.5285, 1632.4579999999999, 1634.3875, 1636.317, 1638.2465, 1640.1760000000002, 1642.1055, 1644.035, 1645.9645, 1647.894, 1649.8235, 1651.753, 1653.6825, 1655.612, 1657.5415, 1659.471, 1661.4005, 1663.33, 1665.2605, 1667.19, 1669.1195, 1671.049, 1672.9785, 1674.908, 1676.8375, 1678.767, 1680.6965, 1682.626, 1684.5555, 1686.485, 1688.4155, 1690.345, 1692.2745, 1694.204, 1696.1335, 1698.0629999999999, 1699.9925, 1701.922, 1703.8515, 1705.781, 1707.7105, 1709.64, 1711.5695, 1713.499, 1715.4285, 1717.358, 1719.2875, 1721.217, 1723.1475, 1725.0770000000002, 1727.0065, 1728.9360000000001, 1730.8655, 1732.795, 1734.7245, 1736.654, 1738.5835, 1740.513, 1742.4425, 1744.372, 1746.3015, 1748.231, 1750.1605, 1752.09, 1754.0195, 1755.9489999999998, 1757.8795, 1759.809, 1761.7385, 1763.668, 1765.5975, 1767.527, 1769.4565, 1771.386, 1773.3155, 1775.245, 1777.1745, 1779.104, 1781.0345, 1782.964, 1784.8935, 1786.8229999999999, 1788.7525, 1790.682, 1792.6115, 1794.5410000000002, 1796.4705, 1798.4, 1800.3295, 1802.259, 1804.1885, 1806.118, 1808.0475, 1809.977, 1811.9065, 1813.836, 1815.7665, 1817.6960000000001, 1819.6255, 1821.555, 1823.4845, 1825.414, 1827.3435, 1829.273, 1831.2025, 1833.132, 1835.0615, 1836.991, 1838.9215, 1840.851, 1842.7805, 1844.71, 1846.6395, 1848.569, 1850.4985, 1852.4279999999999, 1854.3575, 1856.287, 1858.2165, 1860.146, 1862.0755, 1864.005, 1865.9345, 1867.864], \"y\": [0.5544329004250002, 0.5522079208749998, 0.5506351575749999, 0.5493508246499998, 0.5484920428250001, 0.5479014561249999, 0.54747491455, 0.5471488692500002, 0.547244130825, 0.5478830832500001, 0.5488724808500001, 0.5504553576750001, 0.5527004281749999, 0.5554022380750002, 0.5583447368250001, 0.5614738136999999, 0.5651041179, 0.5691552142250002, 0.5727296502750001, 0.57528345215, 0.5765671576250001, 0.5765912061499999, 0.5757880895749998, 0.575033349325, 0.5751611008749998, 0.5762225530249998, 0.5778331041499998, 0.5800659663250001, 0.5828256503500001, 0.5863897650000001, 0.5908668286250001, 0.595918007225, 0.6016752430249999, 0.6075711385, 0.6132565495, 0.6186882476750001, 0.62312447735, 0.625985721975, 0.6269031671249998, 0.6255367692500001, 0.6220267052999998, 0.6169433616000002, 0.61068121495, 0.6039045575750002, 0.5970631322500001, 0.5902299076749999, 0.5837586482250001, 0.577861363725, 0.57269858395, 0.5683454848249999, 0.5647318071499999, 0.5618661240749999, 0.5596197190000001, 0.5580430881749999, 0.55724926685, 0.55760614765, 0.5590100558500001, 0.561123019275, 0.563673358175, 0.5660142061, 0.5680613256749999, 0.5690837564250001, 0.5689723932249999, 0.5670243407250001, 0.56296267215, 0.55744688805, 0.551361460775, 0.545693148225, 0.5411526497499998, 0.5380311852250002, 0.5360800016250001, 0.5352963625000001, 0.5356110036250001, 0.536804382075, 0.5387537026, 0.5412653468, 0.5436670526250001, 0.5458342166000001, 0.5474889469499999, 0.548736651825, 0.5496125340499999, 0.5504021356500001, 0.55088757825, 0.551116550475, 0.5510662067500001, 0.551050138025, 0.550695150825, 0.54940667425, 0.5466999559499999, 0.54278276605, 0.5388252798500001, 0.5353637045000001, 0.5326221182249999, 0.5305324612000001, 0.5291628372249998, 0.5284026856749999, 0.5279966237999999, 0.5279195623999999, 0.528000823025, 0.5281892804249999, 0.528772198125, 0.5297957754249999, 0.5312469938750001, 0.5330162425250001, 0.53518361505, 0.53738113865, 0.5394743796000001, 0.54170128655, 0.5441939730250002, 0.5469402998750001, 0.55004801195, 0.5533971773000002, 0.55664106915, 0.5598276610749999, 0.5629754231249999, 0.56617766565, 0.5694067817500001, 0.5723549500749998, 0.575118951775, 0.5774895639750001, 0.579272611975, 0.5806787545500001, 0.5813093747500002, 0.58124217275, 0.5806111546, 0.57945143375, 0.5779961679250001, 0.5761923172500001, 0.574115398025, 0.571933499775, 0.56968265585, 0.5677298309750001, 0.56601256715, 0.5648682127999998, 0.5641969613250001, 0.563613693025, 0.5627002128249999, 0.5617289434000001, 0.5607729485499999, 0.559998185475, 0.5596015552249999, 0.5595412689750001, 0.5597399599250001, 0.560294774825, 0.5608241524750002, 0.5613729472000001, 0.5621272615499999, 0.5629111166499998, 0.5638107277250001, 0.564938062725, 0.5665633868250002, 0.5686117168249999, 0.570976858275, 0.57387044465, 0.5767813122750002, 0.5796799412499999, 0.5823193697249998, 0.5839502783499999, 0.584836919525, 0.58482817195, 0.5830829633750001, 0.5803797543749999, 0.5768775243500001, 0.57222201515, 0.5674258678000001, 0.5627468504500001, 0.5579609807249999, 0.553827509775, 0.5504360695000001, 0.5479465613, 0.54643231675, 0.5456991240250001, 0.5454346448, 0.5448748146000001, 0.5431636127, 0.5424299121749998, 0.5419319364749999, 0.5408850328750001, 0.5401497476, 0.539464245825, 0.53937651945, 0.5394199401499999, 0.5393514250249999, 0.539783036875, 0.5412453067250003, 0.5428618451999999, 0.54405753375, 0.5470703771500001, 0.5503933398999997, 0.5509935018000001, 0.552300137425, 0.555343763925, 0.560011581625, 0.5675695335750001, 0.576979656325, 0.5866137123499999, 0.5979024193499998, 0.610273793075, 0.622493780625, 0.6350352461250001, 0.6473442618, 0.6587797677499999, 0.6652927212250002, 0.6688932294499998, 0.6690310813750002, 0.6637663509499999, 0.6595651359000001, 0.6524127954000001, 0.6416560800250001, 0.6341250138500001, 0.6267273291500002, 0.6191766166, 0.6139527982999999, 0.6101465419, 0.6065804257, 0.5971420544000002, 0.5916751678999999, 0.58808955395, 0.5806095562000001, 0.576966825975, 0.57210221545, 0.5669769063500001, 0.5667566237499999, 0.5700133554749999, 0.5725026872250001, 0.5757685890999998, 0.581017323125, 0.5850567233999999, 0.589027898075, 0.59302458945, 0.596076072675, 0.6005279280249999, 0.605480224425, 0.6101982850749998, 0.6111619593750001, 0.6029812258, 0.5999066962749999, 0.59958959355, 0.5977623426249999, 0.5930528171250001, 0.5913160865999998, 0.5895425977000001, 0.58418140105, 0.571394678525, 0.565918990075, 0.5602150623250003, 0.5585993949749999, 0.5582467205500001, 0.5590196784000001, 0.5632366585499998, 0.568939649625, 0.5754061994749999, 0.5822779967749999, 0.591686857125, 0.6029504716999999, 0.6143546546750003, 0.6255558741250001, 0.6380179364249999, 0.6520746017000001, 0.6676572339250001, 0.68397906805, 0.704041446875, 0.7246454534749998, 0.7462442438999999, 0.7685941352000001, 0.7873408489749999, 0.8062133270249999, 0.8204341715250001, 0.8336528730499999, 0.850717143, 0.870759603175, 0.8925039698250001, 0.9155863754249998, 0.9385284032750002, 0.9588228585499998, 0.9859134147750004, 1.0071428537749998, 1.0222298398, 1.0390091778000001, 1.0686324242749998, 1.0873772024249997, 1.10325582195, 1.1095217782749998, 1.1038325154999997, 1.09839567115, 1.082132141525, 1.067223970975, 1.049656643675, 1.0102265064500002, 1.0124529419999995, 1.005285785825, 0.9944302241499999, 0.9909612414250001, 0.9818463330249998, 0.9771621403749998, 0.9808421497750002, 0.9790010761249999, 0.9762165341749997, 0.9818634931999999, 0.9881195019000002, 0.9939802552250001, 1.002359244225, 1.011611660775, 1.023415053275, 1.0362467560249997, 1.0515660059749998, 1.0680139445999999, 1.0870235460499997, 1.1073688330249998, 1.1311334517999998, 1.1573428538750004, 1.1888339370499998, 1.2213955658750006, 1.2600390785999998, 1.3003502097749997, 1.3452856691750006, 1.3861259776499995, 1.4259010113500006, 1.4805924860750002, 1.5318550437, 1.56769405565, 1.611933140475, 1.65773872365, 1.6949395487500003, 1.73345332245, 1.7653014038749997, 1.7690283034999996, 1.7483412236000002, 1.7738827809500002, 1.8045859235000001, 1.7990556993749998, 1.7863419981, 1.7496055820999996, 1.6955548240249996, 1.68550309605, 1.6663996691750005, 1.556428453925, 1.5388362914500002, 1.5405246884500003, 1.500408014775, 1.4486324350250002, 1.3902689839999998, 1.3322305905499996, 1.2965395929499999, 1.2443624447250001, 1.1868118692499998, 1.1422821133, 1.10899098635, 1.0502553643000003, 1.0162313103499998, 0.9738746604999999, 0.9329090868000002, 0.8867521717749998, 0.8284476106750003, 0.8063340028500001, 0.767704035925, 0.728725644575, 0.6985877939499999, 0.663926888275, 0.6191229463750001, 0.6013480912249999, 0.5571509493249999, 0.537374530075, 0.517037735475, 0.48917713869999985, 0.4713542163999998, 0.45200487055, 0.4363471273000001, 0.4193284535750001, 0.40356952230000004, 0.3854337277999999, 0.3736572687, 0.3647761232500001, 0.352744292925, 0.342833477, 0.3341859185, 0.32427027050000007, 0.31624198787499996, 0.3082018181249999, 0.296732944775, 0.2931600039750001, 0.285332845075, 0.2782498069999999, 0.27153536070000006, 0.26408822722499997, 0.25673042969999993, 0.24756941432499993, 0.2387017437, 0.22994005890000002, 0.22434279540000007, 0.21639906155000005, 0.21022961997499995, 0.20557201112499995, 0.19924162017499997, 0.19485298217499997, 0.19122920507500002, 0.18673670407499995, 0.18390637787499997, 0.1796326169, 0.17595512087500004, 0.17350827610000003, 0.17093366105000002, 0.16841104227500003, 0.16552298499999998, 0.1636984631, 0.16117794897499998, 0.15920858367500001, 0.1577499894749999, 0.155691766525, 0.1532489269, 0.151914244975, 0.15026166180000003, 0.14871526805000002, 0.14684560867500002, 0.14522658737499997, 0.143906190175, 0.1425087914, 0.14122187842499997, 0.13984510640000003, 0.13868759534999994, 0.13790026005000006, 0.13680299705, 0.135856404075, 0.135008327175, 0.13425114322499995, 0.13327001865, 0.13217114385, 0.1316404831, 0.13038237842499997, 0.129530272675, 0.12900920265000002, 0.12825020002499996, 0.12749951059999998, 0.12671481602499995, 0.126279130325, 0.12549891505000002, 0.12486583922500001, 0.12477838780000003, 0.1245195783, 0.12426847064999999, 0.12386897907500002, 0.12348987757499999, 0.12301390045, 0.122592228975, 0.12224752552500004, 0.12172578702500003, 0.12131507620000001, 0.12112877424999999]}],\n",
              "                        {\"template\": {\"data\": {\"bar\": [{\"error_x\": {\"color\": \"#2a3f5f\"}, \"error_y\": {\"color\": \"#2a3f5f\"}, \"marker\": {\"line\": {\"color\": \"#E5ECF6\", \"width\": 0.5}}, \"type\": \"bar\"}], \"barpolar\": [{\"marker\": {\"line\": {\"color\": \"#E5ECF6\", \"width\": 0.5}}, \"type\": \"barpolar\"}], \"carpet\": [{\"aaxis\": {\"endlinecolor\": \"#2a3f5f\", \"gridcolor\": \"white\", \"linecolor\": \"white\", \"minorgridcolor\": \"white\", \"startlinecolor\": \"#2a3f5f\"}, \"baxis\": {\"endlinecolor\": \"#2a3f5f\", \"gridcolor\": \"white\", \"linecolor\": \"white\", \"minorgridcolor\": \"white\", \"startlinecolor\": \"#2a3f5f\"}, \"type\": \"carpet\"}], \"choropleth\": [{\"colorbar\": {\"outlinewidth\": 0, \"ticks\": \"\"}, \"type\": \"choropleth\"}], \"contour\": [{\"colorbar\": {\"outlinewidth\": 0, \"ticks\": \"\"}, \"colorscale\": [[0.0, \"#0d0887\"], [0.1111111111111111, \"#46039f\"], [0.2222222222222222, \"#7201a8\"], [0.3333333333333333, \"#9c179e\"], [0.4444444444444444, \"#bd3786\"], [0.5555555555555556, \"#d8576b\"], [0.6666666666666666, \"#ed7953\"], [0.7777777777777778, \"#fb9f3a\"], [0.8888888888888888, \"#fdca26\"], [1.0, \"#f0f921\"]], \"type\": \"contour\"}], \"contourcarpet\": [{\"colorbar\": {\"outlinewidth\": 0, \"ticks\": \"\"}, \"type\": \"contourcarpet\"}], \"heatmap\": [{\"colorbar\": {\"outlinewidth\": 0, \"ticks\": \"\"}, \"colorscale\": [[0.0, \"#0d0887\"], [0.1111111111111111, \"#46039f\"], [0.2222222222222222, \"#7201a8\"], [0.3333333333333333, \"#9c179e\"], [0.4444444444444444, \"#bd3786\"], [0.5555555555555556, \"#d8576b\"], [0.6666666666666666, \"#ed7953\"], [0.7777777777777778, \"#fb9f3a\"], [0.8888888888888888, \"#fdca26\"], [1.0, \"#f0f921\"]], \"type\": \"heatmap\"}], \"heatmapgl\": [{\"colorbar\": {\"outlinewidth\": 0, \"ticks\": \"\"}, \"colorscale\": [[0.0, \"#0d0887\"], [0.1111111111111111, \"#46039f\"], [0.2222222222222222, \"#7201a8\"], [0.3333333333333333, \"#9c179e\"], [0.4444444444444444, \"#bd3786\"], [0.5555555555555556, \"#d8576b\"], [0.6666666666666666, \"#ed7953\"], [0.7777777777777778, \"#fb9f3a\"], [0.8888888888888888, \"#fdca26\"], [1.0, \"#f0f921\"]], \"type\": \"heatmapgl\"}], \"histogram\": [{\"marker\": {\"colorbar\": {\"outlinewidth\": 0, \"ticks\": \"\"}}, \"type\": \"histogram\"}], \"histogram2d\": [{\"colorbar\": {\"outlinewidth\": 0, \"ticks\": \"\"}, \"colorscale\": [[0.0, \"#0d0887\"], [0.1111111111111111, \"#46039f\"], [0.2222222222222222, \"#7201a8\"], [0.3333333333333333, \"#9c179e\"], [0.4444444444444444, \"#bd3786\"], [0.5555555555555556, \"#d8576b\"], [0.6666666666666666, \"#ed7953\"], [0.7777777777777778, \"#fb9f3a\"], [0.8888888888888888, \"#fdca26\"], [1.0, \"#f0f921\"]], \"type\": \"histogram2d\"}], \"histogram2dcontour\": [{\"colorbar\": {\"outlinewidth\": 0, \"ticks\": \"\"}, \"colorscale\": [[0.0, \"#0d0887\"], [0.1111111111111111, \"#46039f\"], [0.2222222222222222, \"#7201a8\"], [0.3333333333333333, \"#9c179e\"], [0.4444444444444444, \"#bd3786\"], [0.5555555555555556, \"#d8576b\"], [0.6666666666666666, \"#ed7953\"], [0.7777777777777778, \"#fb9f3a\"], [0.8888888888888888, \"#fdca26\"], [1.0, \"#f0f921\"]], \"type\": \"histogram2dcontour\"}], \"mesh3d\": [{\"colorbar\": {\"outlinewidth\": 0, \"ticks\": \"\"}, \"type\": \"mesh3d\"}], \"parcoords\": [{\"line\": {\"colorbar\": {\"outlinewidth\": 0, \"ticks\": \"\"}}, \"type\": \"parcoords\"}], \"pie\": [{\"automargin\": true, \"type\": \"pie\"}], \"scatter\": [{\"marker\": {\"colorbar\": {\"outlinewidth\": 0, \"ticks\": \"\"}}, \"type\": \"scatter\"}], \"scatter3d\": [{\"line\": {\"colorbar\": {\"outlinewidth\": 0, \"ticks\": \"\"}}, \"marker\": {\"colorbar\": {\"outlinewidth\": 0, \"ticks\": \"\"}}, \"type\": \"scatter3d\"}], \"scattercarpet\": [{\"marker\": {\"colorbar\": {\"outlinewidth\": 0, \"ticks\": \"\"}}, \"type\": \"scattercarpet\"}], \"scattergeo\": [{\"marker\": {\"colorbar\": {\"outlinewidth\": 0, \"ticks\": \"\"}}, \"type\": \"scattergeo\"}], \"scattergl\": [{\"marker\": {\"colorbar\": {\"outlinewidth\": 0, \"ticks\": \"\"}}, \"type\": \"scattergl\"}], \"scattermapbox\": [{\"marker\": {\"colorbar\": {\"outlinewidth\": 0, \"ticks\": \"\"}}, \"type\": \"scattermapbox\"}], \"scatterpolar\": [{\"marker\": {\"colorbar\": {\"outlinewidth\": 0, \"ticks\": \"\"}}, \"type\": \"scatterpolar\"}], \"scatterpolargl\": [{\"marker\": {\"colorbar\": {\"outlinewidth\": 0, \"ticks\": \"\"}}, \"type\": \"scatterpolargl\"}], \"scatterternary\": [{\"marker\": {\"colorbar\": {\"outlinewidth\": 0, \"ticks\": \"\"}}, \"type\": \"scatterternary\"}], \"surface\": [{\"colorbar\": {\"outlinewidth\": 0, \"ticks\": \"\"}, \"colorscale\": [[0.0, \"#0d0887\"], [0.1111111111111111, \"#46039f\"], [0.2222222222222222, \"#7201a8\"], [0.3333333333333333, \"#9c179e\"], [0.4444444444444444, \"#bd3786\"], [0.5555555555555556, \"#d8576b\"], [0.6666666666666666, \"#ed7953\"], [0.7777777777777778, \"#fb9f3a\"], [0.8888888888888888, \"#fdca26\"], [1.0, \"#f0f921\"]], \"type\": \"surface\"}], \"table\": [{\"cells\": {\"fill\": {\"color\": \"#EBF0F8\"}, \"line\": {\"color\": \"white\"}}, \"header\": {\"fill\": {\"color\": \"#C8D4E3\"}, \"line\": {\"color\": \"white\"}}, \"type\": \"table\"}]}, \"layout\": {\"annotationdefaults\": {\"arrowcolor\": \"#2a3f5f\", \"arrowhead\": 0, \"arrowwidth\": 1}, \"coloraxis\": {\"colorbar\": {\"outlinewidth\": 0, \"ticks\": \"\"}}, \"colorscale\": {\"diverging\": [[0, \"#8e0152\"], [0.1, \"#c51b7d\"], [0.2, \"#de77ae\"], [0.3, \"#f1b6da\"], [0.4, \"#fde0ef\"], [0.5, \"#f7f7f7\"], [0.6, \"#e6f5d0\"], [0.7, \"#b8e186\"], [0.8, \"#7fbc41\"], [0.9, \"#4d9221\"], [1, \"#276419\"]], \"sequential\": [[0.0, \"#0d0887\"], [0.1111111111111111, \"#46039f\"], [0.2222222222222222, \"#7201a8\"], [0.3333333333333333, \"#9c179e\"], [0.4444444444444444, \"#bd3786\"], [0.5555555555555556, \"#d8576b\"], [0.6666666666666666, \"#ed7953\"], [0.7777777777777778, \"#fb9f3a\"], [0.8888888888888888, \"#fdca26\"], [1.0, \"#f0f921\"]], \"sequentialminus\": [[0.0, \"#0d0887\"], [0.1111111111111111, \"#46039f\"], [0.2222222222222222, \"#7201a8\"], [0.3333333333333333, \"#9c179e\"], [0.4444444444444444, \"#bd3786\"], [0.5555555555555556, \"#d8576b\"], [0.6666666666666666, \"#ed7953\"], [0.7777777777777778, \"#fb9f3a\"], [0.8888888888888888, \"#fdca26\"], [1.0, \"#f0f921\"]]}, \"colorway\": [\"#636efa\", \"#EF553B\", \"#00cc96\", \"#ab63fa\", \"#FFA15A\", \"#19d3f3\", \"#FF6692\", \"#B6E880\", \"#FF97FF\", \"#FECB52\"], \"font\": {\"color\": \"#2a3f5f\"}, \"geo\": {\"bgcolor\": \"white\", \"lakecolor\": \"white\", \"landcolor\": \"#E5ECF6\", \"showlakes\": true, \"showland\": true, \"subunitcolor\": \"white\"}, \"hoverlabel\": {\"align\": \"left\"}, \"hovermode\": \"closest\", \"mapbox\": {\"style\": \"light\"}, \"paper_bgcolor\": \"white\", \"plot_bgcolor\": \"#E5ECF6\", \"polar\": {\"angularaxis\": {\"gridcolor\": \"white\", \"linecolor\": \"white\", \"ticks\": \"\"}, \"bgcolor\": \"#E5ECF6\", \"radialaxis\": {\"gridcolor\": \"white\", \"linecolor\": \"white\", \"ticks\": \"\"}}, \"scene\": {\"xaxis\": {\"backgroundcolor\": \"#E5ECF6\", \"gridcolor\": \"white\", \"gridwidth\": 2, \"linecolor\": \"white\", \"showbackground\": true, \"ticks\": \"\", \"zerolinecolor\": \"white\"}, \"yaxis\": {\"backgroundcolor\": \"#E5ECF6\", \"gridcolor\": \"white\", \"gridwidth\": 2, \"linecolor\": \"white\", \"showbackground\": true, \"ticks\": \"\", \"zerolinecolor\": \"white\"}, \"zaxis\": {\"backgroundcolor\": \"#E5ECF6\", \"gridcolor\": \"white\", \"gridwidth\": 2, \"linecolor\": \"white\", \"showbackground\": true, \"ticks\": \"\", \"zerolinecolor\": \"white\"}}, \"shapedefaults\": {\"line\": {\"color\": \"#2a3f5f\"}}, \"ternary\": {\"aaxis\": {\"gridcolor\": \"white\", \"linecolor\": \"white\", \"ticks\": \"\"}, \"baxis\": {\"gridcolor\": \"white\", \"linecolor\": \"white\", \"ticks\": \"\"}, \"bgcolor\": \"#E5ECF6\", \"caxis\": {\"gridcolor\": \"white\", \"linecolor\": \"white\", \"ticks\": \"\"}}, \"title\": {\"x\": 0.05}, \"xaxis\": {\"automargin\": true, \"gridcolor\": \"white\", \"linecolor\": \"white\", \"ticks\": \"\", \"title\": {\"standoff\": 15}, \"zerolinecolor\": \"white\", \"zerolinewidth\": 2}, \"yaxis\": {\"automargin\": true, \"gridcolor\": \"white\", \"linecolor\": \"white\", \"ticks\": \"\", \"title\": {\"standoff\": 15}, \"zerolinecolor\": \"white\", \"zerolinewidth\": 2}}}, \"title\": {\"text\": \"FTIR Spectra of chicken meat\"}},\n",
              "                        {\"responsive\": true}\n",
              "                    ).then(function(){\n",
              "                            \n",
              "var gd = document.getElementById('958e7416-4f0a-42ff-8e0e-6ae81752d4b3');\n",
              "var x = new MutationObserver(function (mutations, observer) {{\n",
              "        var display = window.getComputedStyle(gd).display;\n",
              "        if (!display || display === 'none') {{\n",
              "            console.log([gd, 'removed!']);\n",
              "            Plotly.purge(gd);\n",
              "            observer.disconnect();\n",
              "        }}\n",
              "}});\n",
              "\n",
              "// Listen for the removal of the full notebook cells\n",
              "var notebookContainer = gd.closest('#notebook-container');\n",
              "if (notebookContainer) {{\n",
              "    x.observe(notebookContainer, {childList: true});\n",
              "}}\n",
              "\n",
              "// Listen for the clearing of the current output cell\n",
              "var outputEl = gd.closest('.output');\n",
              "if (outputEl) {{\n",
              "    x.observe(outputEl, {childList: true});\n",
              "}}\n",
              "\n",
              "                        })\n",
              "                };\n",
              "                });\n",
              "            </script>\n",
              "        </div>"
            ]
          },
          "metadata": {
            "tags": []
          }
        }
      ]
    },
    {
      "cell_type": "code",
      "metadata": {
        "colab": {
          "base_uri": "https://localhost:8080/",
          "height": 542
        },
        "id": "9nPIbmWV0lqv",
        "outputId": "b3494b73-498c-4747-a586-9f05ca12d492"
      },
      "source": [
        "temp = df.groupby(\"Label\").mean().reset_index()\n",
        "plot_line(temp.columns[1:],(temp[temp[\"Label\"] == \"Pork\"].iloc[:,1:].values[0],\"Pork\"),title = \"FTIR Spectra of pork meat\")"
      ],
      "execution_count": 47,
      "outputs": [
        {
          "output_type": "display_data",
          "data": {
            "text/html": [
              "<div>\n",
              "        \n",
              "        \n",
              "            <div id=\"35a58431-aaea-4488-b00c-605d2920740b\" class=\"plotly-graph-div\" style=\"height:525px; width:100%;\"></div>\n",
              "            <script type=\"text/javascript\">\n",
              "                require([\"plotly\"], function(Plotly) {\n",
              "                    window.PLOTLYENV=window.PLOTLYENV || {};\n",
              "                    \n",
              "                if (document.getElementById(\"35a58431-aaea-4488-b00c-605d2920740b\")) {\n",
              "                    Plotly.newPlot(\n",
              "                        '35a58431-aaea-4488-b00c-605d2920740b',\n",
              "                        [{\"line\": {\"color\": \"red\", \"width\": 4}, \"name\": \"Pork\", \"type\": \"scatter\", \"x\": [1005.3495, 1007.279, 1009.2085, 1011.138, 1013.0675, 1014.997, 1016.9265, 1018.8560000000001, 1020.7855, 1022.715, 1024.6445, 1026.5739999999998, 1028.5035, 1030.433, 1032.3625, 1034.292, 1036.2215, 1038.151, 1040.0815, 1042.011, 1043.9405, 1045.87, 1047.7995, 1049.729, 1051.6585, 1053.588, 1055.5175, 1057.447, 1059.3765, 1061.306, 1063.2355, 1065.165, 1067.0945, 1069.024, 1070.9535, 1072.883, 1074.8135, 1076.743, 1078.6725, 1080.6019999999999, 1082.5315, 1084.461, 1086.3905, 1088.32, 1090.2495, 1092.1789999999999, 1094.1085, 1096.038, 1097.9675, 1099.897, 1101.8265, 1103.756, 1105.6855, 1107.615, 1109.5455, 1111.475, 1113.4045, 1115.3339999999998, 1117.2635, 1119.193, 1121.1225, 1123.052, 1124.9815, 1126.911, 1128.8405, 1130.77, 1132.7005, 1134.63, 1136.5595, 1138.489, 1140.4185, 1142.348, 1144.2775, 1146.2069999999999, 1148.1365, 1150.066, 1151.9955, 1153.925, 1155.8545, 1157.7839999999999, 1159.7135, 1161.643, 1163.5725, 1165.502, 1167.4325, 1169.362, 1171.2915, 1173.221, 1175.1505, 1177.08, 1179.0095, 1180.9389999999999, 1182.8685, 1184.798, 1186.7275, 1188.657, 1190.5875, 1192.517, 1194.4465, 1196.376, 1198.3055, 1200.235, 1202.1645, 1204.094, 1206.0235, 1207.953, 1209.8825, 1211.812, 1213.7415, 1215.671, 1217.6005, 1219.53, 1221.4595, 1223.389, 1225.3195, 1227.249, 1229.1785, 1231.108, 1233.0375, 1234.9669999999999, 1236.8965, 1238.826, 1240.7555, 1242.685, 1244.6145, 1246.5439999999999, 1248.4745, 1250.404, 1252.3335, 1254.263, 1256.1925, 1258.122, 1260.0515, 1261.981, 1263.9105, 1265.84, 1267.7695, 1269.6989999999998, 1271.6285, 1273.558, 1275.4875, 1277.417, 1279.3465, 1281.276, 1283.2065, 1285.136, 1287.0655, 1288.995, 1290.9245, 1292.854, 1294.7835, 1296.713, 1298.6425, 1300.572, 1302.5015, 1304.431, 1306.3615, 1308.2910000000002, 1310.2205, 1312.15, 1314.0795, 1316.009, 1317.9385, 1319.868, 1321.7975, 1323.727, 1325.6565, 1327.586, 1329.5155, 1331.445, 1333.3745, 1335.3039999999999, 1337.2335, 1339.1629999999998, 1341.0935, 1343.023, 1344.9525, 1346.882, 1348.8115, 1350.741, 1352.6705, 1354.6, 1356.5295, 1358.4589999999998, 1360.3885, 1362.318, 1364.2485, 1366.1779999999999, 1368.1075, 1370.037, 1371.9665, 1373.896, 1375.8255, 1377.755, 1379.6845, 1381.614, 1383.5435, 1385.473, 1387.4025, 1389.332, 1391.2615, 1393.191, 1395.1205, 1397.05, 1398.9805, 1400.91, 1402.8395, 1404.769, 1406.6985, 1408.628, 1410.5575, 1412.487, 1414.4165, 1416.346, 1418.2755, 1420.205, 1422.1345, 1424.0639999999999, 1425.9935, 1427.9229999999998, 1429.8525, 1431.7820000000002, 1433.7125, 1435.642, 1437.5715, 1439.501, 1441.4305, 1443.36, 1445.2895, 1447.219, 1449.1485, 1451.078, 1453.0075, 1454.9370000000001, 1456.8675, 1458.797, 1460.7265, 1462.656, 1464.5855, 1466.515, 1468.4445, 1470.374, 1472.3035, 1474.233, 1476.1625, 1478.092, 1480.0215, 1481.951, 1483.8805, 1485.81, 1487.7395, 1489.6689999999999, 1491.5995, 1493.529, 1495.4585, 1497.388, 1499.3175, 1501.247, 1503.1765, 1505.106, 1507.0355, 1508.965, 1510.8945, 1512.8239999999998, 1514.7545, 1516.684, 1518.6135, 1520.543, 1522.4725, 1524.402, 1526.3315, 1528.261, 1530.1905, 1532.12, 1534.0495, 1535.979, 1537.9085, 1539.838, 1541.7675, 1543.6970000000001, 1545.6265, 1547.556, 1549.4865, 1551.4160000000002, 1553.3455, 1555.275, 1557.2045, 1559.134, 1561.0635, 1562.993, 1564.9225, 1566.852, 1568.7815, 1570.711, 1572.6415, 1574.5710000000001, 1576.5005, 1578.43, 1580.3595, 1582.289, 1584.2185, 1586.148, 1588.0775, 1590.007, 1591.9365, 1593.866, 1595.7955, 1597.725, 1599.6545, 1601.5839999999998, 1603.5135, 1605.443, 1607.3735, 1609.3029999999999, 1611.2325, 1613.162, 1615.0915, 1617.021, 1618.9505, 1620.88, 1622.8095, 1624.739, 1626.6685, 1628.598, 1630.5285, 1632.4579999999999, 1634.3875, 1636.317, 1638.2465, 1640.1760000000002, 1642.1055, 1644.035, 1645.9645, 1647.894, 1649.8235, 1651.753, 1653.6825, 1655.612, 1657.5415, 1659.471, 1661.4005, 1663.33, 1665.2605, 1667.19, 1669.1195, 1671.049, 1672.9785, 1674.908, 1676.8375, 1678.767, 1680.6965, 1682.626, 1684.5555, 1686.485, 1688.4155, 1690.345, 1692.2745, 1694.204, 1696.1335, 1698.0629999999999, 1699.9925, 1701.922, 1703.8515, 1705.781, 1707.7105, 1709.64, 1711.5695, 1713.499, 1715.4285, 1717.358, 1719.2875, 1721.217, 1723.1475, 1725.0770000000002, 1727.0065, 1728.9360000000001, 1730.8655, 1732.795, 1734.7245, 1736.654, 1738.5835, 1740.513, 1742.4425, 1744.372, 1746.3015, 1748.231, 1750.1605, 1752.09, 1754.0195, 1755.9489999999998, 1757.8795, 1759.809, 1761.7385, 1763.668, 1765.5975, 1767.527, 1769.4565, 1771.386, 1773.3155, 1775.245, 1777.1745, 1779.104, 1781.0345, 1782.964, 1784.8935, 1786.8229999999999, 1788.7525, 1790.682, 1792.6115, 1794.5410000000002, 1796.4705, 1798.4, 1800.3295, 1802.259, 1804.1885, 1806.118, 1808.0475, 1809.977, 1811.9065, 1813.836, 1815.7665, 1817.6960000000001, 1819.6255, 1821.555, 1823.4845, 1825.414, 1827.3435, 1829.273, 1831.2025, 1833.132, 1835.0615, 1836.991, 1838.9215, 1840.851, 1842.7805, 1844.71, 1846.6395, 1848.569, 1850.4985, 1852.4279999999999, 1854.3575, 1856.287, 1858.2165, 1860.146, 1862.0755, 1864.005, 1865.9345, 1867.864], \"y\": [0.5373349504749999, 0.5360583401, 0.5350600397249997, 0.534287764, 0.5341394487, 0.533881808425, 0.5338539030000001, 0.5339349208749997, 0.534314886, 0.5352455810500001, 0.5367113824000002, 0.5386028442999999, 0.5413929505499999, 0.5443195115750001, 0.5472588607000002, 0.5498649741499999, 0.5527324055999999, 0.555710175325, 0.5579316498499999, 0.55907794255, 0.559115665475, 0.5576484666000001, 0.5551573543999999, 0.5529702472000001, 0.551431466475, 0.550737016175, 0.550753278275, 0.5515091125, 0.5532096127, 0.5554035967, 0.558309502675, 0.561802897275, 0.5659937086, 0.5709187693000001, 0.5760043777500001, 0.58109438585, 0.5859007161499998, 0.5889964243500001, 0.5905009611250001, 0.58990503945, 0.5872856849499999, 0.5829803575250001, 0.577048807775, 0.570584772125, 0.5644333575499999, 0.558594749725, 0.5532321711499999, 0.5482367755000002, 0.5436344351500002, 0.5399945727249998, 0.5369784394, 0.5348916318, 0.5332160156500001, 0.5322676448500001, 0.532490253925, 0.5332898872999999, 0.5344894650250002, 0.53600766915, 0.5376338608500001, 0.53911725195, 0.53998361835, 0.5402955796, 0.5398542883999998, 0.537706780225, 0.5339769324750001, 0.5292300156749999, 0.523977268625, 0.5194588136749998, 0.5158572555999998, 0.5135340801, 0.512600421875, 0.512327564475, 0.5130246624500001, 0.514502928175, 0.5166930495749998, 0.5191188450750002, 0.521425058775, 0.52354338575, 0.5253462939250001, 0.5266529461000001, 0.527630433375, 0.52845396575, 0.52874001035, 0.529130963725, 0.5291589779250001, 0.529374182225, 0.5295776834, 0.5287321600250001, 0.5264484018750002, 0.5229028903249999, 0.5191287807999999, 0.5155421711249999, 0.511856783125, 0.508654485375, 0.506485189325, 0.505207478375, 0.5044292936500001, 0.5041492760249999, 0.504160885675, 0.5044050340250001, 0.5044228050499999, 0.5042235022, 0.504422798575, 0.505071486125, 0.506227552075, 0.5072622496999999, 0.5083713604250002, 0.5097988853, 0.511216322075, 0.51297757535, 0.514938183975, 0.5174859323999998, 0.5196252797249999, 0.5214777213999998, 0.5234722071999999, 0.5256166181999999, 0.5278155026000001, 0.530097459325, 0.5322301197250001, 0.534181459375, 0.536034862925, 0.5372894894999999, 0.5378854205249999, 0.5379930734, 0.5372953950249999, 0.536304165, 0.535050831375, 0.5337215677249999, 0.5324252247249999, 0.5308407591499998, 0.5293587446499999, 0.5277528757499999, 0.5263764, 0.5252453589999998, 0.5247193437750002, 0.5244246305, 0.5237900417250001, 0.522621431225, 0.52176296525, 0.5207064124750002, 0.519924322025, 0.5198617432250001, 0.5197959094, 0.5199103924750001, 0.5203535226000001, 0.5208759646, 0.5216724310249999, 0.5220970396999999, 0.5225784303000001, 0.5236166767249999, 0.5248075666750001, 0.5264212670249998, 0.5286200485999999, 0.5311632315000001, 0.5340470364999998, 0.5369359320750002, 0.53946200185, 0.5412055547499999, 0.54212912045, 0.5420773691500003, 0.5402522929249999, 0.5375164866000001, 0.5343134482749998, 0.5302831883000001, 0.5262998661999998, 0.5221505368999998, 0.5182331974000001, 0.5148847873, 0.5121922549250001, 0.51021216515, 0.5090264608750001, 0.5086104920250001, 0.508627054325, 0.5083808129999999, 0.5071397593, 0.506456199225, 0.5063467919750001, 0.505325978225, 0.504736552975, 0.5041437321, 0.5039484296, 0.5039203886999999, 0.5036925092, 0.5042269911, 0.5055278731, 0.5070103735, 0.50806852785, 0.510400467875, 0.512908045975, 0.5130819929249999, 0.513589388125, 0.515779644225, 0.5190895598, 0.524553903525, 0.5318432962750002, 0.5393015458, 0.5481083633999998, 0.558263187975, 0.568429351975, 0.578917176225, 0.58901699105, 0.59832627635, 0.6035582229500001, 0.6060758671500002, 0.605811187475, 0.6006007353749998, 0.5968225978750002, 0.5910020312499997, 0.5824245714250003, 0.5768440403499999, 0.5717062924749999, 0.5667115310499999, 0.5637738606999998, 0.5617731213000001, 0.55972041055, 0.552453112975, 0.5483461993000001, 0.5458141884750001, 0.539941523625, 0.537117925525, 0.5331592724, 0.5285573742999998, 0.528131175925, 0.5309432601000001, 0.5328704134250001, 0.5353700450500002, 0.5396879052500001, 0.542828821225, 0.546152007275, 0.549458557, 0.5521532414999999, 0.556122740125, 0.56073354865, 0.5651533537249999, 0.5661754439, 0.5594052759749999, 0.5577274408499997, 0.5584104867749999, 0.5573155722500001, 0.5525050979, 0.5502264748749999, 0.54870314625, 0.5446819761, 0.53310537355, 0.527007602625, 0.5212704018249997, 0.519753817425, 0.5192404237500001, 0.5194718854000001, 0.522810012675, 0.527240554825, 0.5322225906749999, 0.5372162849749998, 0.54447196095, 0.5536346107750001, 0.5624546828500002, 0.5709580603250001, 0.5808080860249998, 0.591933958225, 0.60451280775, 0.617693066325, 0.6324865508500002, 0.6494395466749999, 0.66688468165, 0.6850709022999999, 0.7004846285249999, 0.7152056282999998, 0.7271235588749998, 0.737992944375, 0.751258671925, 0.7681064296750002, 0.78525295655, 0.803506238625, 0.82245006805, 0.8386299900499999, 0.86002852045, 0.878192049025, 0.8921742351999999, 0.9057308358999998, 0.92938283905, 0.9455119781499999, 0.9595661252000005, 0.9662987445499999, 0.9643973463499999, 0.961841349575, 0.9511614369999999, 0.9421908338000001, 0.9306922420749999, 0.9006442684000001, 0.90480465655, 0.9015427124499998, 0.8959810958999999, 0.89568532495, 0.8907019752249999, 0.889476387875, 0.8950140408250004, 0.8963888775000001, 0.8970094100500001, 0.903752218175, 0.9114962502500003, 0.9185796808500001, 0.9280708737999998, 0.938452659275, 0.9503910623249998, 0.9637828897750002, 0.97918220725, 0.9954948459749999, 1.0146898069749999, 1.03461882825, 1.0576562706000001, 1.082871071025, 1.1119564454750002, 1.142696828325, 1.1786585578250002, 1.2154815807749997, 1.2569495947250002, 1.2944530282499997, 1.3310949628000002, 1.381210122775, 1.4270912523, 1.4606047218749996, 1.500822697425, 1.5419184960249999, 1.57580467605, 1.607610967175, 1.63556716015, 1.6417173643500003, 1.6251219655249998, 1.644294689525, 1.6658704372250006, 1.6603102490750001, 1.648314521575, 1.6166516669750002, 1.5730335043, 1.5621111323, 1.5445588408500002, 1.4549248662999998, 1.4336869637750003, 1.4328184211250004, 1.3972935809250002, 1.3514825504999997, 1.3009160046250001, 1.2500157599250001, 1.2182965155999999, 1.172376640175, 1.1204660660750005, 1.0803296502999997, 1.0504871899000001, 0.9967622578000004, 0.965041288125, 0.9262985614750001, 0.888437835825, 0.8461643847000001, 0.7918864985999998, 0.7714793234500001, 0.7361266608750001, 0.7001473836749998, 0.6726415079000001, 0.6407043541500002, 0.599272640675, 0.582523728375, 0.5413767792749999, 0.52287777565, 0.5035225716, 0.47706721252500006, 0.460054431125, 0.441228892925, 0.4260307686999999, 0.40959268882499994, 0.39436916055, 0.37706029582499995, 0.36597358825, 0.3579684597750001, 0.348043619425, 0.34116121425, 0.3362100713749999, 0.32881380647499997, 0.3215996493750001, 0.31474655637500004, 0.3050398719, 0.3011881076250001, 0.291806820175, 0.28337701704999996, 0.2757747951499999, 0.26729964249999993, 0.25915510615000004, 0.249160251775, 0.23954169649999998, 0.22986016315000005, 0.22382151210000006, 0.2151648216, 0.20843520970000004, 0.20351757825, 0.19680612360000005, 0.192475573775, 0.18870239297499997, 0.18409924107500003, 0.18146135477500006, 0.17719741660000005, 0.17350883579999998, 0.1710637484000001, 0.16845269347500003, 0.16605296504999995, 0.16316642117499996, 0.16143173475, 0.15895773919999998, 0.15705634980000002, 0.15568441145000003, 0.153645249925, 0.15129611894999997, 0.15003576837500004, 0.14846866050000002, 0.14695160097499999, 0.14494299254999998, 0.14337623149999998, 0.1420892378, 0.14077532042500002, 0.13949053782499998, 0.13824777370000002, 0.1370121402, 0.13625133487499996, 0.13516359065, 0.13430769747500004, 0.13327295422500002, 0.1326396459, 0.13177606752499998, 0.1307230538, 0.13027535210000002, 0.1290994902, 0.12814783925000003, 0.1276332839, 0.12681681035, 0.12616332065, 0.1253502602, 0.12490291672500002, 0.124312115125, 0.12366969324999996, 0.12351217014999998, 0.12327168682500007, 0.12304269502500002, 0.1226405387, 0.122122262575, 0.1217422043, 0.12139968082500001, 0.12097928739999997, 0.12046695022499998, 0.120098539875, 0.11996258077500004]}],\n",
              "                        {\"template\": {\"data\": {\"bar\": [{\"error_x\": {\"color\": \"#2a3f5f\"}, \"error_y\": {\"color\": \"#2a3f5f\"}, \"marker\": {\"line\": {\"color\": \"#E5ECF6\", \"width\": 0.5}}, \"type\": \"bar\"}], \"barpolar\": [{\"marker\": {\"line\": {\"color\": \"#E5ECF6\", \"width\": 0.5}}, \"type\": \"barpolar\"}], \"carpet\": [{\"aaxis\": {\"endlinecolor\": \"#2a3f5f\", \"gridcolor\": \"white\", \"linecolor\": \"white\", \"minorgridcolor\": \"white\", \"startlinecolor\": \"#2a3f5f\"}, \"baxis\": {\"endlinecolor\": \"#2a3f5f\", \"gridcolor\": \"white\", \"linecolor\": \"white\", \"minorgridcolor\": \"white\", \"startlinecolor\": \"#2a3f5f\"}, \"type\": \"carpet\"}], \"choropleth\": [{\"colorbar\": {\"outlinewidth\": 0, \"ticks\": \"\"}, \"type\": \"choropleth\"}], \"contour\": [{\"colorbar\": {\"outlinewidth\": 0, \"ticks\": \"\"}, \"colorscale\": [[0.0, \"#0d0887\"], [0.1111111111111111, \"#46039f\"], [0.2222222222222222, \"#7201a8\"], [0.3333333333333333, \"#9c179e\"], [0.4444444444444444, \"#bd3786\"], [0.5555555555555556, \"#d8576b\"], [0.6666666666666666, \"#ed7953\"], [0.7777777777777778, \"#fb9f3a\"], [0.8888888888888888, \"#fdca26\"], [1.0, \"#f0f921\"]], \"type\": \"contour\"}], \"contourcarpet\": [{\"colorbar\": {\"outlinewidth\": 0, \"ticks\": \"\"}, \"type\": \"contourcarpet\"}], \"heatmap\": [{\"colorbar\": {\"outlinewidth\": 0, \"ticks\": \"\"}, \"colorscale\": [[0.0, \"#0d0887\"], [0.1111111111111111, \"#46039f\"], [0.2222222222222222, \"#7201a8\"], [0.3333333333333333, \"#9c179e\"], [0.4444444444444444, \"#bd3786\"], [0.5555555555555556, \"#d8576b\"], [0.6666666666666666, \"#ed7953\"], [0.7777777777777778, \"#fb9f3a\"], [0.8888888888888888, \"#fdca26\"], [1.0, \"#f0f921\"]], \"type\": \"heatmap\"}], \"heatmapgl\": [{\"colorbar\": {\"outlinewidth\": 0, \"ticks\": \"\"}, \"colorscale\": [[0.0, \"#0d0887\"], [0.1111111111111111, \"#46039f\"], [0.2222222222222222, \"#7201a8\"], [0.3333333333333333, \"#9c179e\"], [0.4444444444444444, \"#bd3786\"], [0.5555555555555556, \"#d8576b\"], [0.6666666666666666, \"#ed7953\"], [0.7777777777777778, \"#fb9f3a\"], [0.8888888888888888, \"#fdca26\"], [1.0, \"#f0f921\"]], \"type\": \"heatmapgl\"}], \"histogram\": [{\"marker\": {\"colorbar\": {\"outlinewidth\": 0, \"ticks\": \"\"}}, \"type\": \"histogram\"}], \"histogram2d\": [{\"colorbar\": {\"outlinewidth\": 0, \"ticks\": \"\"}, \"colorscale\": [[0.0, \"#0d0887\"], [0.1111111111111111, \"#46039f\"], [0.2222222222222222, \"#7201a8\"], [0.3333333333333333, \"#9c179e\"], [0.4444444444444444, \"#bd3786\"], [0.5555555555555556, \"#d8576b\"], [0.6666666666666666, \"#ed7953\"], [0.7777777777777778, \"#fb9f3a\"], [0.8888888888888888, \"#fdca26\"], [1.0, \"#f0f921\"]], \"type\": \"histogram2d\"}], \"histogram2dcontour\": [{\"colorbar\": {\"outlinewidth\": 0, \"ticks\": \"\"}, \"colorscale\": [[0.0, \"#0d0887\"], [0.1111111111111111, \"#46039f\"], [0.2222222222222222, \"#7201a8\"], [0.3333333333333333, \"#9c179e\"], [0.4444444444444444, \"#bd3786\"], [0.5555555555555556, \"#d8576b\"], [0.6666666666666666, \"#ed7953\"], [0.7777777777777778, \"#fb9f3a\"], [0.8888888888888888, \"#fdca26\"], [1.0, \"#f0f921\"]], \"type\": \"histogram2dcontour\"}], \"mesh3d\": [{\"colorbar\": {\"outlinewidth\": 0, \"ticks\": \"\"}, \"type\": \"mesh3d\"}], \"parcoords\": [{\"line\": {\"colorbar\": {\"outlinewidth\": 0, \"ticks\": \"\"}}, \"type\": \"parcoords\"}], \"pie\": [{\"automargin\": true, \"type\": \"pie\"}], \"scatter\": [{\"marker\": {\"colorbar\": {\"outlinewidth\": 0, \"ticks\": \"\"}}, \"type\": \"scatter\"}], \"scatter3d\": [{\"line\": {\"colorbar\": {\"outlinewidth\": 0, \"ticks\": \"\"}}, \"marker\": {\"colorbar\": {\"outlinewidth\": 0, \"ticks\": \"\"}}, \"type\": \"scatter3d\"}], \"scattercarpet\": [{\"marker\": {\"colorbar\": {\"outlinewidth\": 0, \"ticks\": \"\"}}, \"type\": \"scattercarpet\"}], \"scattergeo\": [{\"marker\": {\"colorbar\": {\"outlinewidth\": 0, \"ticks\": \"\"}}, \"type\": \"scattergeo\"}], \"scattergl\": [{\"marker\": {\"colorbar\": {\"outlinewidth\": 0, \"ticks\": \"\"}}, \"type\": \"scattergl\"}], \"scattermapbox\": [{\"marker\": {\"colorbar\": {\"outlinewidth\": 0, \"ticks\": \"\"}}, \"type\": \"scattermapbox\"}], \"scatterpolar\": [{\"marker\": {\"colorbar\": {\"outlinewidth\": 0, \"ticks\": \"\"}}, \"type\": \"scatterpolar\"}], \"scatterpolargl\": [{\"marker\": {\"colorbar\": {\"outlinewidth\": 0, \"ticks\": \"\"}}, \"type\": \"scatterpolargl\"}], \"scatterternary\": [{\"marker\": {\"colorbar\": {\"outlinewidth\": 0, \"ticks\": \"\"}}, \"type\": \"scatterternary\"}], \"surface\": [{\"colorbar\": {\"outlinewidth\": 0, \"ticks\": \"\"}, \"colorscale\": [[0.0, \"#0d0887\"], [0.1111111111111111, \"#46039f\"], [0.2222222222222222, \"#7201a8\"], [0.3333333333333333, \"#9c179e\"], [0.4444444444444444, \"#bd3786\"], [0.5555555555555556, \"#d8576b\"], [0.6666666666666666, \"#ed7953\"], [0.7777777777777778, \"#fb9f3a\"], [0.8888888888888888, \"#fdca26\"], [1.0, \"#f0f921\"]], \"type\": \"surface\"}], \"table\": [{\"cells\": {\"fill\": {\"color\": \"#EBF0F8\"}, \"line\": {\"color\": \"white\"}}, \"header\": {\"fill\": {\"color\": \"#C8D4E3\"}, \"line\": {\"color\": \"white\"}}, \"type\": \"table\"}]}, \"layout\": {\"annotationdefaults\": {\"arrowcolor\": \"#2a3f5f\", \"arrowhead\": 0, \"arrowwidth\": 1}, \"coloraxis\": {\"colorbar\": {\"outlinewidth\": 0, \"ticks\": \"\"}}, \"colorscale\": {\"diverging\": [[0, \"#8e0152\"], [0.1, \"#c51b7d\"], [0.2, \"#de77ae\"], [0.3, \"#f1b6da\"], [0.4, \"#fde0ef\"], [0.5, \"#f7f7f7\"], [0.6, \"#e6f5d0\"], [0.7, \"#b8e186\"], [0.8, \"#7fbc41\"], [0.9, \"#4d9221\"], [1, \"#276419\"]], \"sequential\": [[0.0, \"#0d0887\"], [0.1111111111111111, \"#46039f\"], [0.2222222222222222, \"#7201a8\"], [0.3333333333333333, \"#9c179e\"], [0.4444444444444444, \"#bd3786\"], [0.5555555555555556, \"#d8576b\"], [0.6666666666666666, \"#ed7953\"], [0.7777777777777778, \"#fb9f3a\"], [0.8888888888888888, \"#fdca26\"], [1.0, \"#f0f921\"]], \"sequentialminus\": [[0.0, \"#0d0887\"], [0.1111111111111111, \"#46039f\"], [0.2222222222222222, \"#7201a8\"], [0.3333333333333333, \"#9c179e\"], [0.4444444444444444, \"#bd3786\"], [0.5555555555555556, \"#d8576b\"], [0.6666666666666666, \"#ed7953\"], [0.7777777777777778, \"#fb9f3a\"], [0.8888888888888888, \"#fdca26\"], [1.0, \"#f0f921\"]]}, \"colorway\": [\"#636efa\", \"#EF553B\", \"#00cc96\", \"#ab63fa\", \"#FFA15A\", \"#19d3f3\", \"#FF6692\", \"#B6E880\", \"#FF97FF\", \"#FECB52\"], \"font\": {\"color\": \"#2a3f5f\"}, \"geo\": {\"bgcolor\": \"white\", \"lakecolor\": \"white\", \"landcolor\": \"#E5ECF6\", \"showlakes\": true, \"showland\": true, \"subunitcolor\": \"white\"}, \"hoverlabel\": {\"align\": \"left\"}, \"hovermode\": \"closest\", \"mapbox\": {\"style\": \"light\"}, \"paper_bgcolor\": \"white\", \"plot_bgcolor\": \"#E5ECF6\", \"polar\": {\"angularaxis\": {\"gridcolor\": \"white\", \"linecolor\": \"white\", \"ticks\": \"\"}, \"bgcolor\": \"#E5ECF6\", \"radialaxis\": {\"gridcolor\": \"white\", \"linecolor\": \"white\", \"ticks\": \"\"}}, \"scene\": {\"xaxis\": {\"backgroundcolor\": \"#E5ECF6\", \"gridcolor\": \"white\", \"gridwidth\": 2, \"linecolor\": \"white\", \"showbackground\": true, \"ticks\": \"\", \"zerolinecolor\": \"white\"}, \"yaxis\": {\"backgroundcolor\": \"#E5ECF6\", \"gridcolor\": \"white\", \"gridwidth\": 2, \"linecolor\": \"white\", \"showbackground\": true, \"ticks\": \"\", \"zerolinecolor\": \"white\"}, \"zaxis\": {\"backgroundcolor\": \"#E5ECF6\", \"gridcolor\": \"white\", \"gridwidth\": 2, \"linecolor\": \"white\", \"showbackground\": true, \"ticks\": \"\", \"zerolinecolor\": \"white\"}}, \"shapedefaults\": {\"line\": {\"color\": \"#2a3f5f\"}}, \"ternary\": {\"aaxis\": {\"gridcolor\": \"white\", \"linecolor\": \"white\", \"ticks\": \"\"}, \"baxis\": {\"gridcolor\": \"white\", \"linecolor\": \"white\", \"ticks\": \"\"}, \"bgcolor\": \"#E5ECF6\", \"caxis\": {\"gridcolor\": \"white\", \"linecolor\": \"white\", \"ticks\": \"\"}}, \"title\": {\"x\": 0.05}, \"xaxis\": {\"automargin\": true, \"gridcolor\": \"white\", \"linecolor\": \"white\", \"ticks\": \"\", \"title\": {\"standoff\": 15}, \"zerolinecolor\": \"white\", \"zerolinewidth\": 2}, \"yaxis\": {\"automargin\": true, \"gridcolor\": \"white\", \"linecolor\": \"white\", \"ticks\": \"\", \"title\": {\"standoff\": 15}, \"zerolinecolor\": \"white\", \"zerolinewidth\": 2}}}, \"title\": {\"text\": \"FTIR Spectra of pork meat\"}},\n",
              "                        {\"responsive\": true}\n",
              "                    ).then(function(){\n",
              "                            \n",
              "var gd = document.getElementById('35a58431-aaea-4488-b00c-605d2920740b');\n",
              "var x = new MutationObserver(function (mutations, observer) {{\n",
              "        var display = window.getComputedStyle(gd).display;\n",
              "        if (!display || display === 'none') {{\n",
              "            console.log([gd, 'removed!']);\n",
              "            Plotly.purge(gd);\n",
              "            observer.disconnect();\n",
              "        }}\n",
              "}});\n",
              "\n",
              "// Listen for the removal of the full notebook cells\n",
              "var notebookContainer = gd.closest('#notebook-container');\n",
              "if (notebookContainer) {{\n",
              "    x.observe(notebookContainer, {childList: true});\n",
              "}}\n",
              "\n",
              "// Listen for the clearing of the current output cell\n",
              "var outputEl = gd.closest('.output');\n",
              "if (outputEl) {{\n",
              "    x.observe(outputEl, {childList: true});\n",
              "}}\n",
              "\n",
              "                        })\n",
              "                };\n",
              "                });\n",
              "            </script>\n",
              "        </div>"
            ]
          },
          "metadata": {
            "tags": []
          }
        }
      ]
    },
    {
      "cell_type": "code",
      "metadata": {
        "colab": {
          "base_uri": "https://localhost:8080/",
          "height": 542
        },
        "id": "-RxuAnxJ2P12",
        "outputId": "f9f90a0c-8d71-49e7-81e4-c76116acc186"
      },
      "source": [
        "temp = df.groupby(\"Label\").mean().reset_index()\n",
        "plot_line(temp.columns[1:],(temp[temp[\"Label\"] == \"Turkey\"].iloc[:,1:].values[0],\"Turkey\"),title = \"FTIR Spectra of turkey meat\")"
      ],
      "execution_count": 48,
      "outputs": [
        {
          "output_type": "display_data",
          "data": {
            "text/html": [
              "<div>\n",
              "        \n",
              "        \n",
              "            <div id=\"ac3eb91a-877b-4a9f-bca3-95f54e125210\" class=\"plotly-graph-div\" style=\"height:525px; width:100%;\"></div>\n",
              "            <script type=\"text/javascript\">\n",
              "                require([\"plotly\"], function(Plotly) {\n",
              "                    window.PLOTLYENV=window.PLOTLYENV || {};\n",
              "                    \n",
              "                if (document.getElementById(\"ac3eb91a-877b-4a9f-bca3-95f54e125210\")) {\n",
              "                    Plotly.newPlot(\n",
              "                        'ac3eb91a-877b-4a9f-bca3-95f54e125210',\n",
              "                        [{\"line\": {\"color\": \"red\", \"width\": 4}, \"name\": \"Turkey\", \"type\": \"scatter\", \"x\": [1005.3495, 1007.279, 1009.2085, 1011.138, 1013.0675, 1014.997, 1016.9265, 1018.8560000000001, 1020.7855, 1022.715, 1024.6445, 1026.5739999999998, 1028.5035, 1030.433, 1032.3625, 1034.292, 1036.2215, 1038.151, 1040.0815, 1042.011, 1043.9405, 1045.87, 1047.7995, 1049.729, 1051.6585, 1053.588, 1055.5175, 1057.447, 1059.3765, 1061.306, 1063.2355, 1065.165, 1067.0945, 1069.024, 1070.9535, 1072.883, 1074.8135, 1076.743, 1078.6725, 1080.6019999999999, 1082.5315, 1084.461, 1086.3905, 1088.32, 1090.2495, 1092.1789999999999, 1094.1085, 1096.038, 1097.9675, 1099.897, 1101.8265, 1103.756, 1105.6855, 1107.615, 1109.5455, 1111.475, 1113.4045, 1115.3339999999998, 1117.2635, 1119.193, 1121.1225, 1123.052, 1124.9815, 1126.911, 1128.8405, 1130.77, 1132.7005, 1134.63, 1136.5595, 1138.489, 1140.4185, 1142.348, 1144.2775, 1146.2069999999999, 1148.1365, 1150.066, 1151.9955, 1153.925, 1155.8545, 1157.7839999999999, 1159.7135, 1161.643, 1163.5725, 1165.502, 1167.4325, 1169.362, 1171.2915, 1173.221, 1175.1505, 1177.08, 1179.0095, 1180.9389999999999, 1182.8685, 1184.798, 1186.7275, 1188.657, 1190.5875, 1192.517, 1194.4465, 1196.376, 1198.3055, 1200.235, 1202.1645, 1204.094, 1206.0235, 1207.953, 1209.8825, 1211.812, 1213.7415, 1215.671, 1217.6005, 1219.53, 1221.4595, 1223.389, 1225.3195, 1227.249, 1229.1785, 1231.108, 1233.0375, 1234.9669999999999, 1236.8965, 1238.826, 1240.7555, 1242.685, 1244.6145, 1246.5439999999999, 1248.4745, 1250.404, 1252.3335, 1254.263, 1256.1925, 1258.122, 1260.0515, 1261.981, 1263.9105, 1265.84, 1267.7695, 1269.6989999999998, 1271.6285, 1273.558, 1275.4875, 1277.417, 1279.3465, 1281.276, 1283.2065, 1285.136, 1287.0655, 1288.995, 1290.9245, 1292.854, 1294.7835, 1296.713, 1298.6425, 1300.572, 1302.5015, 1304.431, 1306.3615, 1308.2910000000002, 1310.2205, 1312.15, 1314.0795, 1316.009, 1317.9385, 1319.868, 1321.7975, 1323.727, 1325.6565, 1327.586, 1329.5155, 1331.445, 1333.3745, 1335.3039999999999, 1337.2335, 1339.1629999999998, 1341.0935, 1343.023, 1344.9525, 1346.882, 1348.8115, 1350.741, 1352.6705, 1354.6, 1356.5295, 1358.4589999999998, 1360.3885, 1362.318, 1364.2485, 1366.1779999999999, 1368.1075, 1370.037, 1371.9665, 1373.896, 1375.8255, 1377.755, 1379.6845, 1381.614, 1383.5435, 1385.473, 1387.4025, 1389.332, 1391.2615, 1393.191, 1395.1205, 1397.05, 1398.9805, 1400.91, 1402.8395, 1404.769, 1406.6985, 1408.628, 1410.5575, 1412.487, 1414.4165, 1416.346, 1418.2755, 1420.205, 1422.1345, 1424.0639999999999, 1425.9935, 1427.9229999999998, 1429.8525, 1431.7820000000002, 1433.7125, 1435.642, 1437.5715, 1439.501, 1441.4305, 1443.36, 1445.2895, 1447.219, 1449.1485, 1451.078, 1453.0075, 1454.9370000000001, 1456.8675, 1458.797, 1460.7265, 1462.656, 1464.5855, 1466.515, 1468.4445, 1470.374, 1472.3035, 1474.233, 1476.1625, 1478.092, 1480.0215, 1481.951, 1483.8805, 1485.81, 1487.7395, 1489.6689999999999, 1491.5995, 1493.529, 1495.4585, 1497.388, 1499.3175, 1501.247, 1503.1765, 1505.106, 1507.0355, 1508.965, 1510.8945, 1512.8239999999998, 1514.7545, 1516.684, 1518.6135, 1520.543, 1522.4725, 1524.402, 1526.3315, 1528.261, 1530.1905, 1532.12, 1534.0495, 1535.979, 1537.9085, 1539.838, 1541.7675, 1543.6970000000001, 1545.6265, 1547.556, 1549.4865, 1551.4160000000002, 1553.3455, 1555.275, 1557.2045, 1559.134, 1561.0635, 1562.993, 1564.9225, 1566.852, 1568.7815, 1570.711, 1572.6415, 1574.5710000000001, 1576.5005, 1578.43, 1580.3595, 1582.289, 1584.2185, 1586.148, 1588.0775, 1590.007, 1591.9365, 1593.866, 1595.7955, 1597.725, 1599.6545, 1601.5839999999998, 1603.5135, 1605.443, 1607.3735, 1609.3029999999999, 1611.2325, 1613.162, 1615.0915, 1617.021, 1618.9505, 1620.88, 1622.8095, 1624.739, 1626.6685, 1628.598, 1630.5285, 1632.4579999999999, 1634.3875, 1636.317, 1638.2465, 1640.1760000000002, 1642.1055, 1644.035, 1645.9645, 1647.894, 1649.8235, 1651.753, 1653.6825, 1655.612, 1657.5415, 1659.471, 1661.4005, 1663.33, 1665.2605, 1667.19, 1669.1195, 1671.049, 1672.9785, 1674.908, 1676.8375, 1678.767, 1680.6965, 1682.626, 1684.5555, 1686.485, 1688.4155, 1690.345, 1692.2745, 1694.204, 1696.1335, 1698.0629999999999, 1699.9925, 1701.922, 1703.8515, 1705.781, 1707.7105, 1709.64, 1711.5695, 1713.499, 1715.4285, 1717.358, 1719.2875, 1721.217, 1723.1475, 1725.0770000000002, 1727.0065, 1728.9360000000001, 1730.8655, 1732.795, 1734.7245, 1736.654, 1738.5835, 1740.513, 1742.4425, 1744.372, 1746.3015, 1748.231, 1750.1605, 1752.09, 1754.0195, 1755.9489999999998, 1757.8795, 1759.809, 1761.7385, 1763.668, 1765.5975, 1767.527, 1769.4565, 1771.386, 1773.3155, 1775.245, 1777.1745, 1779.104, 1781.0345, 1782.964, 1784.8935, 1786.8229999999999, 1788.7525, 1790.682, 1792.6115, 1794.5410000000002, 1796.4705, 1798.4, 1800.3295, 1802.259, 1804.1885, 1806.118, 1808.0475, 1809.977, 1811.9065, 1813.836, 1815.7665, 1817.6960000000001, 1819.6255, 1821.555, 1823.4845, 1825.414, 1827.3435, 1829.273, 1831.2025, 1833.132, 1835.0615, 1836.991, 1838.9215, 1840.851, 1842.7805, 1844.71, 1846.6395, 1848.569, 1850.4985, 1852.4279999999999, 1854.3575, 1856.287, 1858.2165, 1860.146, 1862.0755, 1864.005, 1865.9345, 1867.864], \"y\": [0.5294704024750001, 0.5273169792500001, 0.5256219889000002, 0.524232823025, 0.523179503125, 0.5223835304500001, 0.5218028268499999, 0.5214261531250002, 0.5212562112249999, 0.5215393135999999, 0.5222188239000002, 0.5233404120000001, 0.52525688105, 0.527684449725, 0.53017138815, 0.53295101655, 0.536233638325, 0.539859273975, 0.5433863874749999, 0.5461857513999998, 0.5479352868750001, 0.54859309075, 0.548459458075, 0.548007326575, 0.548122265875, 0.5490940284750001, 0.55066819195, 0.55299350415, 0.555958281175, 0.5595764001249999, 0.56397136305, 0.5690539054, 0.5746740742750001, 0.5805889052250003, 0.5863082576499999, 0.5915492534, 0.595902948075, 0.5985870480500002, 0.5991027520750001, 0.59748110925, 0.593880064075, 0.588799534025, 0.582894630825, 0.5766344318, 0.5704517879250001, 0.5644434022249999, 0.558659603875, 0.553440991175, 0.5488156775249999, 0.5446618837249999, 0.541164161375, 0.5383190622750001, 0.53602741535, 0.5343018312749999, 0.53333048015, 0.533406222875, 0.534453379275, 0.5361342235, 0.5380245312749998, 0.539736599175, 0.540870103275, 0.5411606831, 0.5405637794, 0.538597964325, 0.5351499345249999, 0.53071188605, 0.526016551225, 0.5219690462750001, 0.519052670625, 0.5174731672750001, 0.5170499071749999, 0.5174265383250001, 0.51842700365, 0.5201590711749998, 0.5225651567999999, 0.5253576303, 0.52825548925, 0.5308705729750001, 0.53308396325, 0.5347875565999999, 0.5359853391499999, 0.5368063013250002, 0.537277786625, 0.5374336865750001, 0.5372168613000001, 0.5369081591249999, 0.5362946385, 0.5348099246, 0.532059466425, 0.5281879372, 0.52422345175, 0.5203832935, 0.5166057975249998, 0.5133512556000002, 0.51102960715, 0.50974824335, 0.5090201031250001, 0.5086093088499999, 0.5085730580000001, 0.508677503925, 0.508845085125, 0.5092757081249999, 0.510150893, 0.5114220101, 0.5128956611250002, 0.5143727203499999, 0.5159038904750001, 0.5176493991250001, 0.51969351905, 0.5221685786, 0.5251058440249998, 0.528293381325, 0.53128261895, 0.534069693225, 0.537037839375, 0.54012483745, 0.543001009375, 0.5458218360999999, 0.54853345205, 0.550850184225, 0.5526976032999998, 0.5540257594750002, 0.554772079975, 0.5547853488250001, 0.5540187828750001, 0.552794196575, 0.5513877619499998, 0.5496186898500001, 0.54756584175, 0.545470122525, 0.5434933122750001, 0.541826072925, 0.5405183621250002, 0.5395307847999999, 0.538929037825, 0.53847395385, 0.5377175074000001, 0.5366844187, 0.5356182004250001, 0.534737008525, 0.5344170374, 0.5345908487, 0.5349396285249999, 0.5352657539000001, 0.5355281701499999, 0.5358590664999999, 0.5363384740749998, 0.5368438303999999, 0.537555379375, 0.538739308175, 0.5403668829, 0.5424350795, 0.544969539325, 0.5478292762250001, 0.550738249925, 0.5534516035249999, 0.5557859232, 0.5572829590249998, 0.5578677010749999, 0.5575060102, 0.5556030885500001, 0.5526525047999999, 0.5490430964499999, 0.5444282444749999, 0.539641026925, 0.5349381724750001, 0.530202165225, 0.5261316003, 0.5229661317000001, 0.520700379425, 0.5193545793249998, 0.5187850781750001, 0.5186780170749999, 0.518260340075, 0.5166340113500001, 0.5158607748250001, 0.5153480432249998, 0.5142407201, 0.5135572417500002, 0.5129162814750001, 0.5128141062999999, 0.5129827491750001, 0.5130880734499998, 0.513654235925, 0.5152434056749999, 0.5168684460499999, 0.5178297334249999, 0.520757264825, 0.52418618205, 0.5250777176500002, 0.5266354621749999, 0.5298606563000001, 0.5347335880249999, 0.5421130324250001, 0.5509838877000002, 0.560087228, 0.5707833193999999, 0.5825777675249999, 0.5943997714499998, 0.6068385732500002, 0.6189507470000001, 0.6300803536749999, 0.6362917693749999, 0.6393105406249997, 0.6387288791250001, 0.6326589712999999, 0.6277863393499999, 0.6202880829749999, 0.60944645515, 0.6017934099000002, 0.5945390938000001, 0.5874817308, 0.5826522221999999, 0.5791586867749998, 0.5759785795500002, 0.5673298282250001, 0.5623469912000001, 0.5592781225000001, 0.5529414506750001, 0.5498093350500001, 0.5453827085500002, 0.5407091150499999, 0.5405306081249999, 0.54382095945, 0.54653112225, 0.549798530775, 0.554923145375, 0.5589227431999999, 0.5626482001000002, 0.5664731521000003, 0.5693516036750002, 0.5736731843249999, 0.5786746728249998, 0.5833425272999999, 0.584328248025, 0.576643202175, 0.5740030811750001, 0.5737684885250001, 0.571979118125, 0.5676262378000001, 0.565713808425, 0.5634659612749999, 0.5576176231500003, 0.5433444478249998, 0.5367660052, 0.5306633677500001, 0.5288141015750001, 0.5282693335749998, 0.528935034575, 0.5329019329249999, 0.5383431528999999, 0.5443674128500001, 0.5507549200749999, 0.5597907814750002, 0.5705713776, 0.58154260505, 0.59218214335, 0.6040152016500001, 0.617267694475, 0.6318916685, 0.6471672070250001, 0.6664637269750001, 0.6860515944, 0.7065261001500001, 0.7280201120000002, 0.7460185019250001, 0.763977778, 0.777635539525, 0.7904033379499997, 0.8068035824000003, 0.8261128197500002, 0.8468081754249999, 0.8686887070250002, 0.890688263775, 0.9102167403749999, 0.9362249829749999, 0.9566252343250001, 0.9709892395750004, 0.9866074838250001, 1.01497386175, 1.032897727975, 1.0479629758499998, 1.0541688862749998, 1.0494145305499998, 1.0444893704499996, 1.029062733925, 1.0153828149000002, 0.99871673315, 0.9601779138249997, 0.9621642615000001, 0.9549396866499998, 0.9441051875750001, 0.9405446427500002, 0.9310313145250001, 0.9260764656500001, 0.9294165349750001, 0.927754614, 0.9250280728250001, 0.9299294963000001, 0.9356336957, 0.9413376960749998, 0.9496686060000001, 0.95885011065, 0.9701645033749999, 0.9825094582249999, 0.9971952090000002, 1.0130882498749998, 1.0318511937000001, 1.0517077793749998, 1.07460981275, 1.0994918686, 1.1295463375499997, 1.1610740560749997, 1.19807733315, 1.2373050335250002, 1.2807210197499999, 1.3200819106499995, 1.3579778666750002, 1.4104690200500003, 1.4605800934499995, 1.496586281025, 1.541357619425, 1.5863134637249998, 1.621957497, 1.6578708700500002, 1.687555569325, 1.6933816458750002, 1.6777021543750004, 1.701551101975, 1.7277959205750004, 1.7228640243250002, 1.7108880196500003, 1.678554432975, 1.6302794587499996, 1.6162209799749996, 1.5971660384500002, 1.4992680283000006, 1.4782953571750002, 1.476140752425, 1.43741945265, 1.3889476457999999, 1.33355930725, 1.2779754052249999, 1.2438032652750002, 1.194371534875, 1.138963776175, 1.09590316935, 1.0645509136000002, 1.0088515895750003, 0.9758761683499999, 0.9355183222749999, 0.896265430875, 0.8519917147749998, 0.7956061478, 0.7741857337499999, 0.7371236767500001, 0.6998265053499999, 0.6709817232999999, 0.6377446007999998, 0.594591750925, 0.57754150115, 0.53562733235, 0.51656136235, 0.49718620482500003, 0.470698240475, 0.4536558974249999, 0.43524450232500006, 0.420306398025, 0.40417456387499995, 0.389237065675, 0.3720580474249999, 0.36104397545, 0.35301960245, 0.34258511397500013, 0.33476497962499996, 0.32867214752499996, 0.320733282975, 0.313862746275, 0.30825219890000005, 0.30146917812499996, 0.299730901825, 0.29324341960000005, 0.287191395075, 0.281555918425, 0.2744682534499999, 0.26644132870000004, 0.25557976520000003, 0.24450589350000002, 0.23323754679999992, 0.2256925833, 0.21552128722500002, 0.20749842782499997, 0.201699596825, 0.19442579402499996, 0.18946243094999998, 0.18556647082499997, 0.18084234255, 0.17797455012499996, 0.1738041688, 0.17007815804999993, 0.16756495799999999, 0.16504655204999996, 0.162565264525, 0.15982766719999997, 0.15803514170000005, 0.155638886975, 0.15376383865, 0.15235767072499998, 0.15044357767500002, 0.14801554442500003, 0.1466949369, 0.14519882334999995, 0.14369456452499998, 0.14180950480000004, 0.14028475887499997, 0.1390381155, 0.13776387217500002, 0.13646480962500002, 0.135151445825, 0.13402761242499997, 0.13328686725000002, 0.132298079675, 0.13137042864999998, 0.13047202652500003, 0.1297609091, 0.1288966595, 0.127841075675, 0.12734732197500004, 0.12615017012500004, 0.12527300535, 0.12474209970000001, 0.12401569702500004, 0.12334119932499998, 0.12255182577500001, 0.1221054264, 0.12143133204999997, 0.12081501264999998, 0.120682129925, 0.12038575524999999, 0.120134804525, 0.1197925718, 0.11939767552499998, 0.11904643247499998, 0.11860136030000001, 0.11816000202499999, 0.1176953351, 0.11733439307500002, 0.1171109853]}],\n",
              "                        {\"template\": {\"data\": {\"bar\": [{\"error_x\": {\"color\": \"#2a3f5f\"}, \"error_y\": {\"color\": \"#2a3f5f\"}, \"marker\": {\"line\": {\"color\": \"#E5ECF6\", \"width\": 0.5}}, \"type\": \"bar\"}], \"barpolar\": [{\"marker\": {\"line\": {\"color\": \"#E5ECF6\", \"width\": 0.5}}, \"type\": \"barpolar\"}], \"carpet\": [{\"aaxis\": {\"endlinecolor\": \"#2a3f5f\", \"gridcolor\": \"white\", \"linecolor\": \"white\", \"minorgridcolor\": \"white\", \"startlinecolor\": \"#2a3f5f\"}, \"baxis\": {\"endlinecolor\": \"#2a3f5f\", \"gridcolor\": \"white\", \"linecolor\": \"white\", \"minorgridcolor\": \"white\", \"startlinecolor\": \"#2a3f5f\"}, \"type\": \"carpet\"}], \"choropleth\": [{\"colorbar\": {\"outlinewidth\": 0, \"ticks\": \"\"}, \"type\": \"choropleth\"}], \"contour\": [{\"colorbar\": {\"outlinewidth\": 0, \"ticks\": \"\"}, \"colorscale\": [[0.0, \"#0d0887\"], [0.1111111111111111, \"#46039f\"], [0.2222222222222222, \"#7201a8\"], [0.3333333333333333, \"#9c179e\"], [0.4444444444444444, \"#bd3786\"], [0.5555555555555556, \"#d8576b\"], [0.6666666666666666, \"#ed7953\"], [0.7777777777777778, \"#fb9f3a\"], [0.8888888888888888, \"#fdca26\"], [1.0, \"#f0f921\"]], \"type\": \"contour\"}], \"contourcarpet\": [{\"colorbar\": {\"outlinewidth\": 0, \"ticks\": \"\"}, \"type\": \"contourcarpet\"}], \"heatmap\": [{\"colorbar\": {\"outlinewidth\": 0, \"ticks\": \"\"}, \"colorscale\": [[0.0, \"#0d0887\"], [0.1111111111111111, \"#46039f\"], [0.2222222222222222, \"#7201a8\"], [0.3333333333333333, \"#9c179e\"], [0.4444444444444444, \"#bd3786\"], [0.5555555555555556, \"#d8576b\"], [0.6666666666666666, \"#ed7953\"], [0.7777777777777778, \"#fb9f3a\"], [0.8888888888888888, \"#fdca26\"], [1.0, \"#f0f921\"]], \"type\": \"heatmap\"}], \"heatmapgl\": [{\"colorbar\": {\"outlinewidth\": 0, \"ticks\": \"\"}, \"colorscale\": [[0.0, \"#0d0887\"], [0.1111111111111111, \"#46039f\"], [0.2222222222222222, \"#7201a8\"], [0.3333333333333333, \"#9c179e\"], [0.4444444444444444, \"#bd3786\"], [0.5555555555555556, \"#d8576b\"], [0.6666666666666666, \"#ed7953\"], [0.7777777777777778, \"#fb9f3a\"], [0.8888888888888888, \"#fdca26\"], [1.0, \"#f0f921\"]], \"type\": \"heatmapgl\"}], \"histogram\": [{\"marker\": {\"colorbar\": {\"outlinewidth\": 0, \"ticks\": \"\"}}, \"type\": \"histogram\"}], \"histogram2d\": [{\"colorbar\": {\"outlinewidth\": 0, \"ticks\": \"\"}, \"colorscale\": [[0.0, \"#0d0887\"], [0.1111111111111111, \"#46039f\"], [0.2222222222222222, \"#7201a8\"], [0.3333333333333333, \"#9c179e\"], [0.4444444444444444, \"#bd3786\"], [0.5555555555555556, \"#d8576b\"], [0.6666666666666666, \"#ed7953\"], [0.7777777777777778, \"#fb9f3a\"], [0.8888888888888888, \"#fdca26\"], [1.0, \"#f0f921\"]], \"type\": \"histogram2d\"}], \"histogram2dcontour\": [{\"colorbar\": {\"outlinewidth\": 0, \"ticks\": \"\"}, \"colorscale\": [[0.0, \"#0d0887\"], [0.1111111111111111, \"#46039f\"], [0.2222222222222222, \"#7201a8\"], [0.3333333333333333, \"#9c179e\"], [0.4444444444444444, \"#bd3786\"], [0.5555555555555556, \"#d8576b\"], [0.6666666666666666, \"#ed7953\"], [0.7777777777777778, \"#fb9f3a\"], [0.8888888888888888, \"#fdca26\"], [1.0, \"#f0f921\"]], \"type\": \"histogram2dcontour\"}], \"mesh3d\": [{\"colorbar\": {\"outlinewidth\": 0, \"ticks\": \"\"}, \"type\": \"mesh3d\"}], \"parcoords\": [{\"line\": {\"colorbar\": {\"outlinewidth\": 0, \"ticks\": \"\"}}, \"type\": \"parcoords\"}], \"pie\": [{\"automargin\": true, \"type\": \"pie\"}], \"scatter\": [{\"marker\": {\"colorbar\": {\"outlinewidth\": 0, \"ticks\": \"\"}}, \"type\": \"scatter\"}], \"scatter3d\": [{\"line\": {\"colorbar\": {\"outlinewidth\": 0, \"ticks\": \"\"}}, \"marker\": {\"colorbar\": {\"outlinewidth\": 0, \"ticks\": \"\"}}, \"type\": \"scatter3d\"}], \"scattercarpet\": [{\"marker\": {\"colorbar\": {\"outlinewidth\": 0, \"ticks\": \"\"}}, \"type\": \"scattercarpet\"}], \"scattergeo\": [{\"marker\": {\"colorbar\": {\"outlinewidth\": 0, \"ticks\": \"\"}}, \"type\": \"scattergeo\"}], \"scattergl\": [{\"marker\": {\"colorbar\": {\"outlinewidth\": 0, \"ticks\": \"\"}}, \"type\": \"scattergl\"}], \"scattermapbox\": [{\"marker\": {\"colorbar\": {\"outlinewidth\": 0, \"ticks\": \"\"}}, \"type\": \"scattermapbox\"}], \"scatterpolar\": [{\"marker\": {\"colorbar\": {\"outlinewidth\": 0, \"ticks\": \"\"}}, \"type\": \"scatterpolar\"}], \"scatterpolargl\": [{\"marker\": {\"colorbar\": {\"outlinewidth\": 0, \"ticks\": \"\"}}, \"type\": \"scatterpolargl\"}], \"scatterternary\": [{\"marker\": {\"colorbar\": {\"outlinewidth\": 0, \"ticks\": \"\"}}, \"type\": \"scatterternary\"}], \"surface\": [{\"colorbar\": {\"outlinewidth\": 0, \"ticks\": \"\"}, \"colorscale\": [[0.0, \"#0d0887\"], [0.1111111111111111, \"#46039f\"], [0.2222222222222222, \"#7201a8\"], [0.3333333333333333, \"#9c179e\"], [0.4444444444444444, \"#bd3786\"], [0.5555555555555556, \"#d8576b\"], [0.6666666666666666, \"#ed7953\"], [0.7777777777777778, \"#fb9f3a\"], [0.8888888888888888, \"#fdca26\"], [1.0, \"#f0f921\"]], \"type\": \"surface\"}], \"table\": [{\"cells\": {\"fill\": {\"color\": \"#EBF0F8\"}, \"line\": {\"color\": \"white\"}}, \"header\": {\"fill\": {\"color\": \"#C8D4E3\"}, \"line\": {\"color\": \"white\"}}, \"type\": \"table\"}]}, \"layout\": {\"annotationdefaults\": {\"arrowcolor\": \"#2a3f5f\", \"arrowhead\": 0, \"arrowwidth\": 1}, \"coloraxis\": {\"colorbar\": {\"outlinewidth\": 0, \"ticks\": \"\"}}, \"colorscale\": {\"diverging\": [[0, \"#8e0152\"], [0.1, \"#c51b7d\"], [0.2, \"#de77ae\"], [0.3, \"#f1b6da\"], [0.4, \"#fde0ef\"], [0.5, \"#f7f7f7\"], [0.6, \"#e6f5d0\"], [0.7, \"#b8e186\"], [0.8, \"#7fbc41\"], [0.9, \"#4d9221\"], [1, \"#276419\"]], \"sequential\": [[0.0, \"#0d0887\"], [0.1111111111111111, \"#46039f\"], [0.2222222222222222, \"#7201a8\"], [0.3333333333333333, \"#9c179e\"], [0.4444444444444444, \"#bd3786\"], [0.5555555555555556, \"#d8576b\"], [0.6666666666666666, \"#ed7953\"], [0.7777777777777778, \"#fb9f3a\"], [0.8888888888888888, \"#fdca26\"], [1.0, \"#f0f921\"]], \"sequentialminus\": [[0.0, \"#0d0887\"], [0.1111111111111111, \"#46039f\"], [0.2222222222222222, \"#7201a8\"], [0.3333333333333333, \"#9c179e\"], [0.4444444444444444, \"#bd3786\"], [0.5555555555555556, \"#d8576b\"], [0.6666666666666666, \"#ed7953\"], [0.7777777777777778, \"#fb9f3a\"], [0.8888888888888888, \"#fdca26\"], [1.0, \"#f0f921\"]]}, \"colorway\": [\"#636efa\", \"#EF553B\", \"#00cc96\", \"#ab63fa\", \"#FFA15A\", \"#19d3f3\", \"#FF6692\", \"#B6E880\", \"#FF97FF\", \"#FECB52\"], \"font\": {\"color\": \"#2a3f5f\"}, \"geo\": {\"bgcolor\": \"white\", \"lakecolor\": \"white\", \"landcolor\": \"#E5ECF6\", \"showlakes\": true, \"showland\": true, \"subunitcolor\": \"white\"}, \"hoverlabel\": {\"align\": \"left\"}, \"hovermode\": \"closest\", \"mapbox\": {\"style\": \"light\"}, \"paper_bgcolor\": \"white\", \"plot_bgcolor\": \"#E5ECF6\", \"polar\": {\"angularaxis\": {\"gridcolor\": \"white\", \"linecolor\": \"white\", \"ticks\": \"\"}, \"bgcolor\": \"#E5ECF6\", \"radialaxis\": {\"gridcolor\": \"white\", \"linecolor\": \"white\", \"ticks\": \"\"}}, \"scene\": {\"xaxis\": {\"backgroundcolor\": \"#E5ECF6\", \"gridcolor\": \"white\", \"gridwidth\": 2, \"linecolor\": \"white\", \"showbackground\": true, \"ticks\": \"\", \"zerolinecolor\": \"white\"}, \"yaxis\": {\"backgroundcolor\": \"#E5ECF6\", \"gridcolor\": \"white\", \"gridwidth\": 2, \"linecolor\": \"white\", \"showbackground\": true, \"ticks\": \"\", \"zerolinecolor\": \"white\"}, \"zaxis\": {\"backgroundcolor\": \"#E5ECF6\", \"gridcolor\": \"white\", \"gridwidth\": 2, \"linecolor\": \"white\", \"showbackground\": true, \"ticks\": \"\", \"zerolinecolor\": \"white\"}}, \"shapedefaults\": {\"line\": {\"color\": \"#2a3f5f\"}}, \"ternary\": {\"aaxis\": {\"gridcolor\": \"white\", \"linecolor\": \"white\", \"ticks\": \"\"}, \"baxis\": {\"gridcolor\": \"white\", \"linecolor\": \"white\", \"ticks\": \"\"}, \"bgcolor\": \"#E5ECF6\", \"caxis\": {\"gridcolor\": \"white\", \"linecolor\": \"white\", \"ticks\": \"\"}}, \"title\": {\"x\": 0.05}, \"xaxis\": {\"automargin\": true, \"gridcolor\": \"white\", \"linecolor\": \"white\", \"ticks\": \"\", \"title\": {\"standoff\": 15}, \"zerolinecolor\": \"white\", \"zerolinewidth\": 2}, \"yaxis\": {\"automargin\": true, \"gridcolor\": \"white\", \"linecolor\": \"white\", \"ticks\": \"\", \"title\": {\"standoff\": 15}, \"zerolinecolor\": \"white\", \"zerolinewidth\": 2}}}, \"title\": {\"text\": \"FTIR Spectra of turkey meat\"}},\n",
              "                        {\"responsive\": true}\n",
              "                    ).then(function(){\n",
              "                            \n",
              "var gd = document.getElementById('ac3eb91a-877b-4a9f-bca3-95f54e125210');\n",
              "var x = new MutationObserver(function (mutations, observer) {{\n",
              "        var display = window.getComputedStyle(gd).display;\n",
              "        if (!display || display === 'none') {{\n",
              "            console.log([gd, 'removed!']);\n",
              "            Plotly.purge(gd);\n",
              "            observer.disconnect();\n",
              "        }}\n",
              "}});\n",
              "\n",
              "// Listen for the removal of the full notebook cells\n",
              "var notebookContainer = gd.closest('#notebook-container');\n",
              "if (notebookContainer) {{\n",
              "    x.observe(notebookContainer, {childList: true});\n",
              "}}\n",
              "\n",
              "// Listen for the clearing of the current output cell\n",
              "var outputEl = gd.closest('.output');\n",
              "if (outputEl) {{\n",
              "    x.observe(outputEl, {childList: true});\n",
              "}}\n",
              "\n",
              "                        })\n",
              "                };\n",
              "                });\n",
              "            </script>\n",
              "        </div>"
            ]
          },
          "metadata": {
            "tags": []
          }
        }
      ]
    },
    {
      "cell_type": "code",
      "metadata": {
        "colab": {
          "base_uri": "https://localhost:8080/",
          "height": 542
        },
        "id": "M3wRLxBr2Yab",
        "outputId": "5cd7ee3d-2cc4-48a6-c7e8-0491d1e0cad9"
      },
      "source": [
        "plot_line(temp.columns[1:],(temp[temp[\"Label\"] == \"Turkey\"].iloc[:,1:].values[0],\"Turkey\"),(temp[temp[\"Label\"] == \"Chicken\"].iloc[:,1:].values[0],\"Chicken\"),(temp[temp[\"Label\"] == \"Pork\"].iloc[:,1:].values[0],\"Pork\"),title = \"FTIR Spectra of every type of meat\")"
      ],
      "execution_count": 49,
      "outputs": [
        {
          "output_type": "display_data",
          "data": {
            "text/html": [
              "<div>\n",
              "        \n",
              "        \n",
              "            <div id=\"4b8be7a0-359b-495b-8459-8837bb2c7b7a\" class=\"plotly-graph-div\" style=\"height:525px; width:100%;\"></div>\n",
              "            <script type=\"text/javascript\">\n",
              "                require([\"plotly\"], function(Plotly) {\n",
              "                    window.PLOTLYENV=window.PLOTLYENV || {};\n",
              "                    \n",
              "                if (document.getElementById(\"4b8be7a0-359b-495b-8459-8837bb2c7b7a\")) {\n",
              "                    Plotly.newPlot(\n",
              "                        '4b8be7a0-359b-495b-8459-8837bb2c7b7a',\n",
              "                        [{\"line\": {\"color\": \"red\", \"width\": 4}, \"name\": \"Turkey\", \"type\": \"scatter\", \"x\": [1005.3495, 1007.279, 1009.2085, 1011.138, 1013.0675, 1014.997, 1016.9265, 1018.8560000000001, 1020.7855, 1022.715, 1024.6445, 1026.5739999999998, 1028.5035, 1030.433, 1032.3625, 1034.292, 1036.2215, 1038.151, 1040.0815, 1042.011, 1043.9405, 1045.87, 1047.7995, 1049.729, 1051.6585, 1053.588, 1055.5175, 1057.447, 1059.3765, 1061.306, 1063.2355, 1065.165, 1067.0945, 1069.024, 1070.9535, 1072.883, 1074.8135, 1076.743, 1078.6725, 1080.6019999999999, 1082.5315, 1084.461, 1086.3905, 1088.32, 1090.2495, 1092.1789999999999, 1094.1085, 1096.038, 1097.9675, 1099.897, 1101.8265, 1103.756, 1105.6855, 1107.615, 1109.5455, 1111.475, 1113.4045, 1115.3339999999998, 1117.2635, 1119.193, 1121.1225, 1123.052, 1124.9815, 1126.911, 1128.8405, 1130.77, 1132.7005, 1134.63, 1136.5595, 1138.489, 1140.4185, 1142.348, 1144.2775, 1146.2069999999999, 1148.1365, 1150.066, 1151.9955, 1153.925, 1155.8545, 1157.7839999999999, 1159.7135, 1161.643, 1163.5725, 1165.502, 1167.4325, 1169.362, 1171.2915, 1173.221, 1175.1505, 1177.08, 1179.0095, 1180.9389999999999, 1182.8685, 1184.798, 1186.7275, 1188.657, 1190.5875, 1192.517, 1194.4465, 1196.376, 1198.3055, 1200.235, 1202.1645, 1204.094, 1206.0235, 1207.953, 1209.8825, 1211.812, 1213.7415, 1215.671, 1217.6005, 1219.53, 1221.4595, 1223.389, 1225.3195, 1227.249, 1229.1785, 1231.108, 1233.0375, 1234.9669999999999, 1236.8965, 1238.826, 1240.7555, 1242.685, 1244.6145, 1246.5439999999999, 1248.4745, 1250.404, 1252.3335, 1254.263, 1256.1925, 1258.122, 1260.0515, 1261.981, 1263.9105, 1265.84, 1267.7695, 1269.6989999999998, 1271.6285, 1273.558, 1275.4875, 1277.417, 1279.3465, 1281.276, 1283.2065, 1285.136, 1287.0655, 1288.995, 1290.9245, 1292.854, 1294.7835, 1296.713, 1298.6425, 1300.572, 1302.5015, 1304.431, 1306.3615, 1308.2910000000002, 1310.2205, 1312.15, 1314.0795, 1316.009, 1317.9385, 1319.868, 1321.7975, 1323.727, 1325.6565, 1327.586, 1329.5155, 1331.445, 1333.3745, 1335.3039999999999, 1337.2335, 1339.1629999999998, 1341.0935, 1343.023, 1344.9525, 1346.882, 1348.8115, 1350.741, 1352.6705, 1354.6, 1356.5295, 1358.4589999999998, 1360.3885, 1362.318, 1364.2485, 1366.1779999999999, 1368.1075, 1370.037, 1371.9665, 1373.896, 1375.8255, 1377.755, 1379.6845, 1381.614, 1383.5435, 1385.473, 1387.4025, 1389.332, 1391.2615, 1393.191, 1395.1205, 1397.05, 1398.9805, 1400.91, 1402.8395, 1404.769, 1406.6985, 1408.628, 1410.5575, 1412.487, 1414.4165, 1416.346, 1418.2755, 1420.205, 1422.1345, 1424.0639999999999, 1425.9935, 1427.9229999999998, 1429.8525, 1431.7820000000002, 1433.7125, 1435.642, 1437.5715, 1439.501, 1441.4305, 1443.36, 1445.2895, 1447.219, 1449.1485, 1451.078, 1453.0075, 1454.9370000000001, 1456.8675, 1458.797, 1460.7265, 1462.656, 1464.5855, 1466.515, 1468.4445, 1470.374, 1472.3035, 1474.233, 1476.1625, 1478.092, 1480.0215, 1481.951, 1483.8805, 1485.81, 1487.7395, 1489.6689999999999, 1491.5995, 1493.529, 1495.4585, 1497.388, 1499.3175, 1501.247, 1503.1765, 1505.106, 1507.0355, 1508.965, 1510.8945, 1512.8239999999998, 1514.7545, 1516.684, 1518.6135, 1520.543, 1522.4725, 1524.402, 1526.3315, 1528.261, 1530.1905, 1532.12, 1534.0495, 1535.979, 1537.9085, 1539.838, 1541.7675, 1543.6970000000001, 1545.6265, 1547.556, 1549.4865, 1551.4160000000002, 1553.3455, 1555.275, 1557.2045, 1559.134, 1561.0635, 1562.993, 1564.9225, 1566.852, 1568.7815, 1570.711, 1572.6415, 1574.5710000000001, 1576.5005, 1578.43, 1580.3595, 1582.289, 1584.2185, 1586.148, 1588.0775, 1590.007, 1591.9365, 1593.866, 1595.7955, 1597.725, 1599.6545, 1601.5839999999998, 1603.5135, 1605.443, 1607.3735, 1609.3029999999999, 1611.2325, 1613.162, 1615.0915, 1617.021, 1618.9505, 1620.88, 1622.8095, 1624.739, 1626.6685, 1628.598, 1630.5285, 1632.4579999999999, 1634.3875, 1636.317, 1638.2465, 1640.1760000000002, 1642.1055, 1644.035, 1645.9645, 1647.894, 1649.8235, 1651.753, 1653.6825, 1655.612, 1657.5415, 1659.471, 1661.4005, 1663.33, 1665.2605, 1667.19, 1669.1195, 1671.049, 1672.9785, 1674.908, 1676.8375, 1678.767, 1680.6965, 1682.626, 1684.5555, 1686.485, 1688.4155, 1690.345, 1692.2745, 1694.204, 1696.1335, 1698.0629999999999, 1699.9925, 1701.922, 1703.8515, 1705.781, 1707.7105, 1709.64, 1711.5695, 1713.499, 1715.4285, 1717.358, 1719.2875, 1721.217, 1723.1475, 1725.0770000000002, 1727.0065, 1728.9360000000001, 1730.8655, 1732.795, 1734.7245, 1736.654, 1738.5835, 1740.513, 1742.4425, 1744.372, 1746.3015, 1748.231, 1750.1605, 1752.09, 1754.0195, 1755.9489999999998, 1757.8795, 1759.809, 1761.7385, 1763.668, 1765.5975, 1767.527, 1769.4565, 1771.386, 1773.3155, 1775.245, 1777.1745, 1779.104, 1781.0345, 1782.964, 1784.8935, 1786.8229999999999, 1788.7525, 1790.682, 1792.6115, 1794.5410000000002, 1796.4705, 1798.4, 1800.3295, 1802.259, 1804.1885, 1806.118, 1808.0475, 1809.977, 1811.9065, 1813.836, 1815.7665, 1817.6960000000001, 1819.6255, 1821.555, 1823.4845, 1825.414, 1827.3435, 1829.273, 1831.2025, 1833.132, 1835.0615, 1836.991, 1838.9215, 1840.851, 1842.7805, 1844.71, 1846.6395, 1848.569, 1850.4985, 1852.4279999999999, 1854.3575, 1856.287, 1858.2165, 1860.146, 1862.0755, 1864.005, 1865.9345, 1867.864], \"y\": [0.5294704024750001, 0.5273169792500001, 0.5256219889000002, 0.524232823025, 0.523179503125, 0.5223835304500001, 0.5218028268499999, 0.5214261531250002, 0.5212562112249999, 0.5215393135999999, 0.5222188239000002, 0.5233404120000001, 0.52525688105, 0.527684449725, 0.53017138815, 0.53295101655, 0.536233638325, 0.539859273975, 0.5433863874749999, 0.5461857513999998, 0.5479352868750001, 0.54859309075, 0.548459458075, 0.548007326575, 0.548122265875, 0.5490940284750001, 0.55066819195, 0.55299350415, 0.555958281175, 0.5595764001249999, 0.56397136305, 0.5690539054, 0.5746740742750001, 0.5805889052250003, 0.5863082576499999, 0.5915492534, 0.595902948075, 0.5985870480500002, 0.5991027520750001, 0.59748110925, 0.593880064075, 0.588799534025, 0.582894630825, 0.5766344318, 0.5704517879250001, 0.5644434022249999, 0.558659603875, 0.553440991175, 0.5488156775249999, 0.5446618837249999, 0.541164161375, 0.5383190622750001, 0.53602741535, 0.5343018312749999, 0.53333048015, 0.533406222875, 0.534453379275, 0.5361342235, 0.5380245312749998, 0.539736599175, 0.540870103275, 0.5411606831, 0.5405637794, 0.538597964325, 0.5351499345249999, 0.53071188605, 0.526016551225, 0.5219690462750001, 0.519052670625, 0.5174731672750001, 0.5170499071749999, 0.5174265383250001, 0.51842700365, 0.5201590711749998, 0.5225651567999999, 0.5253576303, 0.52825548925, 0.5308705729750001, 0.53308396325, 0.5347875565999999, 0.5359853391499999, 0.5368063013250002, 0.537277786625, 0.5374336865750001, 0.5372168613000001, 0.5369081591249999, 0.5362946385, 0.5348099246, 0.532059466425, 0.5281879372, 0.52422345175, 0.5203832935, 0.5166057975249998, 0.5133512556000002, 0.51102960715, 0.50974824335, 0.5090201031250001, 0.5086093088499999, 0.5085730580000001, 0.508677503925, 0.508845085125, 0.5092757081249999, 0.510150893, 0.5114220101, 0.5128956611250002, 0.5143727203499999, 0.5159038904750001, 0.5176493991250001, 0.51969351905, 0.5221685786, 0.5251058440249998, 0.528293381325, 0.53128261895, 0.534069693225, 0.537037839375, 0.54012483745, 0.543001009375, 0.5458218360999999, 0.54853345205, 0.550850184225, 0.5526976032999998, 0.5540257594750002, 0.554772079975, 0.5547853488250001, 0.5540187828750001, 0.552794196575, 0.5513877619499998, 0.5496186898500001, 0.54756584175, 0.545470122525, 0.5434933122750001, 0.541826072925, 0.5405183621250002, 0.5395307847999999, 0.538929037825, 0.53847395385, 0.5377175074000001, 0.5366844187, 0.5356182004250001, 0.534737008525, 0.5344170374, 0.5345908487, 0.5349396285249999, 0.5352657539000001, 0.5355281701499999, 0.5358590664999999, 0.5363384740749998, 0.5368438303999999, 0.537555379375, 0.538739308175, 0.5403668829, 0.5424350795, 0.544969539325, 0.5478292762250001, 0.550738249925, 0.5534516035249999, 0.5557859232, 0.5572829590249998, 0.5578677010749999, 0.5575060102, 0.5556030885500001, 0.5526525047999999, 0.5490430964499999, 0.5444282444749999, 0.539641026925, 0.5349381724750001, 0.530202165225, 0.5261316003, 0.5229661317000001, 0.520700379425, 0.5193545793249998, 0.5187850781750001, 0.5186780170749999, 0.518260340075, 0.5166340113500001, 0.5158607748250001, 0.5153480432249998, 0.5142407201, 0.5135572417500002, 0.5129162814750001, 0.5128141062999999, 0.5129827491750001, 0.5130880734499998, 0.513654235925, 0.5152434056749999, 0.5168684460499999, 0.5178297334249999, 0.520757264825, 0.52418618205, 0.5250777176500002, 0.5266354621749999, 0.5298606563000001, 0.5347335880249999, 0.5421130324250001, 0.5509838877000002, 0.560087228, 0.5707833193999999, 0.5825777675249999, 0.5943997714499998, 0.6068385732500002, 0.6189507470000001, 0.6300803536749999, 0.6362917693749999, 0.6393105406249997, 0.6387288791250001, 0.6326589712999999, 0.6277863393499999, 0.6202880829749999, 0.60944645515, 0.6017934099000002, 0.5945390938000001, 0.5874817308, 0.5826522221999999, 0.5791586867749998, 0.5759785795500002, 0.5673298282250001, 0.5623469912000001, 0.5592781225000001, 0.5529414506750001, 0.5498093350500001, 0.5453827085500002, 0.5407091150499999, 0.5405306081249999, 0.54382095945, 0.54653112225, 0.549798530775, 0.554923145375, 0.5589227431999999, 0.5626482001000002, 0.5664731521000003, 0.5693516036750002, 0.5736731843249999, 0.5786746728249998, 0.5833425272999999, 0.584328248025, 0.576643202175, 0.5740030811750001, 0.5737684885250001, 0.571979118125, 0.5676262378000001, 0.565713808425, 0.5634659612749999, 0.5576176231500003, 0.5433444478249998, 0.5367660052, 0.5306633677500001, 0.5288141015750001, 0.5282693335749998, 0.528935034575, 0.5329019329249999, 0.5383431528999999, 0.5443674128500001, 0.5507549200749999, 0.5597907814750002, 0.5705713776, 0.58154260505, 0.59218214335, 0.6040152016500001, 0.617267694475, 0.6318916685, 0.6471672070250001, 0.6664637269750001, 0.6860515944, 0.7065261001500001, 0.7280201120000002, 0.7460185019250001, 0.763977778, 0.777635539525, 0.7904033379499997, 0.8068035824000003, 0.8261128197500002, 0.8468081754249999, 0.8686887070250002, 0.890688263775, 0.9102167403749999, 0.9362249829749999, 0.9566252343250001, 0.9709892395750004, 0.9866074838250001, 1.01497386175, 1.032897727975, 1.0479629758499998, 1.0541688862749998, 1.0494145305499998, 1.0444893704499996, 1.029062733925, 1.0153828149000002, 0.99871673315, 0.9601779138249997, 0.9621642615000001, 0.9549396866499998, 0.9441051875750001, 0.9405446427500002, 0.9310313145250001, 0.9260764656500001, 0.9294165349750001, 0.927754614, 0.9250280728250001, 0.9299294963000001, 0.9356336957, 0.9413376960749998, 0.9496686060000001, 0.95885011065, 0.9701645033749999, 0.9825094582249999, 0.9971952090000002, 1.0130882498749998, 1.0318511937000001, 1.0517077793749998, 1.07460981275, 1.0994918686, 1.1295463375499997, 1.1610740560749997, 1.19807733315, 1.2373050335250002, 1.2807210197499999, 1.3200819106499995, 1.3579778666750002, 1.4104690200500003, 1.4605800934499995, 1.496586281025, 1.541357619425, 1.5863134637249998, 1.621957497, 1.6578708700500002, 1.687555569325, 1.6933816458750002, 1.6777021543750004, 1.701551101975, 1.7277959205750004, 1.7228640243250002, 1.7108880196500003, 1.678554432975, 1.6302794587499996, 1.6162209799749996, 1.5971660384500002, 1.4992680283000006, 1.4782953571750002, 1.476140752425, 1.43741945265, 1.3889476457999999, 1.33355930725, 1.2779754052249999, 1.2438032652750002, 1.194371534875, 1.138963776175, 1.09590316935, 1.0645509136000002, 1.0088515895750003, 0.9758761683499999, 0.9355183222749999, 0.896265430875, 0.8519917147749998, 0.7956061478, 0.7741857337499999, 0.7371236767500001, 0.6998265053499999, 0.6709817232999999, 0.6377446007999998, 0.594591750925, 0.57754150115, 0.53562733235, 0.51656136235, 0.49718620482500003, 0.470698240475, 0.4536558974249999, 0.43524450232500006, 0.420306398025, 0.40417456387499995, 0.389237065675, 0.3720580474249999, 0.36104397545, 0.35301960245, 0.34258511397500013, 0.33476497962499996, 0.32867214752499996, 0.320733282975, 0.313862746275, 0.30825219890000005, 0.30146917812499996, 0.299730901825, 0.29324341960000005, 0.287191395075, 0.281555918425, 0.2744682534499999, 0.26644132870000004, 0.25557976520000003, 0.24450589350000002, 0.23323754679999992, 0.2256925833, 0.21552128722500002, 0.20749842782499997, 0.201699596825, 0.19442579402499996, 0.18946243094999998, 0.18556647082499997, 0.18084234255, 0.17797455012499996, 0.1738041688, 0.17007815804999993, 0.16756495799999999, 0.16504655204999996, 0.162565264525, 0.15982766719999997, 0.15803514170000005, 0.155638886975, 0.15376383865, 0.15235767072499998, 0.15044357767500002, 0.14801554442500003, 0.1466949369, 0.14519882334999995, 0.14369456452499998, 0.14180950480000004, 0.14028475887499997, 0.1390381155, 0.13776387217500002, 0.13646480962500002, 0.135151445825, 0.13402761242499997, 0.13328686725000002, 0.132298079675, 0.13137042864999998, 0.13047202652500003, 0.1297609091, 0.1288966595, 0.127841075675, 0.12734732197500004, 0.12615017012500004, 0.12527300535, 0.12474209970000001, 0.12401569702500004, 0.12334119932499998, 0.12255182577500001, 0.1221054264, 0.12143133204999997, 0.12081501264999998, 0.120682129925, 0.12038575524999999, 0.120134804525, 0.1197925718, 0.11939767552499998, 0.11904643247499998, 0.11860136030000001, 0.11816000202499999, 0.1176953351, 0.11733439307500002, 0.1171109853]}, {\"line\": {\"color\": \"blue\", \"width\": 4}, \"name\": \"Chicken\", \"type\": \"scatter\", \"x\": [1005.3495, 1007.279, 1009.2085, 1011.138, 1013.0675, 1014.997, 1016.9265, 1018.8560000000001, 1020.7855, 1022.715, 1024.6445, 1026.5739999999998, 1028.5035, 1030.433, 1032.3625, 1034.292, 1036.2215, 1038.151, 1040.0815, 1042.011, 1043.9405, 1045.87, 1047.7995, 1049.729, 1051.6585, 1053.588, 1055.5175, 1057.447, 1059.3765, 1061.306, 1063.2355, 1065.165, 1067.0945, 1069.024, 1070.9535, 1072.883, 1074.8135, 1076.743, 1078.6725, 1080.6019999999999, 1082.5315, 1084.461, 1086.3905, 1088.32, 1090.2495, 1092.1789999999999, 1094.1085, 1096.038, 1097.9675, 1099.897, 1101.8265, 1103.756, 1105.6855, 1107.615, 1109.5455, 1111.475, 1113.4045, 1115.3339999999998, 1117.2635, 1119.193, 1121.1225, 1123.052, 1124.9815, 1126.911, 1128.8405, 1130.77, 1132.7005, 1134.63, 1136.5595, 1138.489, 1140.4185, 1142.348, 1144.2775, 1146.2069999999999, 1148.1365, 1150.066, 1151.9955, 1153.925, 1155.8545, 1157.7839999999999, 1159.7135, 1161.643, 1163.5725, 1165.502, 1167.4325, 1169.362, 1171.2915, 1173.221, 1175.1505, 1177.08, 1179.0095, 1180.9389999999999, 1182.8685, 1184.798, 1186.7275, 1188.657, 1190.5875, 1192.517, 1194.4465, 1196.376, 1198.3055, 1200.235, 1202.1645, 1204.094, 1206.0235, 1207.953, 1209.8825, 1211.812, 1213.7415, 1215.671, 1217.6005, 1219.53, 1221.4595, 1223.389, 1225.3195, 1227.249, 1229.1785, 1231.108, 1233.0375, 1234.9669999999999, 1236.8965, 1238.826, 1240.7555, 1242.685, 1244.6145, 1246.5439999999999, 1248.4745, 1250.404, 1252.3335, 1254.263, 1256.1925, 1258.122, 1260.0515, 1261.981, 1263.9105, 1265.84, 1267.7695, 1269.6989999999998, 1271.6285, 1273.558, 1275.4875, 1277.417, 1279.3465, 1281.276, 1283.2065, 1285.136, 1287.0655, 1288.995, 1290.9245, 1292.854, 1294.7835, 1296.713, 1298.6425, 1300.572, 1302.5015, 1304.431, 1306.3615, 1308.2910000000002, 1310.2205, 1312.15, 1314.0795, 1316.009, 1317.9385, 1319.868, 1321.7975, 1323.727, 1325.6565, 1327.586, 1329.5155, 1331.445, 1333.3745, 1335.3039999999999, 1337.2335, 1339.1629999999998, 1341.0935, 1343.023, 1344.9525, 1346.882, 1348.8115, 1350.741, 1352.6705, 1354.6, 1356.5295, 1358.4589999999998, 1360.3885, 1362.318, 1364.2485, 1366.1779999999999, 1368.1075, 1370.037, 1371.9665, 1373.896, 1375.8255, 1377.755, 1379.6845, 1381.614, 1383.5435, 1385.473, 1387.4025, 1389.332, 1391.2615, 1393.191, 1395.1205, 1397.05, 1398.9805, 1400.91, 1402.8395, 1404.769, 1406.6985, 1408.628, 1410.5575, 1412.487, 1414.4165, 1416.346, 1418.2755, 1420.205, 1422.1345, 1424.0639999999999, 1425.9935, 1427.9229999999998, 1429.8525, 1431.7820000000002, 1433.7125, 1435.642, 1437.5715, 1439.501, 1441.4305, 1443.36, 1445.2895, 1447.219, 1449.1485, 1451.078, 1453.0075, 1454.9370000000001, 1456.8675, 1458.797, 1460.7265, 1462.656, 1464.5855, 1466.515, 1468.4445, 1470.374, 1472.3035, 1474.233, 1476.1625, 1478.092, 1480.0215, 1481.951, 1483.8805, 1485.81, 1487.7395, 1489.6689999999999, 1491.5995, 1493.529, 1495.4585, 1497.388, 1499.3175, 1501.247, 1503.1765, 1505.106, 1507.0355, 1508.965, 1510.8945, 1512.8239999999998, 1514.7545, 1516.684, 1518.6135, 1520.543, 1522.4725, 1524.402, 1526.3315, 1528.261, 1530.1905, 1532.12, 1534.0495, 1535.979, 1537.9085, 1539.838, 1541.7675, 1543.6970000000001, 1545.6265, 1547.556, 1549.4865, 1551.4160000000002, 1553.3455, 1555.275, 1557.2045, 1559.134, 1561.0635, 1562.993, 1564.9225, 1566.852, 1568.7815, 1570.711, 1572.6415, 1574.5710000000001, 1576.5005, 1578.43, 1580.3595, 1582.289, 1584.2185, 1586.148, 1588.0775, 1590.007, 1591.9365, 1593.866, 1595.7955, 1597.725, 1599.6545, 1601.5839999999998, 1603.5135, 1605.443, 1607.3735, 1609.3029999999999, 1611.2325, 1613.162, 1615.0915, 1617.021, 1618.9505, 1620.88, 1622.8095, 1624.739, 1626.6685, 1628.598, 1630.5285, 1632.4579999999999, 1634.3875, 1636.317, 1638.2465, 1640.1760000000002, 1642.1055, 1644.035, 1645.9645, 1647.894, 1649.8235, 1651.753, 1653.6825, 1655.612, 1657.5415, 1659.471, 1661.4005, 1663.33, 1665.2605, 1667.19, 1669.1195, 1671.049, 1672.9785, 1674.908, 1676.8375, 1678.767, 1680.6965, 1682.626, 1684.5555, 1686.485, 1688.4155, 1690.345, 1692.2745, 1694.204, 1696.1335, 1698.0629999999999, 1699.9925, 1701.922, 1703.8515, 1705.781, 1707.7105, 1709.64, 1711.5695, 1713.499, 1715.4285, 1717.358, 1719.2875, 1721.217, 1723.1475, 1725.0770000000002, 1727.0065, 1728.9360000000001, 1730.8655, 1732.795, 1734.7245, 1736.654, 1738.5835, 1740.513, 1742.4425, 1744.372, 1746.3015, 1748.231, 1750.1605, 1752.09, 1754.0195, 1755.9489999999998, 1757.8795, 1759.809, 1761.7385, 1763.668, 1765.5975, 1767.527, 1769.4565, 1771.386, 1773.3155, 1775.245, 1777.1745, 1779.104, 1781.0345, 1782.964, 1784.8935, 1786.8229999999999, 1788.7525, 1790.682, 1792.6115, 1794.5410000000002, 1796.4705, 1798.4, 1800.3295, 1802.259, 1804.1885, 1806.118, 1808.0475, 1809.977, 1811.9065, 1813.836, 1815.7665, 1817.6960000000001, 1819.6255, 1821.555, 1823.4845, 1825.414, 1827.3435, 1829.273, 1831.2025, 1833.132, 1835.0615, 1836.991, 1838.9215, 1840.851, 1842.7805, 1844.71, 1846.6395, 1848.569, 1850.4985, 1852.4279999999999, 1854.3575, 1856.287, 1858.2165, 1860.146, 1862.0755, 1864.005, 1865.9345, 1867.864], \"y\": [0.5544329004250002, 0.5522079208749998, 0.5506351575749999, 0.5493508246499998, 0.5484920428250001, 0.5479014561249999, 0.54747491455, 0.5471488692500002, 0.547244130825, 0.5478830832500001, 0.5488724808500001, 0.5504553576750001, 0.5527004281749999, 0.5554022380750002, 0.5583447368250001, 0.5614738136999999, 0.5651041179, 0.5691552142250002, 0.5727296502750001, 0.57528345215, 0.5765671576250001, 0.5765912061499999, 0.5757880895749998, 0.575033349325, 0.5751611008749998, 0.5762225530249998, 0.5778331041499998, 0.5800659663250001, 0.5828256503500001, 0.5863897650000001, 0.5908668286250001, 0.595918007225, 0.6016752430249999, 0.6075711385, 0.6132565495, 0.6186882476750001, 0.62312447735, 0.625985721975, 0.6269031671249998, 0.6255367692500001, 0.6220267052999998, 0.6169433616000002, 0.61068121495, 0.6039045575750002, 0.5970631322500001, 0.5902299076749999, 0.5837586482250001, 0.577861363725, 0.57269858395, 0.5683454848249999, 0.5647318071499999, 0.5618661240749999, 0.5596197190000001, 0.5580430881749999, 0.55724926685, 0.55760614765, 0.5590100558500001, 0.561123019275, 0.563673358175, 0.5660142061, 0.5680613256749999, 0.5690837564250001, 0.5689723932249999, 0.5670243407250001, 0.56296267215, 0.55744688805, 0.551361460775, 0.545693148225, 0.5411526497499998, 0.5380311852250002, 0.5360800016250001, 0.5352963625000001, 0.5356110036250001, 0.536804382075, 0.5387537026, 0.5412653468, 0.5436670526250001, 0.5458342166000001, 0.5474889469499999, 0.548736651825, 0.5496125340499999, 0.5504021356500001, 0.55088757825, 0.551116550475, 0.5510662067500001, 0.551050138025, 0.550695150825, 0.54940667425, 0.5466999559499999, 0.54278276605, 0.5388252798500001, 0.5353637045000001, 0.5326221182249999, 0.5305324612000001, 0.5291628372249998, 0.5284026856749999, 0.5279966237999999, 0.5279195623999999, 0.528000823025, 0.5281892804249999, 0.528772198125, 0.5297957754249999, 0.5312469938750001, 0.5330162425250001, 0.53518361505, 0.53738113865, 0.5394743796000001, 0.54170128655, 0.5441939730250002, 0.5469402998750001, 0.55004801195, 0.5533971773000002, 0.55664106915, 0.5598276610749999, 0.5629754231249999, 0.56617766565, 0.5694067817500001, 0.5723549500749998, 0.575118951775, 0.5774895639750001, 0.579272611975, 0.5806787545500001, 0.5813093747500002, 0.58124217275, 0.5806111546, 0.57945143375, 0.5779961679250001, 0.5761923172500001, 0.574115398025, 0.571933499775, 0.56968265585, 0.5677298309750001, 0.56601256715, 0.5648682127999998, 0.5641969613250001, 0.563613693025, 0.5627002128249999, 0.5617289434000001, 0.5607729485499999, 0.559998185475, 0.5596015552249999, 0.5595412689750001, 0.5597399599250001, 0.560294774825, 0.5608241524750002, 0.5613729472000001, 0.5621272615499999, 0.5629111166499998, 0.5638107277250001, 0.564938062725, 0.5665633868250002, 0.5686117168249999, 0.570976858275, 0.57387044465, 0.5767813122750002, 0.5796799412499999, 0.5823193697249998, 0.5839502783499999, 0.584836919525, 0.58482817195, 0.5830829633750001, 0.5803797543749999, 0.5768775243500001, 0.57222201515, 0.5674258678000001, 0.5627468504500001, 0.5579609807249999, 0.553827509775, 0.5504360695000001, 0.5479465613, 0.54643231675, 0.5456991240250001, 0.5454346448, 0.5448748146000001, 0.5431636127, 0.5424299121749998, 0.5419319364749999, 0.5408850328750001, 0.5401497476, 0.539464245825, 0.53937651945, 0.5394199401499999, 0.5393514250249999, 0.539783036875, 0.5412453067250003, 0.5428618451999999, 0.54405753375, 0.5470703771500001, 0.5503933398999997, 0.5509935018000001, 0.552300137425, 0.555343763925, 0.560011581625, 0.5675695335750001, 0.576979656325, 0.5866137123499999, 0.5979024193499998, 0.610273793075, 0.622493780625, 0.6350352461250001, 0.6473442618, 0.6587797677499999, 0.6652927212250002, 0.6688932294499998, 0.6690310813750002, 0.6637663509499999, 0.6595651359000001, 0.6524127954000001, 0.6416560800250001, 0.6341250138500001, 0.6267273291500002, 0.6191766166, 0.6139527982999999, 0.6101465419, 0.6065804257, 0.5971420544000002, 0.5916751678999999, 0.58808955395, 0.5806095562000001, 0.576966825975, 0.57210221545, 0.5669769063500001, 0.5667566237499999, 0.5700133554749999, 0.5725026872250001, 0.5757685890999998, 0.581017323125, 0.5850567233999999, 0.589027898075, 0.59302458945, 0.596076072675, 0.6005279280249999, 0.605480224425, 0.6101982850749998, 0.6111619593750001, 0.6029812258, 0.5999066962749999, 0.59958959355, 0.5977623426249999, 0.5930528171250001, 0.5913160865999998, 0.5895425977000001, 0.58418140105, 0.571394678525, 0.565918990075, 0.5602150623250003, 0.5585993949749999, 0.5582467205500001, 0.5590196784000001, 0.5632366585499998, 0.568939649625, 0.5754061994749999, 0.5822779967749999, 0.591686857125, 0.6029504716999999, 0.6143546546750003, 0.6255558741250001, 0.6380179364249999, 0.6520746017000001, 0.6676572339250001, 0.68397906805, 0.704041446875, 0.7246454534749998, 0.7462442438999999, 0.7685941352000001, 0.7873408489749999, 0.8062133270249999, 0.8204341715250001, 0.8336528730499999, 0.850717143, 0.870759603175, 0.8925039698250001, 0.9155863754249998, 0.9385284032750002, 0.9588228585499998, 0.9859134147750004, 1.0071428537749998, 1.0222298398, 1.0390091778000001, 1.0686324242749998, 1.0873772024249997, 1.10325582195, 1.1095217782749998, 1.1038325154999997, 1.09839567115, 1.082132141525, 1.067223970975, 1.049656643675, 1.0102265064500002, 1.0124529419999995, 1.005285785825, 0.9944302241499999, 0.9909612414250001, 0.9818463330249998, 0.9771621403749998, 0.9808421497750002, 0.9790010761249999, 0.9762165341749997, 0.9818634931999999, 0.9881195019000002, 0.9939802552250001, 1.002359244225, 1.011611660775, 1.023415053275, 1.0362467560249997, 1.0515660059749998, 1.0680139445999999, 1.0870235460499997, 1.1073688330249998, 1.1311334517999998, 1.1573428538750004, 1.1888339370499998, 1.2213955658750006, 1.2600390785999998, 1.3003502097749997, 1.3452856691750006, 1.3861259776499995, 1.4259010113500006, 1.4805924860750002, 1.5318550437, 1.56769405565, 1.611933140475, 1.65773872365, 1.6949395487500003, 1.73345332245, 1.7653014038749997, 1.7690283034999996, 1.7483412236000002, 1.7738827809500002, 1.8045859235000001, 1.7990556993749998, 1.7863419981, 1.7496055820999996, 1.6955548240249996, 1.68550309605, 1.6663996691750005, 1.556428453925, 1.5388362914500002, 1.5405246884500003, 1.500408014775, 1.4486324350250002, 1.3902689839999998, 1.3322305905499996, 1.2965395929499999, 1.2443624447250001, 1.1868118692499998, 1.1422821133, 1.10899098635, 1.0502553643000003, 1.0162313103499998, 0.9738746604999999, 0.9329090868000002, 0.8867521717749998, 0.8284476106750003, 0.8063340028500001, 0.767704035925, 0.728725644575, 0.6985877939499999, 0.663926888275, 0.6191229463750001, 0.6013480912249999, 0.5571509493249999, 0.537374530075, 0.517037735475, 0.48917713869999985, 0.4713542163999998, 0.45200487055, 0.4363471273000001, 0.4193284535750001, 0.40356952230000004, 0.3854337277999999, 0.3736572687, 0.3647761232500001, 0.352744292925, 0.342833477, 0.3341859185, 0.32427027050000007, 0.31624198787499996, 0.3082018181249999, 0.296732944775, 0.2931600039750001, 0.285332845075, 0.2782498069999999, 0.27153536070000006, 0.26408822722499997, 0.25673042969999993, 0.24756941432499993, 0.2387017437, 0.22994005890000002, 0.22434279540000007, 0.21639906155000005, 0.21022961997499995, 0.20557201112499995, 0.19924162017499997, 0.19485298217499997, 0.19122920507500002, 0.18673670407499995, 0.18390637787499997, 0.1796326169, 0.17595512087500004, 0.17350827610000003, 0.17093366105000002, 0.16841104227500003, 0.16552298499999998, 0.1636984631, 0.16117794897499998, 0.15920858367500001, 0.1577499894749999, 0.155691766525, 0.1532489269, 0.151914244975, 0.15026166180000003, 0.14871526805000002, 0.14684560867500002, 0.14522658737499997, 0.143906190175, 0.1425087914, 0.14122187842499997, 0.13984510640000003, 0.13868759534999994, 0.13790026005000006, 0.13680299705, 0.135856404075, 0.135008327175, 0.13425114322499995, 0.13327001865, 0.13217114385, 0.1316404831, 0.13038237842499997, 0.129530272675, 0.12900920265000002, 0.12825020002499996, 0.12749951059999998, 0.12671481602499995, 0.126279130325, 0.12549891505000002, 0.12486583922500001, 0.12477838780000003, 0.1245195783, 0.12426847064999999, 0.12386897907500002, 0.12348987757499999, 0.12301390045, 0.122592228975, 0.12224752552500004, 0.12172578702500003, 0.12131507620000001, 0.12112877424999999]}, {\"line\": {\"color\": \"green\", \"width\": 4}, \"name\": \"Pork\", \"type\": \"scatter\", \"x\": [1005.3495, 1007.279, 1009.2085, 1011.138, 1013.0675, 1014.997, 1016.9265, 1018.8560000000001, 1020.7855, 1022.715, 1024.6445, 1026.5739999999998, 1028.5035, 1030.433, 1032.3625, 1034.292, 1036.2215, 1038.151, 1040.0815, 1042.011, 1043.9405, 1045.87, 1047.7995, 1049.729, 1051.6585, 1053.588, 1055.5175, 1057.447, 1059.3765, 1061.306, 1063.2355, 1065.165, 1067.0945, 1069.024, 1070.9535, 1072.883, 1074.8135, 1076.743, 1078.6725, 1080.6019999999999, 1082.5315, 1084.461, 1086.3905, 1088.32, 1090.2495, 1092.1789999999999, 1094.1085, 1096.038, 1097.9675, 1099.897, 1101.8265, 1103.756, 1105.6855, 1107.615, 1109.5455, 1111.475, 1113.4045, 1115.3339999999998, 1117.2635, 1119.193, 1121.1225, 1123.052, 1124.9815, 1126.911, 1128.8405, 1130.77, 1132.7005, 1134.63, 1136.5595, 1138.489, 1140.4185, 1142.348, 1144.2775, 1146.2069999999999, 1148.1365, 1150.066, 1151.9955, 1153.925, 1155.8545, 1157.7839999999999, 1159.7135, 1161.643, 1163.5725, 1165.502, 1167.4325, 1169.362, 1171.2915, 1173.221, 1175.1505, 1177.08, 1179.0095, 1180.9389999999999, 1182.8685, 1184.798, 1186.7275, 1188.657, 1190.5875, 1192.517, 1194.4465, 1196.376, 1198.3055, 1200.235, 1202.1645, 1204.094, 1206.0235, 1207.953, 1209.8825, 1211.812, 1213.7415, 1215.671, 1217.6005, 1219.53, 1221.4595, 1223.389, 1225.3195, 1227.249, 1229.1785, 1231.108, 1233.0375, 1234.9669999999999, 1236.8965, 1238.826, 1240.7555, 1242.685, 1244.6145, 1246.5439999999999, 1248.4745, 1250.404, 1252.3335, 1254.263, 1256.1925, 1258.122, 1260.0515, 1261.981, 1263.9105, 1265.84, 1267.7695, 1269.6989999999998, 1271.6285, 1273.558, 1275.4875, 1277.417, 1279.3465, 1281.276, 1283.2065, 1285.136, 1287.0655, 1288.995, 1290.9245, 1292.854, 1294.7835, 1296.713, 1298.6425, 1300.572, 1302.5015, 1304.431, 1306.3615, 1308.2910000000002, 1310.2205, 1312.15, 1314.0795, 1316.009, 1317.9385, 1319.868, 1321.7975, 1323.727, 1325.6565, 1327.586, 1329.5155, 1331.445, 1333.3745, 1335.3039999999999, 1337.2335, 1339.1629999999998, 1341.0935, 1343.023, 1344.9525, 1346.882, 1348.8115, 1350.741, 1352.6705, 1354.6, 1356.5295, 1358.4589999999998, 1360.3885, 1362.318, 1364.2485, 1366.1779999999999, 1368.1075, 1370.037, 1371.9665, 1373.896, 1375.8255, 1377.755, 1379.6845, 1381.614, 1383.5435, 1385.473, 1387.4025, 1389.332, 1391.2615, 1393.191, 1395.1205, 1397.05, 1398.9805, 1400.91, 1402.8395, 1404.769, 1406.6985, 1408.628, 1410.5575, 1412.487, 1414.4165, 1416.346, 1418.2755, 1420.205, 1422.1345, 1424.0639999999999, 1425.9935, 1427.9229999999998, 1429.8525, 1431.7820000000002, 1433.7125, 1435.642, 1437.5715, 1439.501, 1441.4305, 1443.36, 1445.2895, 1447.219, 1449.1485, 1451.078, 1453.0075, 1454.9370000000001, 1456.8675, 1458.797, 1460.7265, 1462.656, 1464.5855, 1466.515, 1468.4445, 1470.374, 1472.3035, 1474.233, 1476.1625, 1478.092, 1480.0215, 1481.951, 1483.8805, 1485.81, 1487.7395, 1489.6689999999999, 1491.5995, 1493.529, 1495.4585, 1497.388, 1499.3175, 1501.247, 1503.1765, 1505.106, 1507.0355, 1508.965, 1510.8945, 1512.8239999999998, 1514.7545, 1516.684, 1518.6135, 1520.543, 1522.4725, 1524.402, 1526.3315, 1528.261, 1530.1905, 1532.12, 1534.0495, 1535.979, 1537.9085, 1539.838, 1541.7675, 1543.6970000000001, 1545.6265, 1547.556, 1549.4865, 1551.4160000000002, 1553.3455, 1555.275, 1557.2045, 1559.134, 1561.0635, 1562.993, 1564.9225, 1566.852, 1568.7815, 1570.711, 1572.6415, 1574.5710000000001, 1576.5005, 1578.43, 1580.3595, 1582.289, 1584.2185, 1586.148, 1588.0775, 1590.007, 1591.9365, 1593.866, 1595.7955, 1597.725, 1599.6545, 1601.5839999999998, 1603.5135, 1605.443, 1607.3735, 1609.3029999999999, 1611.2325, 1613.162, 1615.0915, 1617.021, 1618.9505, 1620.88, 1622.8095, 1624.739, 1626.6685, 1628.598, 1630.5285, 1632.4579999999999, 1634.3875, 1636.317, 1638.2465, 1640.1760000000002, 1642.1055, 1644.035, 1645.9645, 1647.894, 1649.8235, 1651.753, 1653.6825, 1655.612, 1657.5415, 1659.471, 1661.4005, 1663.33, 1665.2605, 1667.19, 1669.1195, 1671.049, 1672.9785, 1674.908, 1676.8375, 1678.767, 1680.6965, 1682.626, 1684.5555, 1686.485, 1688.4155, 1690.345, 1692.2745, 1694.204, 1696.1335, 1698.0629999999999, 1699.9925, 1701.922, 1703.8515, 1705.781, 1707.7105, 1709.64, 1711.5695, 1713.499, 1715.4285, 1717.358, 1719.2875, 1721.217, 1723.1475, 1725.0770000000002, 1727.0065, 1728.9360000000001, 1730.8655, 1732.795, 1734.7245, 1736.654, 1738.5835, 1740.513, 1742.4425, 1744.372, 1746.3015, 1748.231, 1750.1605, 1752.09, 1754.0195, 1755.9489999999998, 1757.8795, 1759.809, 1761.7385, 1763.668, 1765.5975, 1767.527, 1769.4565, 1771.386, 1773.3155, 1775.245, 1777.1745, 1779.104, 1781.0345, 1782.964, 1784.8935, 1786.8229999999999, 1788.7525, 1790.682, 1792.6115, 1794.5410000000002, 1796.4705, 1798.4, 1800.3295, 1802.259, 1804.1885, 1806.118, 1808.0475, 1809.977, 1811.9065, 1813.836, 1815.7665, 1817.6960000000001, 1819.6255, 1821.555, 1823.4845, 1825.414, 1827.3435, 1829.273, 1831.2025, 1833.132, 1835.0615, 1836.991, 1838.9215, 1840.851, 1842.7805, 1844.71, 1846.6395, 1848.569, 1850.4985, 1852.4279999999999, 1854.3575, 1856.287, 1858.2165, 1860.146, 1862.0755, 1864.005, 1865.9345, 1867.864], \"y\": [0.5373349504749999, 0.5360583401, 0.5350600397249997, 0.534287764, 0.5341394487, 0.533881808425, 0.5338539030000001, 0.5339349208749997, 0.534314886, 0.5352455810500001, 0.5367113824000002, 0.5386028442999999, 0.5413929505499999, 0.5443195115750001, 0.5472588607000002, 0.5498649741499999, 0.5527324055999999, 0.555710175325, 0.5579316498499999, 0.55907794255, 0.559115665475, 0.5576484666000001, 0.5551573543999999, 0.5529702472000001, 0.551431466475, 0.550737016175, 0.550753278275, 0.5515091125, 0.5532096127, 0.5554035967, 0.558309502675, 0.561802897275, 0.5659937086, 0.5709187693000001, 0.5760043777500001, 0.58109438585, 0.5859007161499998, 0.5889964243500001, 0.5905009611250001, 0.58990503945, 0.5872856849499999, 0.5829803575250001, 0.577048807775, 0.570584772125, 0.5644333575499999, 0.558594749725, 0.5532321711499999, 0.5482367755000002, 0.5436344351500002, 0.5399945727249998, 0.5369784394, 0.5348916318, 0.5332160156500001, 0.5322676448500001, 0.532490253925, 0.5332898872999999, 0.5344894650250002, 0.53600766915, 0.5376338608500001, 0.53911725195, 0.53998361835, 0.5402955796, 0.5398542883999998, 0.537706780225, 0.5339769324750001, 0.5292300156749999, 0.523977268625, 0.5194588136749998, 0.5158572555999998, 0.5135340801, 0.512600421875, 0.512327564475, 0.5130246624500001, 0.514502928175, 0.5166930495749998, 0.5191188450750002, 0.521425058775, 0.52354338575, 0.5253462939250001, 0.5266529461000001, 0.527630433375, 0.52845396575, 0.52874001035, 0.529130963725, 0.5291589779250001, 0.529374182225, 0.5295776834, 0.5287321600250001, 0.5264484018750002, 0.5229028903249999, 0.5191287807999999, 0.5155421711249999, 0.511856783125, 0.508654485375, 0.506485189325, 0.505207478375, 0.5044292936500001, 0.5041492760249999, 0.504160885675, 0.5044050340250001, 0.5044228050499999, 0.5042235022, 0.504422798575, 0.505071486125, 0.506227552075, 0.5072622496999999, 0.5083713604250002, 0.5097988853, 0.511216322075, 0.51297757535, 0.514938183975, 0.5174859323999998, 0.5196252797249999, 0.5214777213999998, 0.5234722071999999, 0.5256166181999999, 0.5278155026000001, 0.530097459325, 0.5322301197250001, 0.534181459375, 0.536034862925, 0.5372894894999999, 0.5378854205249999, 0.5379930734, 0.5372953950249999, 0.536304165, 0.535050831375, 0.5337215677249999, 0.5324252247249999, 0.5308407591499998, 0.5293587446499999, 0.5277528757499999, 0.5263764, 0.5252453589999998, 0.5247193437750002, 0.5244246305, 0.5237900417250001, 0.522621431225, 0.52176296525, 0.5207064124750002, 0.519924322025, 0.5198617432250001, 0.5197959094, 0.5199103924750001, 0.5203535226000001, 0.5208759646, 0.5216724310249999, 0.5220970396999999, 0.5225784303000001, 0.5236166767249999, 0.5248075666750001, 0.5264212670249998, 0.5286200485999999, 0.5311632315000001, 0.5340470364999998, 0.5369359320750002, 0.53946200185, 0.5412055547499999, 0.54212912045, 0.5420773691500003, 0.5402522929249999, 0.5375164866000001, 0.5343134482749998, 0.5302831883000001, 0.5262998661999998, 0.5221505368999998, 0.5182331974000001, 0.5148847873, 0.5121922549250001, 0.51021216515, 0.5090264608750001, 0.5086104920250001, 0.508627054325, 0.5083808129999999, 0.5071397593, 0.506456199225, 0.5063467919750001, 0.505325978225, 0.504736552975, 0.5041437321, 0.5039484296, 0.5039203886999999, 0.5036925092, 0.5042269911, 0.5055278731, 0.5070103735, 0.50806852785, 0.510400467875, 0.512908045975, 0.5130819929249999, 0.513589388125, 0.515779644225, 0.5190895598, 0.524553903525, 0.5318432962750002, 0.5393015458, 0.5481083633999998, 0.558263187975, 0.568429351975, 0.578917176225, 0.58901699105, 0.59832627635, 0.6035582229500001, 0.6060758671500002, 0.605811187475, 0.6006007353749998, 0.5968225978750002, 0.5910020312499997, 0.5824245714250003, 0.5768440403499999, 0.5717062924749999, 0.5667115310499999, 0.5637738606999998, 0.5617731213000001, 0.55972041055, 0.552453112975, 0.5483461993000001, 0.5458141884750001, 0.539941523625, 0.537117925525, 0.5331592724, 0.5285573742999998, 0.528131175925, 0.5309432601000001, 0.5328704134250001, 0.5353700450500002, 0.5396879052500001, 0.542828821225, 0.546152007275, 0.549458557, 0.5521532414999999, 0.556122740125, 0.56073354865, 0.5651533537249999, 0.5661754439, 0.5594052759749999, 0.5577274408499997, 0.5584104867749999, 0.5573155722500001, 0.5525050979, 0.5502264748749999, 0.54870314625, 0.5446819761, 0.53310537355, 0.527007602625, 0.5212704018249997, 0.519753817425, 0.5192404237500001, 0.5194718854000001, 0.522810012675, 0.527240554825, 0.5322225906749999, 0.5372162849749998, 0.54447196095, 0.5536346107750001, 0.5624546828500002, 0.5709580603250001, 0.5808080860249998, 0.591933958225, 0.60451280775, 0.617693066325, 0.6324865508500002, 0.6494395466749999, 0.66688468165, 0.6850709022999999, 0.7004846285249999, 0.7152056282999998, 0.7271235588749998, 0.737992944375, 0.751258671925, 0.7681064296750002, 0.78525295655, 0.803506238625, 0.82245006805, 0.8386299900499999, 0.86002852045, 0.878192049025, 0.8921742351999999, 0.9057308358999998, 0.92938283905, 0.9455119781499999, 0.9595661252000005, 0.9662987445499999, 0.9643973463499999, 0.961841349575, 0.9511614369999999, 0.9421908338000001, 0.9306922420749999, 0.9006442684000001, 0.90480465655, 0.9015427124499998, 0.8959810958999999, 0.89568532495, 0.8907019752249999, 0.889476387875, 0.8950140408250004, 0.8963888775000001, 0.8970094100500001, 0.903752218175, 0.9114962502500003, 0.9185796808500001, 0.9280708737999998, 0.938452659275, 0.9503910623249998, 0.9637828897750002, 0.97918220725, 0.9954948459749999, 1.0146898069749999, 1.03461882825, 1.0576562706000001, 1.082871071025, 1.1119564454750002, 1.142696828325, 1.1786585578250002, 1.2154815807749997, 1.2569495947250002, 1.2944530282499997, 1.3310949628000002, 1.381210122775, 1.4270912523, 1.4606047218749996, 1.500822697425, 1.5419184960249999, 1.57580467605, 1.607610967175, 1.63556716015, 1.6417173643500003, 1.6251219655249998, 1.644294689525, 1.6658704372250006, 1.6603102490750001, 1.648314521575, 1.6166516669750002, 1.5730335043, 1.5621111323, 1.5445588408500002, 1.4549248662999998, 1.4336869637750003, 1.4328184211250004, 1.3972935809250002, 1.3514825504999997, 1.3009160046250001, 1.2500157599250001, 1.2182965155999999, 1.172376640175, 1.1204660660750005, 1.0803296502999997, 1.0504871899000001, 0.9967622578000004, 0.965041288125, 0.9262985614750001, 0.888437835825, 0.8461643847000001, 0.7918864985999998, 0.7714793234500001, 0.7361266608750001, 0.7001473836749998, 0.6726415079000001, 0.6407043541500002, 0.599272640675, 0.582523728375, 0.5413767792749999, 0.52287777565, 0.5035225716, 0.47706721252500006, 0.460054431125, 0.441228892925, 0.4260307686999999, 0.40959268882499994, 0.39436916055, 0.37706029582499995, 0.36597358825, 0.3579684597750001, 0.348043619425, 0.34116121425, 0.3362100713749999, 0.32881380647499997, 0.3215996493750001, 0.31474655637500004, 0.3050398719, 0.3011881076250001, 0.291806820175, 0.28337701704999996, 0.2757747951499999, 0.26729964249999993, 0.25915510615000004, 0.249160251775, 0.23954169649999998, 0.22986016315000005, 0.22382151210000006, 0.2151648216, 0.20843520970000004, 0.20351757825, 0.19680612360000005, 0.192475573775, 0.18870239297499997, 0.18409924107500003, 0.18146135477500006, 0.17719741660000005, 0.17350883579999998, 0.1710637484000001, 0.16845269347500003, 0.16605296504999995, 0.16316642117499996, 0.16143173475, 0.15895773919999998, 0.15705634980000002, 0.15568441145000003, 0.153645249925, 0.15129611894999997, 0.15003576837500004, 0.14846866050000002, 0.14695160097499999, 0.14494299254999998, 0.14337623149999998, 0.1420892378, 0.14077532042500002, 0.13949053782499998, 0.13824777370000002, 0.1370121402, 0.13625133487499996, 0.13516359065, 0.13430769747500004, 0.13327295422500002, 0.1326396459, 0.13177606752499998, 0.1307230538, 0.13027535210000002, 0.1290994902, 0.12814783925000003, 0.1276332839, 0.12681681035, 0.12616332065, 0.1253502602, 0.12490291672500002, 0.124312115125, 0.12366969324999996, 0.12351217014999998, 0.12327168682500007, 0.12304269502500002, 0.1226405387, 0.122122262575, 0.1217422043, 0.12139968082500001, 0.12097928739999997, 0.12046695022499998, 0.120098539875, 0.11996258077500004]}],\n",
              "                        {\"template\": {\"data\": {\"bar\": [{\"error_x\": {\"color\": \"#2a3f5f\"}, \"error_y\": {\"color\": \"#2a3f5f\"}, \"marker\": {\"line\": {\"color\": \"#E5ECF6\", \"width\": 0.5}}, \"type\": \"bar\"}], \"barpolar\": [{\"marker\": {\"line\": {\"color\": \"#E5ECF6\", \"width\": 0.5}}, \"type\": \"barpolar\"}], \"carpet\": [{\"aaxis\": {\"endlinecolor\": \"#2a3f5f\", \"gridcolor\": \"white\", \"linecolor\": \"white\", \"minorgridcolor\": \"white\", \"startlinecolor\": \"#2a3f5f\"}, \"baxis\": {\"endlinecolor\": \"#2a3f5f\", \"gridcolor\": \"white\", \"linecolor\": \"white\", \"minorgridcolor\": \"white\", \"startlinecolor\": \"#2a3f5f\"}, \"type\": \"carpet\"}], \"choropleth\": [{\"colorbar\": {\"outlinewidth\": 0, \"ticks\": \"\"}, \"type\": \"choropleth\"}], \"contour\": [{\"colorbar\": {\"outlinewidth\": 0, \"ticks\": \"\"}, \"colorscale\": [[0.0, \"#0d0887\"], [0.1111111111111111, \"#46039f\"], [0.2222222222222222, \"#7201a8\"], [0.3333333333333333, \"#9c179e\"], [0.4444444444444444, \"#bd3786\"], [0.5555555555555556, \"#d8576b\"], [0.6666666666666666, \"#ed7953\"], [0.7777777777777778, \"#fb9f3a\"], [0.8888888888888888, \"#fdca26\"], [1.0, \"#f0f921\"]], \"type\": \"contour\"}], \"contourcarpet\": [{\"colorbar\": {\"outlinewidth\": 0, \"ticks\": \"\"}, \"type\": \"contourcarpet\"}], \"heatmap\": [{\"colorbar\": {\"outlinewidth\": 0, \"ticks\": \"\"}, \"colorscale\": [[0.0, \"#0d0887\"], [0.1111111111111111, \"#46039f\"], [0.2222222222222222, \"#7201a8\"], [0.3333333333333333, \"#9c179e\"], [0.4444444444444444, \"#bd3786\"], [0.5555555555555556, \"#d8576b\"], [0.6666666666666666, \"#ed7953\"], [0.7777777777777778, \"#fb9f3a\"], [0.8888888888888888, \"#fdca26\"], [1.0, \"#f0f921\"]], \"type\": \"heatmap\"}], \"heatmapgl\": [{\"colorbar\": {\"outlinewidth\": 0, \"ticks\": \"\"}, \"colorscale\": [[0.0, \"#0d0887\"], [0.1111111111111111, \"#46039f\"], [0.2222222222222222, \"#7201a8\"], [0.3333333333333333, \"#9c179e\"], [0.4444444444444444, \"#bd3786\"], [0.5555555555555556, \"#d8576b\"], [0.6666666666666666, \"#ed7953\"], [0.7777777777777778, \"#fb9f3a\"], [0.8888888888888888, \"#fdca26\"], [1.0, \"#f0f921\"]], \"type\": \"heatmapgl\"}], \"histogram\": [{\"marker\": {\"colorbar\": {\"outlinewidth\": 0, \"ticks\": \"\"}}, \"type\": \"histogram\"}], \"histogram2d\": [{\"colorbar\": {\"outlinewidth\": 0, \"ticks\": \"\"}, \"colorscale\": [[0.0, \"#0d0887\"], [0.1111111111111111, \"#46039f\"], [0.2222222222222222, \"#7201a8\"], [0.3333333333333333, \"#9c179e\"], [0.4444444444444444, \"#bd3786\"], [0.5555555555555556, \"#d8576b\"], [0.6666666666666666, \"#ed7953\"], [0.7777777777777778, \"#fb9f3a\"], [0.8888888888888888, \"#fdca26\"], [1.0, \"#f0f921\"]], \"type\": \"histogram2d\"}], \"histogram2dcontour\": [{\"colorbar\": {\"outlinewidth\": 0, \"ticks\": \"\"}, \"colorscale\": [[0.0, \"#0d0887\"], [0.1111111111111111, \"#46039f\"], [0.2222222222222222, \"#7201a8\"], [0.3333333333333333, \"#9c179e\"], [0.4444444444444444, \"#bd3786\"], [0.5555555555555556, \"#d8576b\"], [0.6666666666666666, \"#ed7953\"], [0.7777777777777778, \"#fb9f3a\"], [0.8888888888888888, \"#fdca26\"], [1.0, \"#f0f921\"]], \"type\": \"histogram2dcontour\"}], \"mesh3d\": [{\"colorbar\": {\"outlinewidth\": 0, \"ticks\": \"\"}, \"type\": \"mesh3d\"}], \"parcoords\": [{\"line\": {\"colorbar\": {\"outlinewidth\": 0, \"ticks\": \"\"}}, \"type\": \"parcoords\"}], \"pie\": [{\"automargin\": true, \"type\": \"pie\"}], \"scatter\": [{\"marker\": {\"colorbar\": {\"outlinewidth\": 0, \"ticks\": \"\"}}, \"type\": \"scatter\"}], \"scatter3d\": [{\"line\": {\"colorbar\": {\"outlinewidth\": 0, \"ticks\": \"\"}}, \"marker\": {\"colorbar\": {\"outlinewidth\": 0, \"ticks\": \"\"}}, \"type\": \"scatter3d\"}], \"scattercarpet\": [{\"marker\": {\"colorbar\": {\"outlinewidth\": 0, \"ticks\": \"\"}}, \"type\": \"scattercarpet\"}], \"scattergeo\": [{\"marker\": {\"colorbar\": {\"outlinewidth\": 0, \"ticks\": \"\"}}, \"type\": \"scattergeo\"}], \"scattergl\": [{\"marker\": {\"colorbar\": {\"outlinewidth\": 0, \"ticks\": \"\"}}, \"type\": \"scattergl\"}], \"scattermapbox\": [{\"marker\": {\"colorbar\": {\"outlinewidth\": 0, \"ticks\": \"\"}}, \"type\": \"scattermapbox\"}], \"scatterpolar\": [{\"marker\": {\"colorbar\": {\"outlinewidth\": 0, \"ticks\": \"\"}}, \"type\": \"scatterpolar\"}], \"scatterpolargl\": [{\"marker\": {\"colorbar\": {\"outlinewidth\": 0, \"ticks\": \"\"}}, \"type\": \"scatterpolargl\"}], \"scatterternary\": [{\"marker\": {\"colorbar\": {\"outlinewidth\": 0, \"ticks\": \"\"}}, \"type\": \"scatterternary\"}], \"surface\": [{\"colorbar\": {\"outlinewidth\": 0, \"ticks\": \"\"}, \"colorscale\": [[0.0, \"#0d0887\"], [0.1111111111111111, \"#46039f\"], [0.2222222222222222, \"#7201a8\"], [0.3333333333333333, \"#9c179e\"], [0.4444444444444444, \"#bd3786\"], [0.5555555555555556, \"#d8576b\"], [0.6666666666666666, \"#ed7953\"], [0.7777777777777778, \"#fb9f3a\"], [0.8888888888888888, \"#fdca26\"], [1.0, \"#f0f921\"]], \"type\": \"surface\"}], \"table\": [{\"cells\": {\"fill\": {\"color\": \"#EBF0F8\"}, \"line\": {\"color\": \"white\"}}, \"header\": {\"fill\": {\"color\": \"#C8D4E3\"}, \"line\": {\"color\": \"white\"}}, \"type\": \"table\"}]}, \"layout\": {\"annotationdefaults\": {\"arrowcolor\": \"#2a3f5f\", \"arrowhead\": 0, \"arrowwidth\": 1}, \"coloraxis\": {\"colorbar\": {\"outlinewidth\": 0, \"ticks\": \"\"}}, \"colorscale\": {\"diverging\": [[0, \"#8e0152\"], [0.1, \"#c51b7d\"], [0.2, \"#de77ae\"], [0.3, \"#f1b6da\"], [0.4, \"#fde0ef\"], [0.5, \"#f7f7f7\"], [0.6, \"#e6f5d0\"], [0.7, \"#b8e186\"], [0.8, \"#7fbc41\"], [0.9, \"#4d9221\"], [1, \"#276419\"]], \"sequential\": [[0.0, \"#0d0887\"], [0.1111111111111111, \"#46039f\"], [0.2222222222222222, \"#7201a8\"], [0.3333333333333333, \"#9c179e\"], [0.4444444444444444, \"#bd3786\"], [0.5555555555555556, \"#d8576b\"], [0.6666666666666666, \"#ed7953\"], [0.7777777777777778, \"#fb9f3a\"], [0.8888888888888888, \"#fdca26\"], [1.0, \"#f0f921\"]], \"sequentialminus\": [[0.0, \"#0d0887\"], [0.1111111111111111, \"#46039f\"], [0.2222222222222222, \"#7201a8\"], [0.3333333333333333, \"#9c179e\"], [0.4444444444444444, \"#bd3786\"], [0.5555555555555556, \"#d8576b\"], [0.6666666666666666, \"#ed7953\"], [0.7777777777777778, \"#fb9f3a\"], [0.8888888888888888, \"#fdca26\"], [1.0, \"#f0f921\"]]}, \"colorway\": [\"#636efa\", \"#EF553B\", \"#00cc96\", \"#ab63fa\", \"#FFA15A\", \"#19d3f3\", \"#FF6692\", \"#B6E880\", \"#FF97FF\", \"#FECB52\"], \"font\": {\"color\": \"#2a3f5f\"}, \"geo\": {\"bgcolor\": \"white\", \"lakecolor\": \"white\", \"landcolor\": \"#E5ECF6\", \"showlakes\": true, \"showland\": true, \"subunitcolor\": \"white\"}, \"hoverlabel\": {\"align\": \"left\"}, \"hovermode\": \"closest\", \"mapbox\": {\"style\": \"light\"}, \"paper_bgcolor\": \"white\", \"plot_bgcolor\": \"#E5ECF6\", \"polar\": {\"angularaxis\": {\"gridcolor\": \"white\", \"linecolor\": \"white\", \"ticks\": \"\"}, \"bgcolor\": \"#E5ECF6\", \"radialaxis\": {\"gridcolor\": \"white\", \"linecolor\": \"white\", \"ticks\": \"\"}}, \"scene\": {\"xaxis\": {\"backgroundcolor\": \"#E5ECF6\", \"gridcolor\": \"white\", \"gridwidth\": 2, \"linecolor\": \"white\", \"showbackground\": true, \"ticks\": \"\", \"zerolinecolor\": \"white\"}, \"yaxis\": {\"backgroundcolor\": \"#E5ECF6\", \"gridcolor\": \"white\", \"gridwidth\": 2, \"linecolor\": \"white\", \"showbackground\": true, \"ticks\": \"\", \"zerolinecolor\": \"white\"}, \"zaxis\": {\"backgroundcolor\": \"#E5ECF6\", \"gridcolor\": \"white\", \"gridwidth\": 2, \"linecolor\": \"white\", \"showbackground\": true, \"ticks\": \"\", \"zerolinecolor\": \"white\"}}, \"shapedefaults\": {\"line\": {\"color\": \"#2a3f5f\"}}, \"ternary\": {\"aaxis\": {\"gridcolor\": \"white\", \"linecolor\": \"white\", \"ticks\": \"\"}, \"baxis\": {\"gridcolor\": \"white\", \"linecolor\": \"white\", \"ticks\": \"\"}, \"bgcolor\": \"#E5ECF6\", \"caxis\": {\"gridcolor\": \"white\", \"linecolor\": \"white\", \"ticks\": \"\"}}, \"title\": {\"x\": 0.05}, \"xaxis\": {\"automargin\": true, \"gridcolor\": \"white\", \"linecolor\": \"white\", \"ticks\": \"\", \"title\": {\"standoff\": 15}, \"zerolinecolor\": \"white\", \"zerolinewidth\": 2}, \"yaxis\": {\"automargin\": true, \"gridcolor\": \"white\", \"linecolor\": \"white\", \"ticks\": \"\", \"title\": {\"standoff\": 15}, \"zerolinecolor\": \"white\", \"zerolinewidth\": 2}}}, \"title\": {\"text\": \"FTIR Spectra of every type of meat\"}},\n",
              "                        {\"responsive\": true}\n",
              "                    ).then(function(){\n",
              "                            \n",
              "var gd = document.getElementById('4b8be7a0-359b-495b-8459-8837bb2c7b7a');\n",
              "var x = new MutationObserver(function (mutations, observer) {{\n",
              "        var display = window.getComputedStyle(gd).display;\n",
              "        if (!display || display === 'none') {{\n",
              "            console.log([gd, 'removed!']);\n",
              "            Plotly.purge(gd);\n",
              "            observer.disconnect();\n",
              "        }}\n",
              "}});\n",
              "\n",
              "// Listen for the removal of the full notebook cells\n",
              "var notebookContainer = gd.closest('#notebook-container');\n",
              "if (notebookContainer) {{\n",
              "    x.observe(notebookContainer, {childList: true});\n",
              "}}\n",
              "\n",
              "// Listen for the clearing of the current output cell\n",
              "var outputEl = gd.closest('.output');\n",
              "if (outputEl) {{\n",
              "    x.observe(outputEl, {childList: true});\n",
              "}}\n",
              "\n",
              "                        })\n",
              "                };\n",
              "                });\n",
              "            </script>\n",
              "        </div>"
            ]
          },
          "metadata": {
            "tags": []
          }
        }
      ]
    },
    {
      "cell_type": "code",
      "metadata": {
        "id": "nw9cVWgiLFAc"
      },
      "source": [
        "le = LabelEncoder()\n",
        "df[\"Label\"] = le.fit_transform(df[\"Label\"])"
      ],
      "execution_count": 50,
      "outputs": []
    },
    {
      "cell_type": "code",
      "metadata": {
        "id": "6SJqcdq6MNof",
        "colab": {
          "base_uri": "https://localhost:8080/"
        },
        "outputId": "a18ce067-a642-41bc-ad19-d02649889f6c"
      },
      "source": [
        "df[\"Label\"].unique()"
      ],
      "execution_count": 51,
      "outputs": [
        {
          "output_type": "execute_result",
          "data": {
            "text/plain": [
              "array([0, 1, 2])"
            ]
          },
          "metadata": {
            "tags": []
          },
          "execution_count": 51
        }
      ]
    },
    {
      "cell_type": "code",
      "metadata": {
        "id": "DgY1zModl7bD"
      },
      "source": [
        "X,y = df.iloc[:,:-1],df.iloc[:,-1]"
      ],
      "execution_count": 52,
      "outputs": []
    },
    {
      "cell_type": "code",
      "metadata": {
        "id": "gGEKrf7kxTZ9",
        "colab": {
          "base_uri": "https://localhost:8080/"
        },
        "outputId": "f6662baf-d09d-4cb2-af58-936c2c8fdfa1"
      },
      "source": [
        "X.shape"
      ],
      "execution_count": 53,
      "outputs": [
        {
          "output_type": "execute_result",
          "data": {
            "text/plain": [
              "(120, 448)"
            ]
          },
          "metadata": {
            "tags": []
          },
          "execution_count": 53
        }
      ]
    },
    {
      "cell_type": "code",
      "metadata": {
        "id": "RWVo79T5m7UQ"
      },
      "source": [
        "scaler = StandardScaler()\n",
        "X = scaler.fit_transform(X)"
      ],
      "execution_count": 54,
      "outputs": []
    },
    {
      "cell_type": "markdown",
      "metadata": {
        "id": "A_Bj8guA5QSe"
      },
      "source": [
        "# **PCA**"
      ]
    },
    {
      "cell_type": "code",
      "metadata": {
        "id": "-Wq_ocBOnMUb"
      },
      "source": [
        "pca = PCA(.9)"
      ],
      "execution_count": 55,
      "outputs": []
    },
    {
      "cell_type": "code",
      "metadata": {
        "id": "21SbgRsBnNp_"
      },
      "source": [
        "X = pca.fit_transform(X)"
      ],
      "execution_count": 56,
      "outputs": []
    },
    {
      "cell_type": "code",
      "metadata": {
        "id": "bllkc2RhnX6a",
        "colab": {
          "base_uri": "https://localhost:8080/"
        },
        "outputId": "914c0cb0-467b-4c15-a193-61b64bd59401"
      },
      "source": [
        "X.shape"
      ],
      "execution_count": 57,
      "outputs": [
        {
          "output_type": "execute_result",
          "data": {
            "text/plain": [
              "(120, 2)"
            ]
          },
          "metadata": {
            "tags": []
          },
          "execution_count": 57
        }
      ]
    },
    {
      "cell_type": "code",
      "metadata": {
        "id": "f13IIVISpJYx",
        "colab": {
          "base_uri": "https://localhost:8080/"
        },
        "outputId": "76ee769b-81fe-4cda-c23b-80bb1c5bd486"
      },
      "source": [
        "y.shape"
      ],
      "execution_count": 58,
      "outputs": [
        {
          "output_type": "execute_result",
          "data": {
            "text/plain": [
              "(120,)"
            ]
          },
          "metadata": {
            "tags": []
          },
          "execution_count": 58
        }
      ]
    },
    {
      "cell_type": "code",
      "metadata": {
        "id": "xKbmL_m4ooTn"
      },
      "source": [
        "principalDf = pd.DataFrame(data = X\n",
        "             , columns = ['PC1', 'PC2'])"
      ],
      "execution_count": 59,
      "outputs": []
    },
    {
      "cell_type": "code",
      "metadata": {
        "id": "vYYRrqohxsuB",
        "colab": {
          "base_uri": "https://localhost:8080/",
          "height": 204
        },
        "outputId": "6c68632d-290e-4702-dda9-91c530f05c41"
      },
      "source": [
        "principalDf.head()"
      ],
      "execution_count": 60,
      "outputs": [
        {
          "output_type": "execute_result",
          "data": {
            "text/html": [
              "<div>\n",
              "<style scoped>\n",
              "    .dataframe tbody tr th:only-of-type {\n",
              "        vertical-align: middle;\n",
              "    }\n",
              "\n",
              "    .dataframe tbody tr th {\n",
              "        vertical-align: top;\n",
              "    }\n",
              "\n",
              "    .dataframe thead th {\n",
              "        text-align: right;\n",
              "    }\n",
              "</style>\n",
              "<table border=\"1\" class=\"dataframe\">\n",
              "  <thead>\n",
              "    <tr style=\"text-align: right;\">\n",
              "      <th></th>\n",
              "      <th>PC1</th>\n",
              "      <th>PC2</th>\n",
              "    </tr>\n",
              "  </thead>\n",
              "  <tbody>\n",
              "    <tr>\n",
              "      <th>0</th>\n",
              "      <td>25.068000</td>\n",
              "      <td>7.629409</td>\n",
              "    </tr>\n",
              "    <tr>\n",
              "      <th>1</th>\n",
              "      <td>40.543896</td>\n",
              "      <td>2.970833</td>\n",
              "    </tr>\n",
              "    <tr>\n",
              "      <th>2</th>\n",
              "      <td>25.863574</td>\n",
              "      <td>3.472475</td>\n",
              "    </tr>\n",
              "    <tr>\n",
              "      <th>3</th>\n",
              "      <td>18.712381</td>\n",
              "      <td>7.271332</td>\n",
              "    </tr>\n",
              "    <tr>\n",
              "      <th>4</th>\n",
              "      <td>21.806974</td>\n",
              "      <td>2.818770</td>\n",
              "    </tr>\n",
              "  </tbody>\n",
              "</table>\n",
              "</div>"
            ],
            "text/plain": [
              "         PC1       PC2\n",
              "0  25.068000  7.629409\n",
              "1  40.543896  2.970833\n",
              "2  25.863574  3.472475\n",
              "3  18.712381  7.271332\n",
              "4  21.806974  2.818770"
            ]
          },
          "metadata": {
            "tags": []
          },
          "execution_count": 60
        }
      ]
    },
    {
      "cell_type": "code",
      "metadata": {
        "id": "K-n_Zq6hnhs3"
      },
      "source": [
        "def plot_scatter(x,y,title,color = None):\n",
        "  fig = px.scatter(x=x, y=y, color=color,title=title)\n",
        "  fig.show()"
      ],
      "execution_count": 61,
      "outputs": []
    },
    {
      "cell_type": "code",
      "metadata": {
        "colab": {
          "base_uri": "https://localhost:8080/",
          "height": 542
        },
        "id": "UF4oSGyq86ys",
        "outputId": "94640434-ee02-4ca2-ba30-a0c03630242e"
      },
      "source": [
        "plot_scatter(principalDf[\"PC1\"],principalDf[\"PC2\"],color=y,title=\"PCA visualisation\")"
      ],
      "execution_count": 62,
      "outputs": [
        {
          "output_type": "display_data",
          "data": {
            "text/html": [
              "<div>\n",
              "        \n",
              "        \n",
              "            <div id=\"020bb32a-2643-4c74-bd7f-e2390e9196e8\" class=\"plotly-graph-div\" style=\"height:525px; width:100%;\"></div>\n",
              "            <script type=\"text/javascript\">\n",
              "                require([\"plotly\"], function(Plotly) {\n",
              "                    window.PLOTLYENV=window.PLOTLYENV || {};\n",
              "                    \n",
              "                if (document.getElementById(\"020bb32a-2643-4c74-bd7f-e2390e9196e8\")) {\n",
              "                    Plotly.newPlot(\n",
              "                        '020bb32a-2643-4c74-bd7f-e2390e9196e8',\n",
              "                        [{\"hoverlabel\": {\"namelength\": 0}, \"hovertemplate\": \"x=%{x}<br>y=%{y}<br>color=%{marker.color}\", \"legendgroup\": \"\", \"marker\": {\"color\": [0, 0, 0, 0, 0, 0, 0, 0, 0, 0, 0, 0, 0, 0, 0, 0, 0, 0, 0, 0, 0, 0, 0, 0, 0, 0, 0, 0, 0, 0, 0, 0, 0, 0, 0, 0, 0, 0, 0, 0, 1, 1, 1, 1, 1, 1, 1, 1, 1, 1, 1, 1, 1, 1, 1, 1, 1, 1, 1, 1, 1, 1, 1, 1, 1, 1, 1, 1, 1, 1, 1, 1, 1, 1, 1, 1, 1, 1, 1, 1, 2, 2, 2, 2, 2, 2, 2, 2, 2, 2, 2, 2, 2, 2, 2, 2, 2, 2, 2, 2, 2, 2, 2, 2, 2, 2, 2, 2, 2, 2, 2, 2, 2, 2, 2, 2, 2, 2, 2, 2], \"coloraxis\": \"coloraxis\", \"symbol\": \"circle\"}, \"mode\": \"markers\", \"name\": \"\", \"showlegend\": false, \"type\": \"scatter\", \"x\": [25.067999508962266, 40.54389562199835, 25.863573804505428, 18.712381467142887, 21.80697356102125, 26.861958109056996, 20.93178882536384, 18.89014482969143, 18.77636409415274, 6.054183550149649, 12.438068846927681, 20.693232293352015, 32.64573460942101, 38.709033480082745, 9.18740780223248, 19.237097874145306, 8.151329646739615, 11.967117364681204, 26.565717204415666, 18.719501586146578, 17.57454402256841, 14.943498358313237, 29.64342705581534, 29.95537497673665, 21.5785132465386, 24.192247292808137, 17.521430287408982, 26.420584709572026, 30.338736564254837, 32.17207853824899, 13.653922846330136, 18.258401101879073, 12.06144380829888, 19.472681588206356, 30.09232293212112, 25.97582579844054, 28.81575567069489, 24.948141439645845, 20.052478849078234, 14.33131786602437, -15.537786086477055, -19.95716945039263, -30.72826433012381, -12.915676905516817, -39.876387678781974, -26.667585375384824, -26.373056448363048, -21.94192635709159, -21.186923511495092, -2.099746512484629, -5.308840713468598, -9.619770516844358, -6.380363164953941, -11.599600263341882, -21.428409839402544, -33.73679084412808, -4.506392497480103, 9.809908612054667, -24.139288193188666, -23.00337329352764, -18.55753745410894, -9.514907049922986, -11.881031249949617, -9.679052139828618, -10.332926129700917, -5.243983961747623, -7.768847434496895, -9.040994482066834, -9.745982472451406, -9.297185961593762, -16.551009858522157, -16.610186087831632, -5.743956070458348, -14.580785716459614, -21.409116972624805, -29.724926047701906, -11.168064713867322, -13.230894258917504, -15.119363521198682, -3.22715030345258, -4.052050477567072, -24.055358790300353, -20.56720524938506, -7.189098406782587, 8.729462328955485, -25.845080033838332, -12.97603113613145, 1.2675916857447187, 2.2360287119354174, -14.13625935401789, 0.8792517543301653, 3.1908609403037334, -3.2289136338498206, 2.0338841049130436, -1.8219237149156047, -5.472586083478307, -4.433751702280553, -11.870780266981168, -10.515496250202474, -12.657731969198592, -29.925780275964687, -6.1123558267443014, -12.176035729027996, -16.08222406364434, -8.872855061895436, 17.41605213690579, -6.522695726633118, -40.342707901337214, -4.182268883419854, -8.557167225619583, -1.7345896617052203, 1.221819379752564, -22.795604401331747, 12.457873510016748, 2.6782013297740903, -37.30514167761419, 20.828089353699205, 5.726273559461247, -1.5406854748152448, -1.8938955929890826], \"xaxis\": \"x\", \"y\": [7.6294093747377785, 2.970833107063693, 3.472475000882471, 7.271331776923354, 2.8187700676766174, -0.530694378218241, 2.7719808036016893, 5.001775428037773, -5.2270590185000705, 0.8339055296883298, -6.03547682042313, -6.787962390757253, -0.20151474782813017, -0.015452285811364612, 7.008475189189321, 0.3548718746270732, 0.5532927482669284, -0.9115071842983198, -2.3916297374869564, 2.475243455998963, 1.2802703604594772, 1.4084575548729246, 1.089818790753466, -0.3859681937495358, 1.0277814647007513, -2.725617667409968, 1.3842334963668657, -3.014359897410949, -9.246648943316634, -5.537402024852326, 3.9045714518117345, 0.6040314311784027, 4.624104745808451, 2.416881290678057, 7.742051394584119, 8.22769835154259, -1.9625600699152577, -1.968181910713591, 1.8964964542345923, 7.038142188170442, -8.586229557810139, -4.898909080850017, -3.687896572239595, -11.222944315575642, -2.0589516895074125, -4.5827741376622955, -3.4528397695425834, -4.157246569557789, -3.335470706409065, -10.390232925933685, -14.632237294134104, -13.060590521727814, -12.254124888652044, -9.497791922721602, -8.294096097564246, -3.538070361248705, -7.926139874378045, -14.622544563174271, -8.547071965008453, -8.425883464699487, 4.031044751258306, -0.9842812149841217, -2.4381784869512657, -4.285520554685697, -6.825968238957968, -8.690443607345308, -14.673581792809841, -11.601425552622302, -15.806676678701018, -11.969435927915681, 1.2942057867989956, 0.2175447812860923, -1.3929935881584499, 3.6991117068282247, -14.443575473551913, -11.630224852810882, -13.12851280803146, -13.086678429338745, -2.362320356395723, -8.25728192508491, -0.07229048737512749, 9.909973653515713, 15.324975840221757, 10.559276968147545, 4.172435652470639, 17.09019342790017, 5.2291045525295, -2.571888118399347, 3.839214962764137, 11.090557592244702, 2.4120689687875365, 4.724881241991842, 6.549089094393825, 5.103215059311083, 3.146556403004277, 5.400521085189202, 2.7869641583340927, 6.06601741025168, 4.2005146279842895, 5.0408188158338, 11.381687303736717, 2.076733549758847, 6.384101717391806, 6.216278744389432, 8.100343953899975, -1.6755713486433494, 5.487924282883399, 19.05675713294635, 4.975878251084685, 7.982361997057953, 6.043501285731326, 5.950000529629994, 16.114477701901997, 1.993484691379482, 6.347386527114115, 20.106852230154917, -3.7512180108761037, 3.6569238608738264, 2.426701710999715, 1.7655636588902224], \"yaxis\": \"y\"}],\n",
              "                        {\"coloraxis\": {\"colorbar\": {\"title\": {\"text\": \"color\"}}, \"colorscale\": [[0.0, \"#0d0887\"], [0.1111111111111111, \"#46039f\"], [0.2222222222222222, \"#7201a8\"], [0.3333333333333333, \"#9c179e\"], [0.4444444444444444, \"#bd3786\"], [0.5555555555555556, \"#d8576b\"], [0.6666666666666666, \"#ed7953\"], [0.7777777777777778, \"#fb9f3a\"], [0.8888888888888888, \"#fdca26\"], [1.0, \"#f0f921\"]]}, \"legend\": {\"tracegroupgap\": 0}, \"template\": {\"data\": {\"bar\": [{\"error_x\": {\"color\": \"#2a3f5f\"}, \"error_y\": {\"color\": \"#2a3f5f\"}, \"marker\": {\"line\": {\"color\": \"#E5ECF6\", \"width\": 0.5}}, \"type\": \"bar\"}], \"barpolar\": [{\"marker\": {\"line\": {\"color\": \"#E5ECF6\", \"width\": 0.5}}, \"type\": \"barpolar\"}], \"carpet\": [{\"aaxis\": {\"endlinecolor\": \"#2a3f5f\", \"gridcolor\": \"white\", \"linecolor\": \"white\", \"minorgridcolor\": \"white\", \"startlinecolor\": \"#2a3f5f\"}, \"baxis\": {\"endlinecolor\": \"#2a3f5f\", \"gridcolor\": \"white\", \"linecolor\": \"white\", \"minorgridcolor\": \"white\", \"startlinecolor\": \"#2a3f5f\"}, \"type\": \"carpet\"}], \"choropleth\": [{\"colorbar\": {\"outlinewidth\": 0, \"ticks\": \"\"}, \"type\": \"choropleth\"}], \"contour\": [{\"colorbar\": {\"outlinewidth\": 0, \"ticks\": \"\"}, \"colorscale\": [[0.0, \"#0d0887\"], [0.1111111111111111, \"#46039f\"], [0.2222222222222222, \"#7201a8\"], [0.3333333333333333, \"#9c179e\"], [0.4444444444444444, \"#bd3786\"], [0.5555555555555556, \"#d8576b\"], [0.6666666666666666, \"#ed7953\"], [0.7777777777777778, \"#fb9f3a\"], [0.8888888888888888, \"#fdca26\"], [1.0, \"#f0f921\"]], \"type\": \"contour\"}], \"contourcarpet\": [{\"colorbar\": {\"outlinewidth\": 0, \"ticks\": \"\"}, \"type\": \"contourcarpet\"}], \"heatmap\": [{\"colorbar\": {\"outlinewidth\": 0, \"ticks\": \"\"}, \"colorscale\": [[0.0, \"#0d0887\"], [0.1111111111111111, \"#46039f\"], [0.2222222222222222, \"#7201a8\"], [0.3333333333333333, \"#9c179e\"], [0.4444444444444444, \"#bd3786\"], [0.5555555555555556, \"#d8576b\"], [0.6666666666666666, \"#ed7953\"], [0.7777777777777778, \"#fb9f3a\"], [0.8888888888888888, \"#fdca26\"], [1.0, \"#f0f921\"]], \"type\": \"heatmap\"}], \"heatmapgl\": [{\"colorbar\": {\"outlinewidth\": 0, \"ticks\": \"\"}, \"colorscale\": [[0.0, \"#0d0887\"], [0.1111111111111111, \"#46039f\"], [0.2222222222222222, \"#7201a8\"], [0.3333333333333333, \"#9c179e\"], [0.4444444444444444, \"#bd3786\"], [0.5555555555555556, \"#d8576b\"], [0.6666666666666666, \"#ed7953\"], [0.7777777777777778, \"#fb9f3a\"], [0.8888888888888888, \"#fdca26\"], [1.0, \"#f0f921\"]], \"type\": \"heatmapgl\"}], \"histogram\": [{\"marker\": {\"colorbar\": {\"outlinewidth\": 0, \"ticks\": \"\"}}, \"type\": \"histogram\"}], \"histogram2d\": [{\"colorbar\": {\"outlinewidth\": 0, \"ticks\": \"\"}, \"colorscale\": [[0.0, \"#0d0887\"], [0.1111111111111111, \"#46039f\"], [0.2222222222222222, \"#7201a8\"], [0.3333333333333333, \"#9c179e\"], [0.4444444444444444, \"#bd3786\"], [0.5555555555555556, \"#d8576b\"], [0.6666666666666666, \"#ed7953\"], [0.7777777777777778, \"#fb9f3a\"], [0.8888888888888888, \"#fdca26\"], [1.0, \"#f0f921\"]], \"type\": \"histogram2d\"}], \"histogram2dcontour\": [{\"colorbar\": {\"outlinewidth\": 0, \"ticks\": \"\"}, \"colorscale\": [[0.0, \"#0d0887\"], [0.1111111111111111, \"#46039f\"], [0.2222222222222222, \"#7201a8\"], [0.3333333333333333, \"#9c179e\"], [0.4444444444444444, \"#bd3786\"], [0.5555555555555556, \"#d8576b\"], [0.6666666666666666, \"#ed7953\"], [0.7777777777777778, \"#fb9f3a\"], [0.8888888888888888, \"#fdca26\"], [1.0, \"#f0f921\"]], \"type\": \"histogram2dcontour\"}], \"mesh3d\": [{\"colorbar\": {\"outlinewidth\": 0, \"ticks\": \"\"}, \"type\": \"mesh3d\"}], \"parcoords\": [{\"line\": {\"colorbar\": {\"outlinewidth\": 0, \"ticks\": \"\"}}, \"type\": \"parcoords\"}], \"pie\": [{\"automargin\": true, \"type\": \"pie\"}], \"scatter\": [{\"marker\": {\"colorbar\": {\"outlinewidth\": 0, \"ticks\": \"\"}}, \"type\": \"scatter\"}], \"scatter3d\": [{\"line\": {\"colorbar\": {\"outlinewidth\": 0, \"ticks\": \"\"}}, \"marker\": {\"colorbar\": {\"outlinewidth\": 0, \"ticks\": \"\"}}, \"type\": \"scatter3d\"}], \"scattercarpet\": [{\"marker\": {\"colorbar\": {\"outlinewidth\": 0, \"ticks\": \"\"}}, \"type\": \"scattercarpet\"}], \"scattergeo\": [{\"marker\": {\"colorbar\": {\"outlinewidth\": 0, \"ticks\": \"\"}}, \"type\": \"scattergeo\"}], \"scattergl\": [{\"marker\": {\"colorbar\": {\"outlinewidth\": 0, \"ticks\": \"\"}}, \"type\": \"scattergl\"}], \"scattermapbox\": [{\"marker\": {\"colorbar\": {\"outlinewidth\": 0, \"ticks\": \"\"}}, \"type\": \"scattermapbox\"}], \"scatterpolar\": [{\"marker\": {\"colorbar\": {\"outlinewidth\": 0, \"ticks\": \"\"}}, \"type\": \"scatterpolar\"}], \"scatterpolargl\": [{\"marker\": {\"colorbar\": {\"outlinewidth\": 0, \"ticks\": \"\"}}, \"type\": \"scatterpolargl\"}], \"scatterternary\": [{\"marker\": {\"colorbar\": {\"outlinewidth\": 0, \"ticks\": \"\"}}, \"type\": \"scatterternary\"}], \"surface\": [{\"colorbar\": {\"outlinewidth\": 0, \"ticks\": \"\"}, \"colorscale\": [[0.0, \"#0d0887\"], [0.1111111111111111, \"#46039f\"], [0.2222222222222222, \"#7201a8\"], [0.3333333333333333, \"#9c179e\"], [0.4444444444444444, \"#bd3786\"], [0.5555555555555556, \"#d8576b\"], [0.6666666666666666, \"#ed7953\"], [0.7777777777777778, \"#fb9f3a\"], [0.8888888888888888, \"#fdca26\"], [1.0, \"#f0f921\"]], \"type\": \"surface\"}], \"table\": [{\"cells\": {\"fill\": {\"color\": \"#EBF0F8\"}, \"line\": {\"color\": \"white\"}}, \"header\": {\"fill\": {\"color\": \"#C8D4E3\"}, \"line\": {\"color\": \"white\"}}, \"type\": \"table\"}]}, \"layout\": {\"annotationdefaults\": {\"arrowcolor\": \"#2a3f5f\", \"arrowhead\": 0, \"arrowwidth\": 1}, \"coloraxis\": {\"colorbar\": {\"outlinewidth\": 0, \"ticks\": \"\"}}, \"colorscale\": {\"diverging\": [[0, \"#8e0152\"], [0.1, \"#c51b7d\"], [0.2, \"#de77ae\"], [0.3, \"#f1b6da\"], [0.4, \"#fde0ef\"], [0.5, \"#f7f7f7\"], [0.6, \"#e6f5d0\"], [0.7, \"#b8e186\"], [0.8, \"#7fbc41\"], [0.9, \"#4d9221\"], [1, \"#276419\"]], \"sequential\": [[0.0, \"#0d0887\"], [0.1111111111111111, \"#46039f\"], [0.2222222222222222, \"#7201a8\"], [0.3333333333333333, \"#9c179e\"], [0.4444444444444444, \"#bd3786\"], [0.5555555555555556, \"#d8576b\"], [0.6666666666666666, \"#ed7953\"], [0.7777777777777778, \"#fb9f3a\"], [0.8888888888888888, \"#fdca26\"], [1.0, \"#f0f921\"]], \"sequentialminus\": [[0.0, \"#0d0887\"], [0.1111111111111111, \"#46039f\"], [0.2222222222222222, \"#7201a8\"], [0.3333333333333333, \"#9c179e\"], [0.4444444444444444, \"#bd3786\"], [0.5555555555555556, \"#d8576b\"], [0.6666666666666666, \"#ed7953\"], [0.7777777777777778, \"#fb9f3a\"], [0.8888888888888888, \"#fdca26\"], [1.0, \"#f0f921\"]]}, \"colorway\": [\"#636efa\", \"#EF553B\", \"#00cc96\", \"#ab63fa\", \"#FFA15A\", \"#19d3f3\", \"#FF6692\", \"#B6E880\", \"#FF97FF\", \"#FECB52\"], \"font\": {\"color\": \"#2a3f5f\"}, \"geo\": {\"bgcolor\": \"white\", \"lakecolor\": \"white\", \"landcolor\": \"#E5ECF6\", \"showlakes\": true, \"showland\": true, \"subunitcolor\": \"white\"}, \"hoverlabel\": {\"align\": \"left\"}, \"hovermode\": \"closest\", \"mapbox\": {\"style\": \"light\"}, \"paper_bgcolor\": \"white\", \"plot_bgcolor\": \"#E5ECF6\", \"polar\": {\"angularaxis\": {\"gridcolor\": \"white\", \"linecolor\": \"white\", \"ticks\": \"\"}, \"bgcolor\": \"#E5ECF6\", \"radialaxis\": {\"gridcolor\": \"white\", \"linecolor\": \"white\", \"ticks\": \"\"}}, \"scene\": {\"xaxis\": {\"backgroundcolor\": \"#E5ECF6\", \"gridcolor\": \"white\", \"gridwidth\": 2, \"linecolor\": \"white\", \"showbackground\": true, \"ticks\": \"\", \"zerolinecolor\": \"white\"}, \"yaxis\": {\"backgroundcolor\": \"#E5ECF6\", \"gridcolor\": \"white\", \"gridwidth\": 2, \"linecolor\": \"white\", \"showbackground\": true, \"ticks\": \"\", \"zerolinecolor\": \"white\"}, \"zaxis\": {\"backgroundcolor\": \"#E5ECF6\", \"gridcolor\": \"white\", \"gridwidth\": 2, \"linecolor\": \"white\", \"showbackground\": true, \"ticks\": \"\", \"zerolinecolor\": \"white\"}}, \"shapedefaults\": {\"line\": {\"color\": \"#2a3f5f\"}}, \"ternary\": {\"aaxis\": {\"gridcolor\": \"white\", \"linecolor\": \"white\", \"ticks\": \"\"}, \"baxis\": {\"gridcolor\": \"white\", \"linecolor\": \"white\", \"ticks\": \"\"}, \"bgcolor\": \"#E5ECF6\", \"caxis\": {\"gridcolor\": \"white\", \"linecolor\": \"white\", \"ticks\": \"\"}}, \"title\": {\"x\": 0.05}, \"xaxis\": {\"automargin\": true, \"gridcolor\": \"white\", \"linecolor\": \"white\", \"ticks\": \"\", \"title\": {\"standoff\": 15}, \"zerolinecolor\": \"white\", \"zerolinewidth\": 2}, \"yaxis\": {\"automargin\": true, \"gridcolor\": \"white\", \"linecolor\": \"white\", \"ticks\": \"\", \"title\": {\"standoff\": 15}, \"zerolinecolor\": \"white\", \"zerolinewidth\": 2}}}, \"title\": {\"text\": \"PCA visualisation\"}, \"xaxis\": {\"anchor\": \"y\", \"domain\": [0.0, 1.0], \"title\": {\"text\": \"x\"}}, \"yaxis\": {\"anchor\": \"x\", \"domain\": [0.0, 1.0], \"title\": {\"text\": \"y\"}}},\n",
              "                        {\"responsive\": true}\n",
              "                    ).then(function(){\n",
              "                            \n",
              "var gd = document.getElementById('020bb32a-2643-4c74-bd7f-e2390e9196e8');\n",
              "var x = new MutationObserver(function (mutations, observer) {{\n",
              "        var display = window.getComputedStyle(gd).display;\n",
              "        if (!display || display === 'none') {{\n",
              "            console.log([gd, 'removed!']);\n",
              "            Plotly.purge(gd);\n",
              "            observer.disconnect();\n",
              "        }}\n",
              "}});\n",
              "\n",
              "// Listen for the removal of the full notebook cells\n",
              "var notebookContainer = gd.closest('#notebook-container');\n",
              "if (notebookContainer) {{\n",
              "    x.observe(notebookContainer, {childList: true});\n",
              "}}\n",
              "\n",
              "// Listen for the clearing of the current output cell\n",
              "var outputEl = gd.closest('.output');\n",
              "if (outputEl) {{\n",
              "    x.observe(outputEl, {childList: true});\n",
              "}}\n",
              "\n",
              "                        })\n",
              "                };\n",
              "                });\n",
              "            </script>\n",
              "        </div>"
            ]
          },
          "metadata": {
            "tags": []
          }
        }
      ]
    },
    {
      "cell_type": "code",
      "metadata": {
        "id": "dbh6KsHht4s0"
      },
      "source": [
        "X_train,X_test,y_train,y_test = train_test_split(principalDf,y,test_size = 0.2)"
      ],
      "execution_count": 63,
      "outputs": []
    },
    {
      "cell_type": "code",
      "metadata": {
        "id": "0Dv6Ehjxvnz2",
        "colab": {
          "base_uri": "https://localhost:8080/"
        },
        "outputId": "dc95d271-eff4-426d-8c48-f8b671cc3a92"
      },
      "source": [
        "X_train.shape"
      ],
      "execution_count": 64,
      "outputs": [
        {
          "output_type": "execute_result",
          "data": {
            "text/plain": [
              "(96, 2)"
            ]
          },
          "metadata": {
            "tags": []
          },
          "execution_count": 64
        }
      ]
    },
    {
      "cell_type": "code",
      "metadata": {
        "colab": {
          "base_uri": "https://localhost:8080/"
        },
        "id": "CZa1iiti9jxI",
        "outputId": "6c1080fa-e20f-4e39-fedb-820dd3994344"
      },
      "source": [
        "X_test.shape"
      ],
      "execution_count": 65,
      "outputs": [
        {
          "output_type": "execute_result",
          "data": {
            "text/plain": [
              "(24, 2)"
            ]
          },
          "metadata": {
            "tags": []
          },
          "execution_count": 65
        }
      ]
    },
    {
      "cell_type": "code",
      "metadata": {
        "id": "mGuslH27vqYT",
        "colab": {
          "base_uri": "https://localhost:8080/"
        },
        "outputId": "23bdbe97-810d-42f8-f852-194f7b936b3c"
      },
      "source": [
        "y_train.shape"
      ],
      "execution_count": 66,
      "outputs": [
        {
          "output_type": "execute_result",
          "data": {
            "text/plain": [
              "(96,)"
            ]
          },
          "metadata": {
            "tags": []
          },
          "execution_count": 66
        }
      ]
    },
    {
      "cell_type": "code",
      "metadata": {
        "id": "E4gvFo57up5p"
      },
      "source": [
        "def display_scores(scores):\n",
        "  print(\"Scores:\", scores)\n",
        "  print(\"Average:\", scores.mean())\n",
        "  print(\"Standard deviation:\", scores.std())"
      ],
      "execution_count": 67,
      "outputs": []
    },
    {
      "cell_type": "code",
      "metadata": {
        "id": "4hKCkeTX_XlA"
      },
      "source": [
        "def plot_cm(cm):\n",
        "  plt.subplots(figsize=(12, 12))\n",
        "  sns.heatmap(cm/np.sum(cm),annot=True,fmt=\" %\")"
      ],
      "execution_count": 68,
      "outputs": []
    },
    {
      "cell_type": "markdown",
      "metadata": {
        "id": "0vc5z5TTux_9"
      },
      "source": [
        "# **Logisitic Regression**"
      ]
    },
    {
      "cell_type": "code",
      "metadata": {
        "id": "MUECyFYAuxpo",
        "colab": {
          "base_uri": "https://localhost:8080/"
        },
        "outputId": "c48313a8-d565-4081-8949-3872596037dd"
      },
      "source": [
        "lr_model = LogisticRegression()\n",
        "lr_model.fit(X_train, y_train)"
      ],
      "execution_count": null,
      "outputs": [
        {
          "output_type": "execute_result",
          "data": {
            "text/plain": [
              "LogisticRegression(C=1.0, class_weight=None, dual=False, fit_intercept=True,\n",
              "                   intercept_scaling=1, l1_ratio=None, max_iter=100,\n",
              "                   multi_class='auto', n_jobs=None, penalty='l2',\n",
              "                   random_state=None, solver='lbfgs', tol=0.0001, verbose=0,\n",
              "                   warm_start=False)"
            ]
          },
          "metadata": {
            "tags": []
          },
          "execution_count": 133
        }
      ]
    },
    {
      "cell_type": "code",
      "metadata": {
        "colab": {
          "base_uri": "https://localhost:8080/"
        },
        "id": "ESwC9un0DH0i",
        "outputId": "cad9cbf6-af8a-45f9-e855-4193f5db3742"
      },
      "source": [
        "lr_model.coef_,lr_model.intercept_"
      ],
      "execution_count": null,
      "outputs": [
        {
          "output_type": "execute_result",
          "data": {
            "text/plain": [
              "(array([[ 0.37908355,  0.51206049],\n",
              "        [-0.47469112, -0.94830796],\n",
              "        [ 0.09560757,  0.43624747]]),\n",
              " array([-0.60411264, -1.80377362,  2.40788626]))"
            ]
          },
          "metadata": {
            "tags": []
          },
          "execution_count": 170
        }
      ]
    },
    {
      "cell_type": "code",
      "metadata": {
        "colab": {
          "base_uri": "https://localhost:8080/"
        },
        "id": "BnuU0at_-HGt",
        "outputId": "e03cb283-461e-4a25-a387-0d57fa121b9c"
      },
      "source": [
        "print(\"Accuracy of the model: {} %\".format(np.round(lr_model.score(X_test,y_test)*100,2)))"
      ],
      "execution_count": null,
      "outputs": [
        {
          "output_type": "stream",
          "text": [
            "Accuracy of the model: 95.83 %\n"
          ],
          "name": "stdout"
        }
      ]
    },
    {
      "cell_type": "code",
      "metadata": {
        "id": "mEwUrC2bzDQR"
      },
      "source": [
        "scores = cross_val_score(lr_model, X_train, y_train, cv=10)"
      ],
      "execution_count": null,
      "outputs": []
    },
    {
      "cell_type": "code",
      "metadata": {
        "id": "XbMOQxv5zS4N",
        "colab": {
          "base_uri": "https://localhost:8080/"
        },
        "outputId": "6b95cf1a-0c42-46c1-9fc0-832c63db445a"
      },
      "source": [
        "display_scores(scores)"
      ],
      "execution_count": null,
      "outputs": [
        {
          "output_type": "stream",
          "text": [
            "Scores: [1.         0.9        1.         1.         1.         1.\n",
            " 0.88888889 0.88888889 0.88888889 0.77777778]\n",
            "Average: 0.9344444444444445\n",
            "Standard deviation: 0.0731057073315377\n"
          ],
          "name": "stdout"
        }
      ]
    },
    {
      "cell_type": "code",
      "metadata": {
        "colab": {
          "base_uri": "https://localhost:8080/"
        },
        "id": "IDpS3Yb0_d0j",
        "outputId": "187a4a42-5430-4b9f-fbab-0bfe8aff00ae"
      },
      "source": [
        "y_pred = lr_model.predict(X_test)\n",
        "print(classification_report(y_test,y_pred))"
      ],
      "execution_count": null,
      "outputs": [
        {
          "output_type": "stream",
          "text": [
            "              precision    recall  f1-score   support\n",
            "\n",
            "           0       1.00      1.00      1.00        11\n",
            "           1       1.00      0.88      0.93         8\n",
            "           2       0.83      1.00      0.91         5\n",
            "\n",
            "    accuracy                           0.96        24\n",
            "   macro avg       0.94      0.96      0.95        24\n",
            "weighted avg       0.97      0.96      0.96        24\n",
            "\n"
          ],
          "name": "stdout"
        }
      ]
    },
    {
      "cell_type": "code",
      "metadata": {
        "id": "CUx7UcOh3dW8",
        "colab": {
          "base_uri": "https://localhost:8080/",
          "height": 701
        },
        "outputId": "2aa4ac08-728b-40d7-94c5-e7661ecd7969"
      },
      "source": [
        "plot_cm(confusion_matrix(y_test,y_pred))"
      ],
      "execution_count": null,
      "outputs": [
        {
          "output_type": "display_data",
          "data": {
            "image/png": "[encoded data removed]",
            "text/plain": [
              "<Figure size 864x864 with 2 Axes>"
            ]
          },
          "metadata": {
            "tags": []
          }
        }
      ]
    },
    {
      "cell_type": "code",
      "metadata": {
        "id": "qOVnXvLEJXhG"
      },
      "source": [
        "pickle.dump(lr_model,open('/content/drive/MyDrive/lr_model.pickle', 'wb'))"
      ],
      "execution_count": null,
      "outputs": []
    },
    {
      "cell_type": "markdown",
      "metadata": {
        "id": "k3iEM1InztBV"
      },
      "source": [
        "# **Random Forest**"
      ]
    },
    {
      "cell_type": "code",
      "metadata": {
        "id": "vQ6rBAzNzshG",
        "colab": {
          "base_uri": "https://localhost:8080/"
        },
        "outputId": "5434fa28-ee60-426e-8a75-dc8a9ffc3d28"
      },
      "source": [
        "rf_model = RandomForestClassifier()\n",
        "rf_model.fit(X_train,y_train)"
      ],
      "execution_count": null,
      "outputs": [
        {
          "output_type": "execute_result",
          "data": {
            "text/plain": [
              "RandomForestClassifier(bootstrap=True, ccp_alpha=0.0, class_weight=None,\n",
              "                       criterion='gini', max_depth=None, max_features='auto',\n",
              "                       max_leaf_nodes=None, max_samples=None,\n",
              "                       min_impurity_decrease=0.0, min_impurity_split=None,\n",
              "                       min_samples_leaf=1, min_samples_split=2,\n",
              "                       min_weight_fraction_leaf=0.0, n_estimators=100,\n",
              "                       n_jobs=None, oob_score=False, random_state=None,\n",
              "                       verbose=0, warm_start=False)"
            ]
          },
          "metadata": {
            "tags": []
          },
          "execution_count": 148
        }
      ]
    },
    {
      "cell_type": "code",
      "metadata": {
        "colab": {
          "base_uri": "https://localhost:8080/"
        },
        "id": "XEE89einAW_J",
        "outputId": "f0117961-138d-49c7-9a19-3d6f8316c709"
      },
      "source": [
        "print(\"Accuracy of the model: {} %\".format(np.round(rf_model.score(X_test,y_test)*100,2)))"
      ],
      "execution_count": null,
      "outputs": [
        {
          "output_type": "stream",
          "text": [
            "Accuracy of the model: 87.5 %\n"
          ],
          "name": "stdout"
        }
      ]
    },
    {
      "cell_type": "code",
      "metadata": {
        "id": "63OsConcz1Og"
      },
      "source": [
        "scores = cross_val_score(rf_model, X_train, y_train, cv=10)"
      ],
      "execution_count": null,
      "outputs": []
    },
    {
      "cell_type": "code",
      "metadata": {
        "id": "hmD7wn-fz4qH",
        "colab": {
          "base_uri": "https://localhost:8080/"
        },
        "outputId": "ae5480a6-6668-4ff2-e39e-fcfc409c5960"
      },
      "source": [
        "display_scores(scores)"
      ],
      "execution_count": null,
      "outputs": [
        {
          "output_type": "stream",
          "text": [
            "Scores: [0.9        0.9        1.         0.8        1.         1.\n",
            " 0.88888889 0.88888889 0.88888889 0.77777778]\n",
            "Average: 0.9044444444444446\n",
            "Standard deviation: 0.07423685817106696\n"
          ],
          "name": "stdout"
        }
      ]
    },
    {
      "cell_type": "code",
      "metadata": {
        "colab": {
          "base_uri": "https://localhost:8080/"
        },
        "id": "tN_-DQ7iDlF6",
        "outputId": "2305ce33-ad22-4f5c-8fbd-b958958144fa"
      },
      "source": [
        "y_pred = rf_model.predict(X_test)\n",
        "print(classification_report(y_test,y_pred))"
      ],
      "execution_count": null,
      "outputs": [
        {
          "output_type": "stream",
          "text": [
            "              precision    recall  f1-score   support\n",
            "\n",
            "           0       1.00      1.00      1.00        11\n",
            "           1       0.86      0.75      0.80         8\n",
            "           2       0.67      0.80      0.73         5\n",
            "\n",
            "    accuracy                           0.88        24\n",
            "   macro avg       0.84      0.85      0.84        24\n",
            "weighted avg       0.88      0.88      0.88        24\n",
            "\n"
          ],
          "name": "stdout"
        }
      ]
    },
    {
      "cell_type": "code",
      "metadata": {
        "id": "84C6M4Rt6iyv",
        "colab": {
          "base_uri": "https://localhost:8080/",
          "height": 701
        },
        "outputId": "59a44bcf-9070-41d9-9421-3877d4094f6b"
      },
      "source": [
        "plot_cm(confusion_matrix(y_test,y_pred))"
      ],
      "execution_count": null,
      "outputs": [
        {
          "output_type": "display_data",
          "data": {
            "image/png": "[encoded data removed]",
            "text/plain": [
              "<Figure size 864x864 with 2 Axes>"
            ]
          },
          "metadata": {
            "tags": []
          }
        }
      ]
    },
    {
      "cell_type": "code",
      "metadata": {
        "id": "GmECIpvTJtsZ"
      },
      "source": [
        "pickle.dump(rf_model,open('/content/drive/MyDrive/rf_model.pickle', 'wb'))"
      ],
      "execution_count": null,
      "outputs": []
    },
    {
      "cell_type": "markdown",
      "metadata": {
        "id": "sJe2F5uez_Wl"
      },
      "source": [
        "# **Support vector machine**"
      ]
    },
    {
      "cell_type": "code",
      "metadata": {
        "id": "EpQVQ623z_EW",
        "colab": {
          "base_uri": "https://localhost:8080/"
        },
        "outputId": "8bc24d0f-c7b8-42d0-cce0-fbd797e68789"
      },
      "source": [
        "svc_model = SVC()\n",
        "svc_model.fit(X_train,y_train)"
      ],
      "execution_count": null,
      "outputs": [
        {
          "output_type": "execute_result",
          "data": {
            "text/plain": [
              "SVC(C=1.0, break_ties=False, cache_size=200, class_weight=None, coef0=0.0,\n",
              "    decision_function_shape='ovr', degree=3, gamma='scale', kernel='rbf',\n",
              "    max_iter=-1, probability=False, random_state=None, shrinking=True,\n",
              "    tol=0.001, verbose=False)"
            ]
          },
          "metadata": {
            "tags": []
          },
          "execution_count": 179
        }
      ]
    },
    {
      "cell_type": "code",
      "metadata": {
        "colab": {
          "base_uri": "https://localhost:8080/"
        },
        "id": "GMnXO-4hDWkt",
        "outputId": "0509e44d-7a6d-4b1a-fa29-3b1501fba04b"
      },
      "source": [
        "print(\"Accuracy of the model: {} %\".format(np.round(svc_model.score(X_test,y_test)*100,2)))"
      ],
      "execution_count": null,
      "outputs": [
        {
          "output_type": "stream",
          "text": [
            "Accuracy of the model: 91.67 %\n"
          ],
          "name": "stdout"
        }
      ]
    },
    {
      "cell_type": "code",
      "metadata": {
        "id": "LjcQlQQ50Zmm"
      },
      "source": [
        "scores = cross_val_score(svc_model, X_train, y_train, cv=10)"
      ],
      "execution_count": null,
      "outputs": []
    },
    {
      "cell_type": "code",
      "metadata": {
        "id": "kARvuCu-0bnz",
        "colab": {
          "base_uri": "https://localhost:8080/"
        },
        "outputId": "d908493e-fecb-4468-93bd-2ac5d6763f23"
      },
      "source": [
        "display_scores(scores)"
      ],
      "execution_count": null,
      "outputs": [
        {
          "output_type": "stream",
          "text": [
            "Scores: [1.         0.8        1.         1.         1.         1.\n",
            " 0.88888889 0.88888889 0.88888889 0.66666667]\n",
            "Average: 0.9133333333333333\n",
            "Standard deviation: 0.10631887745693944\n"
          ],
          "name": "stdout"
        }
      ]
    },
    {
      "cell_type": "code",
      "metadata": {
        "id": "_RhM871D6z7W",
        "colab": {
          "base_uri": "https://localhost:8080/"
        },
        "outputId": "3ed5cf8e-68bf-4c82-c83e-582588fffcc0"
      },
      "source": [
        "y_pred = svc_model.predict(X_test)\n",
        "print(classification_report(y_test,y_pred))"
      ],
      "execution_count": null,
      "outputs": [
        {
          "output_type": "stream",
          "text": [
            "              precision    recall  f1-score   support\n",
            "\n",
            "           0       1.00      1.00      1.00        11\n",
            "           1       1.00      0.75      0.86         8\n",
            "           2       0.71      1.00      0.83         5\n",
            "\n",
            "    accuracy                           0.92        24\n",
            "   macro avg       0.90      0.92      0.90        24\n",
            "weighted avg       0.94      0.92      0.92        24\n",
            "\n"
          ],
          "name": "stdout"
        }
      ]
    },
    {
      "cell_type": "code",
      "metadata": {
        "colab": {
          "base_uri": "https://localhost:8080/",
          "height": 701
        },
        "id": "xMzXhXsoD10p",
        "outputId": "f34b3376-9bdd-4bca-c0f8-356c42ae9327"
      },
      "source": [
        "plot_cm(confusion_matrix(y_test,y_pred))"
      ],
      "execution_count": null,
      "outputs": [
        {
          "output_type": "display_data",
          "data": {
            "image/png": "[encoded data removed]",
            "text/plain": [
              "<Figure size 864x864 with 2 Axes>"
            ]
          },
          "metadata": {
            "tags": []
          }
        }
      ]
    },
    {
      "cell_type": "code",
      "metadata": {
        "id": "7endvuZhJvv1"
      },
      "source": [
        "pickle.dump(svc_model,open('/content/drive/MyDrive/svc_model.pickle', 'wb'))"
      ],
      "execution_count": null,
      "outputs": []
    }
  ]
}